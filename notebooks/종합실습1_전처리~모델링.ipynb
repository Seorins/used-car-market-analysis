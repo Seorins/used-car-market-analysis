{
 "cells": [
  {
   "cell_type": "markdown",
   "metadata": {
    "id": "jYVwMH6hxSae"
   },
   "source": [
    "## 시작을 위한 코드"
   ]
  },
  {
   "cell_type": "code",
   "execution_count": 2,
   "metadata": {
    "executionInfo": {
     "elapsed": 40,
     "status": "ok",
     "timestamp": 1742604209295,
     "user": {
      "displayName": "김성현",
      "userId": "09786982603210716097"
     },
     "user_tz": -540
    },
    "id": "-mGb3hoHWzHg"
   },
   "outputs": [],
   "source": [
    "import pandas as pd\n",
    "import numpy as np\n",
    "\n",
    "# 데이터 시각화\n",
    "import matplotlib\n",
    "import matplotlib.pyplot as plt\n",
    "import seaborn as sns\n",
    "from scipy import stats\n",
    "from statsmodels.stats.proportion import proportions_ztest\n",
    "\n",
    "# 선형회귀분석 모델\n",
    "import statsmodels.formula.api as smf\n",
    "# 회귀분석의 정규성 확인: qqplot, add_constant\n",
    "from statsmodels.api import qqplot, add_constant\n",
    "# 다중공선성 확인\n",
    "from statsmodels.stats.outliers_influence import variance_inflation_factor\n",
    "# 학습용/평가용 데이터 분리: train/test\n",
    "from sklearn.model_selection import train_test_split\n",
    "from sklearn.preprocessing import LabelEncoder\n",
    "# 선형회귀모형\n",
    "from sklearn.linear_model import LinearRegression\n",
    "# 변수 선택법(후진제거법)\n",
    "from sklearn.feature_selection import RFE\n",
    "# scale 변환 -> 표준화 회귀계수 산출\n",
    "from sklearn.preprocessing import StandardScaler\n",
    "# 평가 함수\n",
    "from sklearn.metrics import r2_score\n",
    "# 선형 모델\n",
    "from sklearn.linear_model import Ridge, Lasso, ElasticNet\n",
    "\n",
    "\n",
    "# 평가 함수\n",
    "from sklearn.metrics import mean_squared_error\n",
    "from sklearn.metrics import mean_absolute_error\n",
    "from sklearn.metrics import mean_absolute_percentage_error\n",
    "\n",
    "\n",
    "# export_graphviz: 나무 구조 생성 및 저장\n",
    "from sklearn.tree import export_graphviz\n",
    "# graphviz : 나무 구조 시각화  (.dot 확장자 파일 불러오기 등)\n",
    "\n",
    "# 데이터 분할:train, test\n",
    "from sklearn.model_selection import train_test_split\n",
    "# 예측/회귀 Decision Tree\n",
    "from sklearn.tree import DecisionTreeRegressor\n",
    "# 예측/회귀 Random Forest\n",
    "from sklearn.ensemble import RandomForestRegressor\n",
    "# 최적 모델, 파라미터 탐색\n",
    "from sklearn.model_selection import GridSearchCV\n",
    "# 예측/회귀 Gradient Boosting\n",
    "from sklearn.ensemble import GradientBoostingRegressor\n",
    "\n",
    "%matplotlib inline\n",
    "\n",
    "# 한글 폰트 설정 (맑은 고딕)\n",
    "matplotlib.rc(\"font\", family='Malgun Gothic')\n",
    "matplotlib.rc(\"axes\", unicode_minus=False)\n",
    "matplotlib.rcParams[\"font.family\"] = 'NanumGothic'\n",
    "\n",
    "# 실행결과 경고메시지 출력 제외\n",
    "import warnings\n",
    "\n",
    "warnings.filterwarnings('ignore')\n"
   ]
  },
  {
   "cell_type": "code",
   "execution_count": 3,
   "metadata": {
    "colab": {
     "base_uri": "https://localhost:8080/"
    },
    "executionInfo": {
     "elapsed": 7297,
     "status": "ok",
     "timestamp": 1742604216589,
     "user": {
      "displayName": "김성현",
      "userId": "09786982603210716097"
     },
     "user_tz": -540
    },
    "id": "ezPzajhaW5G6",
    "outputId": "1fd6ef2d-f1f9-430a-cefe-de40c485d4dd"
   },
   "outputs": [
    {
     "name": "stderr",
     "output_type": "stream",
     "text": [
      "'apt-get'은(는) 내부 또는 외부 명령, 실행할 수 있는 프로그램, 또는\n",
      "배치 파일이 아닙니다.\n",
      "'apt-get'은(는) 내부 또는 외부 명령, 실행할 수 있는 프로그램, 또는\n",
      "배치 파일이 아닙니다.\n",
      "'rm'은(는) 내부 또는 외부 명령, 실행할 수 있는 프로그램, 또는\n",
      "배치 파일이 아닙니다.\n"
     ]
    }
   ],
   "source": [
    "# 폰트 설치\n",
    "!apt-get update -qq\n",
    "!apt-get install fonts-nanum* -qq\n",
    "!rm ~/.cache/matplotlib -rf"
   ]
  },
  {
   "cell_type": "code",
   "execution_count": 4,
   "metadata": {
    "executionInfo": {
     "elapsed": 60,
     "status": "ok",
     "timestamp": 1742604216651,
     "user": {
      "displayName": "김성현",
      "userId": "09786982603210716097"
     },
     "user_tz": -540
    },
    "id": "SCau0A-vW-3M"
   },
   "outputs": [],
   "source": [
    "# 폰트 설정\n",
    "# import matplotlib.font_manager as fm  # Import the font_manager module\n",
    "# import matplotlib as mpl  # Import matplotlib\n",
    "\n",
    "# path = '/usr/share/fonts/truetype/nanum/NanumGothic.ttf'  # 나눔 고딕\n",
    "# font_name = fm.FontProperties(fname=path, size=20).get_name()  # 기본 폰트 사이즈 : 20\n",
    "# plt.rc('font', family=font_name)\n",
    "# fm.fontManager.addfont(path)\n",
    "# mpl.rcParams['axes.unicode_minus'] = False\n",
    "# %matplotlib inline"
   ]
  },
  {
   "cell_type": "code",
   "execution_count": 5,
   "metadata": {
    "executionInfo": {
     "elapsed": 21,
     "status": "ok",
     "timestamp": 1742604216669,
     "user": {
      "displayName": "김성현",
      "userId": "09786982603210716097"
     },
     "user_tz": -540
    },
    "id": "CuhiPoIrXLvZ"
   },
   "outputs": [],
   "source": [
    "# 'null'을 NaN으로 변환하며 CSV 파일 불러오기\n",
    "df_raw = pd.read_csv('./data/Car.csv',encoding='euc-kr', na_values=['null'])"
   ]
  },
  {
   "cell_type": "markdown",
   "metadata": {
    "id": "jdMhyu-Tb3ur"
   },
   "source": []
  },
  {
   "cell_type": "code",
   "execution_count": 11,
   "metadata": {
    "colab": {
     "base_uri": "https://localhost:8080/",
     "height": 491
    },
    "executionInfo": {
     "elapsed": 53,
     "status": "ok",
     "timestamp": 1742604216724,
     "user": {
      "displayName": "김성현",
      "userId": "09786982603210716097"
     },
     "user_tz": -540
    },
    "id": "0_nTTlLRXMX_",
    "outputId": "44eddcae-3429-41b2-b830-26adc4181f54"
   },
   "outputs": [
    {
     "data": {
      "text/plain": [
       "Name                    0\n",
       "Location                0\n",
       "Price                1053\n",
       "Year                    0\n",
       "Kilometers_Driven       0\n",
       "Fuel_Type               0\n",
       "Transmission            0\n",
       "Owner_Type              0\n",
       "Mileage                 2\n",
       "Engine                 46\n",
       "Power                  46\n",
       "Seats                  53\n",
       "New_Price            6247\n",
       "dtype: int64"
      ]
     },
     "execution_count": 11,
     "metadata": {},
     "output_type": "execute_result"
    }
   ],
   "source": [
    "df_raw.isnull().sum()"
   ]
  },
  {
   "cell_type": "markdown",
   "metadata": {
    "id": "tq165YsvX5AH"
   },
   "source": [
    "## 1. New Price drop"
   ]
  },
  {
   "cell_type": "code",
   "execution_count": 14,
   "metadata": {
    "executionInfo": {
     "elapsed": 12,
     "status": "ok",
     "timestamp": 1742604216733,
     "user": {
      "displayName": "김성현",
      "userId": "09786982603210716097"
     },
     "user_tz": -540
    },
    "id": "VKjjZOh9XTEB"
   },
   "outputs": [],
   "source": [
    "df_raw=df_raw.drop(['New_Price'], axis=1) # New Price 제거"
   ]
  },
  {
   "cell_type": "markdown",
   "metadata": {
    "id": "DoOXwxK9diJr"
   },
   "source": [
    "## 1.5. Name -> brand / name 분리 (Brand 파생변수 생성)"
   ]
  },
  {
   "cell_type": "code",
   "execution_count": 17,
   "metadata": {
    "executionInfo": {
     "elapsed": 54,
     "status": "ok",
     "timestamp": 1742604216785,
     "user": {
      "displayName": "김성현",
      "userId": "09786982603210716097"
     },
     "user_tz": -540
    },
    "id": "H_13qRyrdrdl"
   },
   "outputs": [],
   "source": [
    "import pandas as pd\n",
    "\n",
    "# 브랜드 리스트 (수정된 버전)\n",
    "valid_brands = {'Maruti', 'Hyundai', 'Honda', 'Audi', 'Nissan', 'Toyota',\n",
    "                'Volkswagen', 'Tata', 'LandRover', 'Mitsubishi', 'Renault',\n",
    "                'Mercedes-Benz', 'BMW', 'Mahindra', 'Ford', 'Porsche', 'Datsun',\n",
    "                'Jaguar', 'Volvo', 'Chevrolet', 'Skoda', 'Mini', 'Fiat', 'Jeep',\n",
    "                'Smart', 'ISUZU', 'Force', 'Bentley', 'Lamborghini',\n",
    "                'Hindustan', 'Opel'}\n",
    "\n",
    "# 브랜드명 수정 매핑\n",
    "brand_corrections = {\n",
    "    'Land': 'LandRover',  # 'Land' 단독 → 'Land Rover'로 수정\n",
    "    'OpelCorsa': 'Opel',  # 'OpelCorsa' → 'Opel'\n",
    "    'Ambassador': 'Hindustan'  # 'Ambassador' → 'Hindustan'\n",
    "}\n",
    "\n",
    "# Name 컬럼 정리\n",
    "def clean_name(name):\n",
    "    name_split = name.split(' ')\n",
    "    first_word = name_split[0]\n",
    "\n",
    "    # 브랜드명이 수정이 필요한 경우 변환\n",
    "    if first_word in brand_corrections:\n",
    "        first_word = brand_corrections[first_word]\n",
    "\n",
    "    # 브랜드명이 유효한 브랜드 리스트에 없으면 삭제 (이후 Brand 컬럼 생성 시 오류 방지)\n",
    "    if first_word not in valid_brands:\n",
    "        return 'UNKNOWN ' + ' '.join(name_split[1:])  # 잘못된 경우 UNKNOWN 태그 추가\n",
    "\n",
    "    # 수정된 브랜드명 + 원래 모델명 유지\n",
    "    return first_word + ' ' + ' '.join(name_split[1:])\n",
    "\n",
    "# Name 컬럼 업데이트\n",
    "df_raw['Name'] = df_raw['Name'].apply(clean_name)\n",
    "\n",
    "# Brand 컬럼 생성 (첫 번째 단어만 추출)\n",
    "df_raw['Brand'] = df_raw['Name'].str.split(' ').str[0]\n",
    "df_raw['Name'] = df_raw['Name'].str.replace(r'^\\S+\\s*', '', regex=True)\n",
    "df_raw = df_raw[['Brand'] + [col for col in df_raw.columns if col != 'Brand']]\n",
    "\n",
    "\n",
    "\n",
    "\n",
    "\n"
   ]
  },
  {
   "cell_type": "code",
   "execution_count": 19,
   "metadata": {
    "colab": {
     "base_uri": "https://localhost:8080/",
     "height": 0
    },
    "executionInfo": {
     "elapsed": 112,
     "status": "ok",
     "timestamp": 1742604216899,
     "user": {
      "displayName": "김성현",
      "userId": "09786982603210716097"
     },
     "user_tz": -540
    },
    "id": "5vMGMH_Od0cd",
    "outputId": "18bf6ff3-3336-4a3d-aa9c-bf5ffdccbf0c"
   },
   "outputs": [
    {
     "data": {
      "text/html": [
       "<div>\n",
       "<style scoped>\n",
       "    .dataframe tbody tr th:only-of-type {\n",
       "        vertical-align: middle;\n",
       "    }\n",
       "\n",
       "    .dataframe tbody tr th {\n",
       "        vertical-align: top;\n",
       "    }\n",
       "\n",
       "    .dataframe thead th {\n",
       "        text-align: right;\n",
       "    }\n",
       "</style>\n",
       "<table border=\"1\" class=\"dataframe\">\n",
       "  <thead>\n",
       "    <tr style=\"text-align: right;\">\n",
       "      <th></th>\n",
       "      <th>Brand</th>\n",
       "      <th>Name</th>\n",
       "      <th>Location</th>\n",
       "      <th>Price</th>\n",
       "      <th>Year</th>\n",
       "      <th>Kilometers_Driven</th>\n",
       "      <th>Fuel_Type</th>\n",
       "      <th>Transmission</th>\n",
       "      <th>Owner_Type</th>\n",
       "      <th>Mileage</th>\n",
       "      <th>Engine</th>\n",
       "      <th>Power</th>\n",
       "      <th>Seats</th>\n",
       "    </tr>\n",
       "  </thead>\n",
       "  <tbody>\n",
       "    <tr>\n",
       "      <th>0</th>\n",
       "      <td>Maruti</td>\n",
       "      <td>Wagon R LXI CNG</td>\n",
       "      <td>Mumbai</td>\n",
       "      <td>2682.68</td>\n",
       "      <td>2010</td>\n",
       "      <td>72000</td>\n",
       "      <td>CNG</td>\n",
       "      <td>Manual</td>\n",
       "      <td>First</td>\n",
       "      <td>26.6 kmpl</td>\n",
       "      <td>998 CC</td>\n",
       "      <td>58.16 bhp</td>\n",
       "      <td>5.0</td>\n",
       "    </tr>\n",
       "    <tr>\n",
       "      <th>1</th>\n",
       "      <td>Hyundai</td>\n",
       "      <td>Creta 1.6 CRDi SX Option</td>\n",
       "      <td>Pune</td>\n",
       "      <td>19162.00</td>\n",
       "      <td>2015</td>\n",
       "      <td>41000</td>\n",
       "      <td>Diesel</td>\n",
       "      <td>Manual</td>\n",
       "      <td>First</td>\n",
       "      <td>19.67 kmpl</td>\n",
       "      <td>1582 CC</td>\n",
       "      <td>126.2 bhp</td>\n",
       "      <td>5.0</td>\n",
       "    </tr>\n",
       "    <tr>\n",
       "      <th>2</th>\n",
       "      <td>Honda</td>\n",
       "      <td>Jazz V</td>\n",
       "      <td>Chennai</td>\n",
       "      <td>6898.32</td>\n",
       "      <td>2011</td>\n",
       "      <td>46000</td>\n",
       "      <td>Petrol</td>\n",
       "      <td>Manual</td>\n",
       "      <td>First</td>\n",
       "      <td>18.2 kmpl</td>\n",
       "      <td>1199 CC</td>\n",
       "      <td>88.7 bhp</td>\n",
       "      <td>5.0</td>\n",
       "    </tr>\n",
       "    <tr>\n",
       "      <th>3</th>\n",
       "      <td>Maruti</td>\n",
       "      <td>Ertiga VDI</td>\n",
       "      <td>Chennai</td>\n",
       "      <td>9197.76</td>\n",
       "      <td>2012</td>\n",
       "      <td>87000</td>\n",
       "      <td>Diesel</td>\n",
       "      <td>Manual</td>\n",
       "      <td>First</td>\n",
       "      <td>20.77 kmpl</td>\n",
       "      <td>1248 CC</td>\n",
       "      <td>88.76 bhp</td>\n",
       "      <td>7.0</td>\n",
       "    </tr>\n",
       "    <tr>\n",
       "      <th>4</th>\n",
       "      <td>Audi</td>\n",
       "      <td>A4 New 2.0 TDI Multitronic</td>\n",
       "      <td>Coimbatore</td>\n",
       "      <td>27194.71</td>\n",
       "      <td>2013</td>\n",
       "      <td>40670</td>\n",
       "      <td>Diesel</td>\n",
       "      <td>Automatic</td>\n",
       "      <td>Second</td>\n",
       "      <td>15.2 kmpl</td>\n",
       "      <td>1968 CC</td>\n",
       "      <td>140.8 bhp</td>\n",
       "      <td>5.0</td>\n",
       "    </tr>\n",
       "  </tbody>\n",
       "</table>\n",
       "</div>"
      ],
      "text/plain": [
       "     Brand                        Name    Location     Price  Year  \\\n",
       "0   Maruti             Wagon R LXI CNG      Mumbai   2682.68  2010   \n",
       "1  Hyundai    Creta 1.6 CRDi SX Option        Pune  19162.00  2015   \n",
       "2    Honda                      Jazz V     Chennai   6898.32  2011   \n",
       "3   Maruti                  Ertiga VDI     Chennai   9197.76  2012   \n",
       "4     Audi  A4 New 2.0 TDI Multitronic  Coimbatore  27194.71  2013   \n",
       "\n",
       "   Kilometers_Driven Fuel_Type Transmission Owner_Type     Mileage   Engine  \\\n",
       "0              72000       CNG       Manual      First   26.6 kmpl   998 CC   \n",
       "1              41000    Diesel       Manual      First  19.67 kmpl  1582 CC   \n",
       "2              46000    Petrol       Manual      First   18.2 kmpl  1199 CC   \n",
       "3              87000    Diesel       Manual      First  20.77 kmpl  1248 CC   \n",
       "4              40670    Diesel    Automatic     Second   15.2 kmpl  1968 CC   \n",
       "\n",
       "       Power  Seats  \n",
       "0  58.16 bhp    5.0  \n",
       "1  126.2 bhp    5.0  \n",
       "2   88.7 bhp    5.0  \n",
       "3  88.76 bhp    7.0  \n",
       "4  140.8 bhp    5.0  "
      ]
     },
     "execution_count": 19,
     "metadata": {},
     "output_type": "execute_result"
    }
   ],
   "source": [
    "df_raw.head()"
   ]
  },
  {
   "cell_type": "code",
   "execution_count": null,
   "metadata": {
    "executionInfo": {
     "elapsed": 7,
     "status": "ok",
     "timestamp": 1742604216900,
     "user": {
      "displayName": "김성현",
      "userId": "09786982603210716097"
     },
     "user_tz": -540
    },
    "id": "HgxX3QV5d2cS"
   },
   "outputs": [],
   "source": []
  },
  {
   "cell_type": "markdown",
   "metadata": {
    "id": "CGAUfUL2YGVU"
   },
   "source": [
    "## 2. 단위 분리+자료형 변경"
   ]
  },
  {
   "cell_type": "markdown",
   "metadata": {
    "id": "5JANImN_YTm7"
   },
   "source": [
    "### 2-1.마일리지"
   ]
  },
  {
   "cell_type": "code",
   "execution_count": 24,
   "metadata": {
    "executionInfo": {
     "elapsed": 61,
     "status": "ok",
     "timestamp": 1742604216957,
     "user": {
      "displayName": "김성현",
      "userId": "09786982603210716097"
     },
     "user_tz": -540
    },
    "id": "NRgG21QqX2xT"
   },
   "outputs": [],
   "source": [
    "df_raw[['Mileage(kmpl)','Mileage_unit']] = df_raw['Mileage'].str.split(expand = True)\n",
    "df_raw['Mileage(kmpl)'] = df_raw['Mileage(kmpl)'].astype('float64')"
   ]
  },
  {
   "cell_type": "markdown",
   "metadata": {
    "id": "HJzo1XNBYh7O"
   },
   "source": [
    "### 2-2. Engine"
   ]
  },
  {
   "cell_type": "code",
   "execution_count": 27,
   "metadata": {
    "executionInfo": {
     "elapsed": 8,
     "status": "ok",
     "timestamp": 1742604216982,
     "user": {
      "displayName": "김성현",
      "userId": "09786982603210716097"
     },
     "user_tz": -540
    },
    "id": "_Nug2PF_YK9w"
   },
   "outputs": [],
   "source": [
    "df_raw[['Engine(CC)', 'Engine_unit']] = df_raw['Engine'].str.split(expand = True)\n",
    "df_raw['Engine(CC)'] = df_raw['Engine(CC)'].astype('float64')"
   ]
  },
  {
   "cell_type": "markdown",
   "metadata": {
    "id": "wqY5Tu7zYkTw"
   },
   "source": [
    "### 2-3. Power"
   ]
  },
  {
   "cell_type": "code",
   "execution_count": 30,
   "metadata": {
    "executionInfo": {
     "elapsed": 54,
     "status": "ok",
     "timestamp": 1742604217033,
     "user": {
      "displayName": "김성현",
      "userId": "09786982603210716097"
     },
     "user_tz": -540
    },
    "id": "ws3VPfRxYMsA"
   },
   "outputs": [],
   "source": [
    "df_raw[['Power(bhp)', 'Power_unit']] = df_raw['Power'].str.split(expand = True)\n",
    "# df_raw['Power(bhp)'] = df_raw['Power(bhp)'].astype('float64')\n",
    "df_raw['Power(bhp)'] = pd.to_numeric(df_raw['Power(bhp)'], errors='coerce')\n",
    "# 파워에 결측값 있는거 같아\n",
    "# chatgpt에서 찾은 분리 방법으로 해결"
   ]
  },
  {
   "cell_type": "markdown",
   "metadata": {
    "id": "Vkbkq5-DYsNO"
   },
   "source": [
    "### 2-4. 기존 mileage, engine, power 컬럼 제거"
   ]
  },
  {
   "cell_type": "code",
   "execution_count": 33,
   "metadata": {
    "executionInfo": {
     "elapsed": 29,
     "status": "ok",
     "timestamp": 1742604217035,
     "user": {
      "displayName": "김성현",
      "userId": "09786982603210716097"
     },
     "user_tz": -540
    },
    "id": "hFFF1UBgYO_Z"
   },
   "outputs": [],
   "source": [
    "df_raw=df_raw.drop(['Mileage','Engine','Power','Mileage_unit','Engine_unit','Power_unit'], axis=1)"
   ]
  },
  {
   "cell_type": "code",
   "execution_count": null,
   "metadata": {
    "executionInfo": {
     "elapsed": 11,
     "status": "ok",
     "timestamp": 1742604217036,
     "user": {
      "displayName": "김성현",
      "userId": "09786982603210716097"
     },
     "user_tz": -540
    },
    "id": "P0rsMANHYz8c"
   },
   "outputs": [],
   "source": []
  },
  {
   "cell_type": "markdown",
   "metadata": {
    "id": "JOG4KCzaY9gL"
   },
   "source": [
    "## 3. 이상치 탐색 & 처리"
   ]
  },
  {
   "cell_type": "markdown",
   "metadata": {
    "id": "pi3mc_9QZMci"
   },
   "source": [
    "### 3-1. Price 이상치"
   ]
  },
  {
   "cell_type": "code",
   "execution_count": 38,
   "metadata": {
    "executionInfo": {
     "elapsed": 12,
     "status": "ok",
     "timestamp": 1742604217039,
     "user": {
      "displayName": "김성현",
      "userId": "09786982603210716097"
     },
     "user_tz": -540
    },
    "id": "2tR2lgs3Y6mk"
   },
   "outputs": [],
   "source": [
    "# 벤츠 가격이 7.08 -> 결측값으로 처리\n",
    "df_raw.loc[df_raw['Name']=='Elite i20 Magna Plus','Price']=None # test data에 추가 (index=7236)"
   ]
  },
  {
   "cell_type": "code",
   "execution_count": 40,
   "metadata": {
    "executionInfo": {
     "elapsed": 2,
     "status": "ok",
     "timestamp": 1742604217043,
     "user": {
      "displayName": "김성현",
      "userId": "09786982603210716097"
     },
     "user_tz": -540
    },
    "id": "pCmN0EtCjMkM"
   },
   "outputs": [],
   "source": [
    "# 벤츠 AMG 가격이 너무 싸서 결측값으로 처리\n",
    "df_raw.loc[df_raw['Name']=='SLC 43 AMG','Price']=None"
   ]
  },
  {
   "cell_type": "code",
   "execution_count": 42,
   "metadata": {
    "executionInfo": {
     "elapsed": 9,
     "status": "ok",
     "timestamp": 1742604217082,
     "user": {
      "displayName": "김성현",
      "userId": "09786982603210716097"
     },
     "user_tz": -540
    },
    "id": "YgKZ5i9bkiyw"
   },
   "outputs": [],
   "source": [
    "# 타타 nano CX도 너무 싸서 모델에 성능을 떨어뜨릴거 같아서 제거\n",
    "df_raw.loc[df_raw['Name']=='Nano CX','Price']=None"
   ]
  },
  {
   "cell_type": "code",
   "execution_count": 44,
   "metadata": {
    "executionInfo": {
     "elapsed": 4,
     "status": "ok",
     "timestamp": 1742604217091,
     "user": {
      "displayName": "김성현",
      "userId": "09786982603210716097"
     },
     "user_tz": -540
    },
    "id": "TI4shPvcE8eL"
   },
   "outputs": [],
   "source": [
    "# Porche 가격이 너무 싸서 결측값 처리\n",
    "df_raw.loc[df_raw['Name']=='Cayenne Base','Price']=None\n"
   ]
  },
  {
   "cell_type": "code",
   "execution_count": 46,
   "metadata": {
    "colab": {
     "base_uri": "https://localhost:8080/",
     "height": 0
    },
    "executionInfo": {
     "elapsed": 158,
     "status": "ok",
     "timestamp": 1742604217260,
     "user": {
      "displayName": "김성현",
      "userId": "09786982603210716097"
     },
     "user_tz": -540
    },
    "id": "RXTwDDO2S3Xz",
    "outputId": "94c246e4-efe3-471e-c769-029d579dfec4"
   },
   "outputs": [
    {
     "data": {
      "text/html": [
       "<div>\n",
       "<style scoped>\n",
       "    .dataframe tbody tr th:only-of-type {\n",
       "        vertical-align: middle;\n",
       "    }\n",
       "\n",
       "    .dataframe tbody tr th {\n",
       "        vertical-align: top;\n",
       "    }\n",
       "\n",
       "    .dataframe thead th {\n",
       "        text-align: right;\n",
       "    }\n",
       "</style>\n",
       "<table border=\"1\" class=\"dataframe\">\n",
       "  <thead>\n",
       "    <tr style=\"text-align: right;\">\n",
       "      <th></th>\n",
       "      <th>Brand</th>\n",
       "      <th>Name</th>\n",
       "      <th>Location</th>\n",
       "      <th>Price</th>\n",
       "      <th>Year</th>\n",
       "      <th>Kilometers_Driven</th>\n",
       "      <th>Fuel_Type</th>\n",
       "      <th>Transmission</th>\n",
       "      <th>Owner_Type</th>\n",
       "      <th>Seats</th>\n",
       "      <th>Mileage(kmpl)</th>\n",
       "      <th>Engine(CC)</th>\n",
       "      <th>Power(bhp)</th>\n",
       "    </tr>\n",
       "  </thead>\n",
       "  <tbody>\n",
       "    <tr>\n",
       "      <th>2328</th>\n",
       "      <td>BMW</td>\n",
       "      <td>X5 xDrive 30d M Sport</td>\n",
       "      <td>Chennai</td>\n",
       "      <td>99642.40</td>\n",
       "      <td>2017</td>\n",
       "      <td>6500000</td>\n",
       "      <td>Diesel</td>\n",
       "      <td>Automatic</td>\n",
       "      <td>First</td>\n",
       "      <td>5.0</td>\n",
       "      <td>15.97</td>\n",
       "      <td>2993.0</td>\n",
       "      <td>258.00</td>\n",
       "    </tr>\n",
       "    <tr>\n",
       "      <th>340</th>\n",
       "      <td>Skoda</td>\n",
       "      <td>Octavia Ambition Plus 2.0 TDI AT</td>\n",
       "      <td>Kolkata</td>\n",
       "      <td>11497.20</td>\n",
       "      <td>2013</td>\n",
       "      <td>775000</td>\n",
       "      <td>Diesel</td>\n",
       "      <td>Automatic</td>\n",
       "      <td>First</td>\n",
       "      <td>5.0</td>\n",
       "      <td>19.30</td>\n",
       "      <td>1968.0</td>\n",
       "      <td>141.00</td>\n",
       "    </tr>\n",
       "    <tr>\n",
       "      <th>1860</th>\n",
       "      <td>Volkswagen</td>\n",
       "      <td>Vento Diesel Highline</td>\n",
       "      <td>Chennai</td>\n",
       "      <td>9044.46</td>\n",
       "      <td>2013</td>\n",
       "      <td>720000</td>\n",
       "      <td>Diesel</td>\n",
       "      <td>Manual</td>\n",
       "      <td>First</td>\n",
       "      <td>5.0</td>\n",
       "      <td>20.54</td>\n",
       "      <td>1598.0</td>\n",
       "      <td>103.60</td>\n",
       "    </tr>\n",
       "    <tr>\n",
       "      <th>358</th>\n",
       "      <td>Hyundai</td>\n",
       "      <td>i10 Magna 1.2</td>\n",
       "      <td>Chennai</td>\n",
       "      <td>4138.99</td>\n",
       "      <td>2009</td>\n",
       "      <td>620000</td>\n",
       "      <td>Petrol</td>\n",
       "      <td>Manual</td>\n",
       "      <td>First</td>\n",
       "      <td>5.0</td>\n",
       "      <td>20.36</td>\n",
       "      <td>1197.0</td>\n",
       "      <td>78.90</td>\n",
       "    </tr>\n",
       "    <tr>\n",
       "      <th>2823</th>\n",
       "      <td>Volkswagen</td>\n",
       "      <td>Jetta 2013-2015 2.0L TDI Highline AT</td>\n",
       "      <td>Chennai</td>\n",
       "      <td>19928.48</td>\n",
       "      <td>2015</td>\n",
       "      <td>480000</td>\n",
       "      <td>Diesel</td>\n",
       "      <td>Automatic</td>\n",
       "      <td>First</td>\n",
       "      <td>5.0</td>\n",
       "      <td>16.96</td>\n",
       "      <td>1968.0</td>\n",
       "      <td>138.03</td>\n",
       "    </tr>\n",
       "    <tr>\n",
       "      <th>...</th>\n",
       "      <td>...</td>\n",
       "      <td>...</td>\n",
       "      <td>...</td>\n",
       "      <td>...</td>\n",
       "      <td>...</td>\n",
       "      <td>...</td>\n",
       "      <td>...</td>\n",
       "      <td>...</td>\n",
       "      <td>...</td>\n",
       "      <td>...</td>\n",
       "      <td>...</td>\n",
       "      <td>...</td>\n",
       "      <td>...</td>\n",
       "    </tr>\n",
       "    <tr>\n",
       "      <th>5339</th>\n",
       "      <td>Hyundai</td>\n",
       "      <td>i20 Active SX Dual Tone Petrol</td>\n",
       "      <td>Pune</td>\n",
       "      <td>13183.46</td>\n",
       "      <td>2019</td>\n",
       "      <td>1000</td>\n",
       "      <td>Petrol</td>\n",
       "      <td>Manual</td>\n",
       "      <td>First</td>\n",
       "      <td>5.0</td>\n",
       "      <td>17.19</td>\n",
       "      <td>1197.0</td>\n",
       "      <td>81.86</td>\n",
       "    </tr>\n",
       "    <tr>\n",
       "      <th>1598</th>\n",
       "      <td>Tata</td>\n",
       "      <td>Xenon XT EX 4X2</td>\n",
       "      <td>Jaipur</td>\n",
       "      <td>11497.20</td>\n",
       "      <td>2017</td>\n",
       "      <td>1000</td>\n",
       "      <td>Diesel</td>\n",
       "      <td>Manual</td>\n",
       "      <td>First</td>\n",
       "      <td>5.0</td>\n",
       "      <td>13.49</td>\n",
       "      <td>2179.0</td>\n",
       "      <td>138.03</td>\n",
       "    </tr>\n",
       "    <tr>\n",
       "      <th>1242</th>\n",
       "      <td>Jaguar</td>\n",
       "      <td>XE 2.0L Diesel Prestige</td>\n",
       "      <td>Delhi</td>\n",
       "      <td>61318.40</td>\n",
       "      <td>2018</td>\n",
       "      <td>1000</td>\n",
       "      <td>Diesel</td>\n",
       "      <td>Automatic</td>\n",
       "      <td>First</td>\n",
       "      <td>5.0</td>\n",
       "      <td>13.60</td>\n",
       "      <td>1999.0</td>\n",
       "      <td>177.00</td>\n",
       "    </tr>\n",
       "    <tr>\n",
       "      <th>5606</th>\n",
       "      <td>Maruti</td>\n",
       "      <td>Wagon R ZXI AMT 1.2</td>\n",
       "      <td>Mumbai</td>\n",
       "      <td>9581.00</td>\n",
       "      <td>2019</td>\n",
       "      <td>600</td>\n",
       "      <td>Petrol</td>\n",
       "      <td>Automatic</td>\n",
       "      <td>First</td>\n",
       "      <td>5.0</td>\n",
       "      <td>21.50</td>\n",
       "      <td>1197.0</td>\n",
       "      <td>81.80</td>\n",
       "    </tr>\n",
       "    <tr>\n",
       "      <th>1361</th>\n",
       "      <td>Maruti</td>\n",
       "      <td>Alto 800 2016-2019 VXI</td>\n",
       "      <td>Mumbai</td>\n",
       "      <td>5518.66</td>\n",
       "      <td>2019</td>\n",
       "      <td>171</td>\n",
       "      <td>Petrol</td>\n",
       "      <td>Manual</td>\n",
       "      <td>First</td>\n",
       "      <td>5.0</td>\n",
       "      <td>24.70</td>\n",
       "      <td>796.0</td>\n",
       "      <td>47.30</td>\n",
       "    </tr>\n",
       "  </tbody>\n",
       "</table>\n",
       "<p>7253 rows × 13 columns</p>\n",
       "</div>"
      ],
      "text/plain": [
       "           Brand                                  Name Location     Price  \\\n",
       "2328         BMW                 X5 xDrive 30d M Sport  Chennai  99642.40   \n",
       "340        Skoda      Octavia Ambition Plus 2.0 TDI AT  Kolkata  11497.20   \n",
       "1860  Volkswagen                 Vento Diesel Highline  Chennai   9044.46   \n",
       "358      Hyundai                         i10 Magna 1.2  Chennai   4138.99   \n",
       "2823  Volkswagen  Jetta 2013-2015 2.0L TDI Highline AT  Chennai  19928.48   \n",
       "...          ...                                   ...      ...       ...   \n",
       "5339     Hyundai        i20 Active SX Dual Tone Petrol     Pune  13183.46   \n",
       "1598        Tata                       Xenon XT EX 4X2   Jaipur  11497.20   \n",
       "1242      Jaguar               XE 2.0L Diesel Prestige    Delhi  61318.40   \n",
       "5606      Maruti                   Wagon R ZXI AMT 1.2   Mumbai   9581.00   \n",
       "1361      Maruti                Alto 800 2016-2019 VXI   Mumbai   5518.66   \n",
       "\n",
       "      Year  Kilometers_Driven Fuel_Type Transmission Owner_Type  Seats  \\\n",
       "2328  2017            6500000    Diesel    Automatic      First    5.0   \n",
       "340   2013             775000    Diesel    Automatic      First    5.0   \n",
       "1860  2013             720000    Diesel       Manual      First    5.0   \n",
       "358   2009             620000    Petrol       Manual      First    5.0   \n",
       "2823  2015             480000    Diesel    Automatic      First    5.0   \n",
       "...    ...                ...       ...          ...        ...    ...   \n",
       "5339  2019               1000    Petrol       Manual      First    5.0   \n",
       "1598  2017               1000    Diesel       Manual      First    5.0   \n",
       "1242  2018               1000    Diesel    Automatic      First    5.0   \n",
       "5606  2019                600    Petrol    Automatic      First    5.0   \n",
       "1361  2019                171    Petrol       Manual      First    5.0   \n",
       "\n",
       "      Mileage(kmpl)  Engine(CC)  Power(bhp)  \n",
       "2328          15.97      2993.0      258.00  \n",
       "340           19.30      1968.0      141.00  \n",
       "1860          20.54      1598.0      103.60  \n",
       "358           20.36      1197.0       78.90  \n",
       "2823          16.96      1968.0      138.03  \n",
       "...             ...         ...         ...  \n",
       "5339          17.19      1197.0       81.86  \n",
       "1598          13.49      2179.0      138.03  \n",
       "1242          13.60      1999.0      177.00  \n",
       "5606          21.50      1197.0       81.80  \n",
       "1361          24.70       796.0       47.30  \n",
       "\n",
       "[7253 rows x 13 columns]"
      ]
     },
     "execution_count": 46,
     "metadata": {},
     "output_type": "execute_result"
    }
   ],
   "source": [
    "df_raw.sort_values(by='Kilometers_Driven',ascending=False)"
   ]
  },
  {
   "cell_type": "markdown",
   "metadata": {
    "id": "A4L4HuUvZwzg"
   },
   "source": [
    "### 3-2. Km 이상치"
   ]
  },
  {
   "cell_type": "code",
   "execution_count": 49,
   "metadata": {
    "colab": {
     "base_uri": "https://localhost:8080/"
    },
    "executionInfo": {
     "elapsed": 42,
     "status": "ok",
     "timestamp": 1742604217263,
     "user": {
      "displayName": "김성현",
      "userId": "09786982603210716097"
     },
     "user_tz": -540
    },
    "id": "5izu1Gl-cAOn",
    "outputId": "6d2d75cb-867f-4c7f-c58b-ec6059f5d8bc"
   },
   "outputs": [
    {
     "name": "stdout",
     "output_type": "stream",
     "text": [
      "<class 'pandas.core.frame.DataFrame'>\n",
      "RangeIndex: 7253 entries, 0 to 7252\n",
      "Data columns (total 13 columns):\n",
      " #   Column             Non-Null Count  Dtype  \n",
      "---  ------             --------------  -----  \n",
      " 0   Brand              7253 non-null   object \n",
      " 1   Name               7253 non-null   object \n",
      " 2   Location           7253 non-null   object \n",
      " 3   Price              6194 non-null   float64\n",
      " 4   Year               7253 non-null   int64  \n",
      " 5   Kilometers_Driven  7253 non-null   int64  \n",
      " 6   Fuel_Type          7253 non-null   object \n",
      " 7   Transmission       7253 non-null   object \n",
      " 8   Owner_Type         7253 non-null   object \n",
      " 9   Seats              7200 non-null   float64\n",
      " 10  Mileage(kmpl)      7251 non-null   float64\n",
      " 11  Engine(CC)         7207 non-null   float64\n",
      " 12  Power(bhp)         7078 non-null   float64\n",
      "dtypes: float64(5), int64(2), object(6)\n",
      "memory usage: 736.8+ KB\n"
     ]
    }
   ],
   "source": [
    "df_raw.info()"
   ]
  },
  {
   "cell_type": "code",
   "execution_count": 51,
   "metadata": {
    "executionInfo": {
     "elapsed": 8,
     "status": "ok",
     "timestamp": 1742604217266,
     "user": {
      "displayName": "김성현",
      "userId": "09786982603210716097"
     },
     "user_tz": -540
    },
    "id": "lvEXDINvZvFi"
   },
   "outputs": [],
   "source": [
    "# 1. 해당 모델만 필터링\n",
    "mask = df_raw['Name'] == 'X5 xDrive 30d M Sport'\n",
    "\n",
    "# 2. 정상적인 Kilometers_Driven 평균 계산 (이상치 제외)\n",
    "valid_mean = df_raw.loc[mask & (df_raw['Kilometers_Driven'] != 6500000), 'Kilometers_Driven'].mean()\n",
    "\n",
    "# 3. 이상치 값을 평균으로 대체\n",
    "df_raw.loc[mask & (df_raw['Kilometers_Driven'] == 6500000), 'Kilometers_Driven'] = valid_mean\n",
    " ## 6백 50만 킬로미터 행 평균으로 대체"
   ]
  },
  {
   "cell_type": "code",
   "execution_count": 53,
   "metadata": {
    "colab": {
     "base_uri": "https://localhost:8080/",
     "height": 73
    },
    "executionInfo": {
     "elapsed": 43,
     "status": "ok",
     "timestamp": 1742604217312,
     "user": {
      "displayName": "김성현",
      "userId": "09786982603210716097"
     },
     "user_tz": -540
    },
    "id": "x-fhp3OEaT_6",
    "outputId": "ee426451-ba90-4248-9d5b-2b5237481fc7"
   },
   "outputs": [
    {
     "data": {
      "text/html": [
       "<div>\n",
       "<style scoped>\n",
       "    .dataframe tbody tr th:only-of-type {\n",
       "        vertical-align: middle;\n",
       "    }\n",
       "\n",
       "    .dataframe tbody tr th {\n",
       "        vertical-align: top;\n",
       "    }\n",
       "\n",
       "    .dataframe thead th {\n",
       "        text-align: right;\n",
       "    }\n",
       "</style>\n",
       "<table border=\"1\" class=\"dataframe\">\n",
       "  <thead>\n",
       "    <tr style=\"text-align: right;\">\n",
       "      <th></th>\n",
       "      <th>Brand</th>\n",
       "      <th>Name</th>\n",
       "      <th>Location</th>\n",
       "      <th>Price</th>\n",
       "      <th>Year</th>\n",
       "      <th>Kilometers_Driven</th>\n",
       "      <th>Fuel_Type</th>\n",
       "      <th>Transmission</th>\n",
       "      <th>Owner_Type</th>\n",
       "      <th>Seats</th>\n",
       "      <th>Mileage(kmpl)</th>\n",
       "      <th>Engine(CC)</th>\n",
       "      <th>Power(bhp)</th>\n",
       "    </tr>\n",
       "  </thead>\n",
       "  <tbody>\n",
       "  </tbody>\n",
       "</table>\n",
       "</div>"
      ],
      "text/plain": [
       "Empty DataFrame\n",
       "Columns: [Brand, Name, Location, Price, Year, Kilometers_Driven, Fuel_Type, Transmission, Owner_Type, Seats, Mileage(kmpl), Engine(CC), Power(bhp)]\n",
       "Index: []"
      ]
     },
     "execution_count": 53,
     "metadata": {},
     "output_type": "execute_result"
    }
   ],
   "source": [
    "df_raw[df_raw['Kilometers_Driven'] == 6500000]"
   ]
  },
  {
   "cell_type": "code",
   "execution_count": 55,
   "metadata": {
    "colab": {
     "base_uri": "https://localhost:8080/"
    },
    "executionInfo": {
     "elapsed": 62,
     "status": "ok",
     "timestamp": 1742604217370,
     "user": {
      "displayName": "김성현",
      "userId": "09786982603210716097"
     },
     "user_tz": -540
    },
    "id": "maqzHrD5a1pB",
    "outputId": "5caf7164-bbb6-4e91-daae-36b553e3075b"
   },
   "outputs": [
    {
     "name": "stdout",
     "output_type": "stream",
     "text": [
      "<class 'pandas.core.frame.DataFrame'>\n",
      "RangeIndex: 7253 entries, 0 to 7252\n",
      "Data columns (total 13 columns):\n",
      " #   Column             Non-Null Count  Dtype  \n",
      "---  ------             --------------  -----  \n",
      " 0   Brand              7253 non-null   object \n",
      " 1   Name               7253 non-null   object \n",
      " 2   Location           7253 non-null   object \n",
      " 3   Price              6194 non-null   float64\n",
      " 4   Year               7253 non-null   int64  \n",
      " 5   Kilometers_Driven  7253 non-null   int64  \n",
      " 6   Fuel_Type          7253 non-null   object \n",
      " 7   Transmission       7253 non-null   object \n",
      " 8   Owner_Type         7253 non-null   object \n",
      " 9   Seats              7200 non-null   float64\n",
      " 10  Mileage(kmpl)      7251 non-null   float64\n",
      " 11  Engine(CC)         7207 non-null   float64\n",
      " 12  Power(bhp)         7078 non-null   float64\n",
      "dtypes: float64(5), int64(2), object(6)\n",
      "memory usage: 736.8+ KB\n"
     ]
    }
   ],
   "source": [
    "df_raw.info()"
   ]
  },
  {
   "cell_type": "markdown",
   "metadata": {
    "id": "09PDRHozcnG-"
   },
   "source": [
    "### 3-3. Mileage가 0 인 값 mean | median"
   ]
  },
  {
   "cell_type": "code",
   "execution_count": 58,
   "metadata": {
    "colab": {
     "base_uri": "https://localhost:8080/",
     "height": 73
    },
    "executionInfo": {
     "elapsed": 16,
     "status": "ok",
     "timestamp": 1742604217387,
     "user": {
      "displayName": "김성현",
      "userId": "09786982603210716097"
     },
     "user_tz": -540
    },
    "id": "jBdDb9DrfPXX",
    "outputId": "eacb137b-42a3-45b3-a0e8-532b7256c24c"
   },
   "outputs": [
    {
     "data": {
      "text/html": [
       "<div>\n",
       "<style scoped>\n",
       "    .dataframe tbody tr th:only-of-type {\n",
       "        vertical-align: middle;\n",
       "    }\n",
       "\n",
       "    .dataframe tbody tr th {\n",
       "        vertical-align: top;\n",
       "    }\n",
       "\n",
       "    .dataframe thead th {\n",
       "        text-align: right;\n",
       "    }\n",
       "</style>\n",
       "<table border=\"1\" class=\"dataframe\">\n",
       "  <thead>\n",
       "    <tr style=\"text-align: right;\">\n",
       "      <th></th>\n",
       "      <th>Brand</th>\n",
       "      <th>Name</th>\n",
       "      <th>Location</th>\n",
       "      <th>Price</th>\n",
       "      <th>Year</th>\n",
       "      <th>Kilometers_Driven</th>\n",
       "      <th>Fuel_Type</th>\n",
       "      <th>Transmission</th>\n",
       "      <th>Owner_Type</th>\n",
       "      <th>Seats</th>\n",
       "      <th>Mileage(kmpl)</th>\n",
       "      <th>Engine(CC)</th>\n",
       "      <th>Power(bhp)</th>\n",
       "    </tr>\n",
       "  </thead>\n",
       "  <tbody>\n",
       "  </tbody>\n",
       "</table>\n",
       "</div>"
      ],
      "text/plain": [
       "Empty DataFrame\n",
       "Columns: [Brand, Name, Location, Price, Year, Kilometers_Driven, Fuel_Type, Transmission, Owner_Type, Seats, Mileage(kmpl), Engine(CC), Power(bhp)]\n",
       "Index: []"
      ]
     },
     "execution_count": 58,
     "metadata": {},
     "output_type": "execute_result"
    }
   ],
   "source": [
    "df_raw[df_raw['Power(bhp)']==0]"
   ]
  },
  {
   "cell_type": "code",
   "execution_count": 60,
   "metadata": {
    "executionInfo": {
     "elapsed": 65,
     "status": "ok",
     "timestamp": 1742604217449,
     "user": {
      "displayName": "김성현",
      "userId": "09786982603210716097"
     },
     "user_tz": -540
    },
    "id": "aR4RQ8Nkbyje"
   },
   "outputs": [],
   "source": [
    "# 1. 동일한 Brand + Fuel_Type 기준으로 평균값 채우기\n",
    "# 특정 컬럼에서 값이 0이면 NaN으로 변환(\n",
    "columns_to_fix = ['Mileage(kmpl)']\n",
    "df_raw[columns_to_fix] = df_raw[columns_to_fix].replace(0, None)\n",
    "df_raw['Mileage(kmpl)'] = df_raw.groupby(['Brand', 'Fuel_Type'])['Mileage(kmpl)'].transform(lambda x: x.fillna(x.mean()))\n",
    "\n",
    "# 2. 그래도 결측치가 남아 있다면 Brand별 평균으로 대체\n",
    "df_raw['Mileage(kmpl)'] = df_raw.groupby('Brand')['Mileage(kmpl)'].transform(lambda x: x.fillna(x.mean()))\n",
    "\n",
    "# 3. 여전히 결측치가 남아 있다면 전체 중앙값으로 대체\n",
    "df_raw['Mileage(kmpl)'].fillna(df_raw['Mileage(kmpl)'].median(), inplace=True)"
   ]
  },
  {
   "cell_type": "code",
   "execution_count": null,
   "metadata": {
    "executionInfo": {
     "elapsed": 3,
     "status": "ok",
     "timestamp": 1742604217454,
     "user": {
      "displayName": "김성현",
      "userId": "09786982603210716097"
     },
     "user_tz": -540
    },
    "id": "r-yp8WuhfIUg"
   },
   "outputs": [],
   "source": []
  },
  {
   "cell_type": "code",
   "execution_count": 63,
   "metadata": {
    "colab": {
     "base_uri": "https://localhost:8080/",
     "height": 73
    },
    "executionInfo": {
     "elapsed": 46,
     "status": "ok",
     "timestamp": 1742604217503,
     "user": {
      "displayName": "김성현",
      "userId": "09786982603210716097"
     },
     "user_tz": -540
    },
    "id": "zUbtEk92cl__",
    "outputId": "0d2fd8f1-2178-4968-b513-4c139edb1e69"
   },
   "outputs": [
    {
     "data": {
      "text/html": [
       "<div>\n",
       "<style scoped>\n",
       "    .dataframe tbody tr th:only-of-type {\n",
       "        vertical-align: middle;\n",
       "    }\n",
       "\n",
       "    .dataframe tbody tr th {\n",
       "        vertical-align: top;\n",
       "    }\n",
       "\n",
       "    .dataframe thead th {\n",
       "        text-align: right;\n",
       "    }\n",
       "</style>\n",
       "<table border=\"1\" class=\"dataframe\">\n",
       "  <thead>\n",
       "    <tr style=\"text-align: right;\">\n",
       "      <th></th>\n",
       "      <th>Brand</th>\n",
       "      <th>Name</th>\n",
       "      <th>Location</th>\n",
       "      <th>Price</th>\n",
       "      <th>Year</th>\n",
       "      <th>Kilometers_Driven</th>\n",
       "      <th>Fuel_Type</th>\n",
       "      <th>Transmission</th>\n",
       "      <th>Owner_Type</th>\n",
       "      <th>Seats</th>\n",
       "      <th>Mileage(kmpl)</th>\n",
       "      <th>Engine(CC)</th>\n",
       "      <th>Power(bhp)</th>\n",
       "    </tr>\n",
       "  </thead>\n",
       "  <tbody>\n",
       "  </tbody>\n",
       "</table>\n",
       "</div>"
      ],
      "text/plain": [
       "Empty DataFrame\n",
       "Columns: [Brand, Name, Location, Price, Year, Kilometers_Driven, Fuel_Type, Transmission, Owner_Type, Seats, Mileage(kmpl), Engine(CC), Power(bhp)]\n",
       "Index: []"
      ]
     },
     "execution_count": 63,
     "metadata": {},
     "output_type": "execute_result"
    }
   ],
   "source": [
    "# 마일리지 0인 행 대체 되었는지 확인\n",
    "df_raw[df_raw['Mileage(kmpl)']==0]\n"
   ]
  },
  {
   "cell_type": "markdown",
   "metadata": {
    "id": "F7s-u5JEeOUS"
   },
   "source": [
    "### 3-4. Seats 0 -> 5"
   ]
  },
  {
   "cell_type": "code",
   "execution_count": 66,
   "metadata": {
    "colab": {
     "base_uri": "https://localhost:8080/"
    },
    "executionInfo": {
     "elapsed": 162,
     "status": "ok",
     "timestamp": 1742604217669,
     "user": {
      "displayName": "김성현",
      "userId": "09786982603210716097"
     },
     "user_tz": -540
    },
    "id": "ME_MBusAeGkd",
    "outputId": "78674a3d-212a-4c66-af84-247667cc06f7"
   },
   "outputs": [
    {
     "data": {
      "text/plain": [
       "array([ 5.,  7.,  8.,  4.,  6.,  2., nan, 10.,  9.,  0.])"
      ]
     },
     "execution_count": 66,
     "metadata": {},
     "output_type": "execute_result"
    }
   ],
   "source": [
    "# Seats unique로 보기\n",
    "df_raw['Seats'].unique()"
   ]
  },
  {
   "cell_type": "code",
   "execution_count": 68,
   "metadata": {
    "colab": {
     "base_uri": "https://localhost:8080/",
     "height": 669
    },
    "executionInfo": {
     "elapsed": 12,
     "status": "ok",
     "timestamp": 1742604217682,
     "user": {
      "displayName": "김성현",
      "userId": "09786982603210716097"
     },
     "user_tz": -540
    },
    "id": "GQb-FaBOeb30",
    "outputId": "30566673-e95f-42bd-d6b8-658ca05cfd7a"
   },
   "outputs": [
    {
     "data": {
      "text/html": [
       "<div>\n",
       "<style scoped>\n",
       "    .dataframe tbody tr th:only-of-type {\n",
       "        vertical-align: middle;\n",
       "    }\n",
       "\n",
       "    .dataframe tbody tr th {\n",
       "        vertical-align: top;\n",
       "    }\n",
       "\n",
       "    .dataframe thead th {\n",
       "        text-align: right;\n",
       "    }\n",
       "</style>\n",
       "<table border=\"1\" class=\"dataframe\">\n",
       "  <thead>\n",
       "    <tr style=\"text-align: right;\">\n",
       "      <th></th>\n",
       "      <th>Brand</th>\n",
       "      <th>Name</th>\n",
       "      <th>Location</th>\n",
       "      <th>Price</th>\n",
       "      <th>Year</th>\n",
       "      <th>Kilometers_Driven</th>\n",
       "      <th>Fuel_Type</th>\n",
       "      <th>Transmission</th>\n",
       "      <th>Owner_Type</th>\n",
       "      <th>Seats</th>\n",
       "      <th>Mileage(kmpl)</th>\n",
       "      <th>Engine(CC)</th>\n",
       "      <th>Power(bhp)</th>\n",
       "    </tr>\n",
       "  </thead>\n",
       "  <tbody>\n",
       "    <tr>\n",
       "      <th>6875</th>\n",
       "      <td>Toyota</td>\n",
       "      <td>Qualis FS B3</td>\n",
       "      <td>Pune</td>\n",
       "      <td>NaN</td>\n",
       "      <td>2002</td>\n",
       "      <td>119613</td>\n",
       "      <td>Diesel</td>\n",
       "      <td>Manual</td>\n",
       "      <td>Second</td>\n",
       "      <td>10.0</td>\n",
       "      <td>13.100000</td>\n",
       "      <td>2446.0</td>\n",
       "      <td>75.0</td>\n",
       "    </tr>\n",
       "    <tr>\n",
       "      <th>917</th>\n",
       "      <td>Tata</td>\n",
       "      <td>Sumo DX</td>\n",
       "      <td>Mumbai</td>\n",
       "      <td>8048.04</td>\n",
       "      <td>2013</td>\n",
       "      <td>20000</td>\n",
       "      <td>Diesel</td>\n",
       "      <td>Manual</td>\n",
       "      <td>First</td>\n",
       "      <td>10.0</td>\n",
       "      <td>14.070000</td>\n",
       "      <td>1978.0</td>\n",
       "      <td>83.1</td>\n",
       "    </tr>\n",
       "    <tr>\n",
       "      <th>2575</th>\n",
       "      <td>Chevrolet</td>\n",
       "      <td>Tavera LS B3 10 Seats BSIII</td>\n",
       "      <td>Hyderabad</td>\n",
       "      <td>8431.28</td>\n",
       "      <td>2015</td>\n",
       "      <td>120000</td>\n",
       "      <td>Diesel</td>\n",
       "      <td>Manual</td>\n",
       "      <td>First</td>\n",
       "      <td>10.0</td>\n",
       "      <td>14.800000</td>\n",
       "      <td>2499.0</td>\n",
       "      <td>80.0</td>\n",
       "    </tr>\n",
       "    <tr>\n",
       "      <th>6242</th>\n",
       "      <td>Tata</td>\n",
       "      <td>Sumo EX 10/7 Str BSII</td>\n",
       "      <td>Chennai</td>\n",
       "      <td>NaN</td>\n",
       "      <td>2015</td>\n",
       "      <td>196000</td>\n",
       "      <td>Diesel</td>\n",
       "      <td>Manual</td>\n",
       "      <td>Second</td>\n",
       "      <td>10.0</td>\n",
       "      <td>12.200000</td>\n",
       "      <td>1948.0</td>\n",
       "      <td>68.0</td>\n",
       "    </tr>\n",
       "    <tr>\n",
       "      <th>1907</th>\n",
       "      <td>Toyota</td>\n",
       "      <td>Qualis FS B3</td>\n",
       "      <td>Bangalore</td>\n",
       "      <td>5595.30</td>\n",
       "      <td>2002</td>\n",
       "      <td>63000</td>\n",
       "      <td>Diesel</td>\n",
       "      <td>Manual</td>\n",
       "      <td>Third</td>\n",
       "      <td>10.0</td>\n",
       "      <td>13.100000</td>\n",
       "      <td>2446.0</td>\n",
       "      <td>75.0</td>\n",
       "    </tr>\n",
       "    <tr>\n",
       "      <th>...</th>\n",
       "      <td>...</td>\n",
       "      <td>...</td>\n",
       "      <td>...</td>\n",
       "      <td>...</td>\n",
       "      <td>...</td>\n",
       "      <td>...</td>\n",
       "      <td>...</td>\n",
       "      <td>...</td>\n",
       "      <td>...</td>\n",
       "      <td>...</td>\n",
       "      <td>...</td>\n",
       "      <td>...</td>\n",
       "      <td>...</td>\n",
       "    </tr>\n",
       "    <tr>\n",
       "      <th>6677</th>\n",
       "      <td>Fiat</td>\n",
       "      <td>Punto 1.4 Emotion</td>\n",
       "      <td>Jaipur</td>\n",
       "      <td>NaN</td>\n",
       "      <td>2010</td>\n",
       "      <td>65000</td>\n",
       "      <td>Petrol</td>\n",
       "      <td>Manual</td>\n",
       "      <td>Third</td>\n",
       "      <td>NaN</td>\n",
       "      <td>14.600000</td>\n",
       "      <td>NaN</td>\n",
       "      <td>NaN</td>\n",
       "    </tr>\n",
       "    <tr>\n",
       "      <th>6685</th>\n",
       "      <td>Maruti</td>\n",
       "      <td>Swift 1.3 VXi</td>\n",
       "      <td>Pune</td>\n",
       "      <td>NaN</td>\n",
       "      <td>2010</td>\n",
       "      <td>115000</td>\n",
       "      <td>Petrol</td>\n",
       "      <td>Manual</td>\n",
       "      <td>Second</td>\n",
       "      <td>NaN</td>\n",
       "      <td>16.100000</td>\n",
       "      <td>NaN</td>\n",
       "      <td>NaN</td>\n",
       "    </tr>\n",
       "    <tr>\n",
       "      <th>6880</th>\n",
       "      <td>BMW</td>\n",
       "      <td>5 Series 520d Sedan</td>\n",
       "      <td>Chennai</td>\n",
       "      <td>NaN</td>\n",
       "      <td>2009</td>\n",
       "      <td>95000</td>\n",
       "      <td>Diesel</td>\n",
       "      <td>Automatic</td>\n",
       "      <td>Second</td>\n",
       "      <td>NaN</td>\n",
       "      <td>18.480000</td>\n",
       "      <td>NaN</td>\n",
       "      <td>NaN</td>\n",
       "    </tr>\n",
       "    <tr>\n",
       "      <th>6902</th>\n",
       "      <td>Toyota</td>\n",
       "      <td>Etios Liva V</td>\n",
       "      <td>Kochi</td>\n",
       "      <td>NaN</td>\n",
       "      <td>2012</td>\n",
       "      <td>59311</td>\n",
       "      <td>Petrol</td>\n",
       "      <td>Manual</td>\n",
       "      <td>First</td>\n",
       "      <td>NaN</td>\n",
       "      <td>18.300000</td>\n",
       "      <td>NaN</td>\n",
       "      <td>NaN</td>\n",
       "    </tr>\n",
       "    <tr>\n",
       "      <th>6957</th>\n",
       "      <td>Honda</td>\n",
       "      <td>Jazz 2020 Petrol</td>\n",
       "      <td>Kochi</td>\n",
       "      <td>NaN</td>\n",
       "      <td>2019</td>\n",
       "      <td>11574</td>\n",
       "      <td>Petrol</td>\n",
       "      <td>Manual</td>\n",
       "      <td>First</td>\n",
       "      <td>NaN</td>\n",
       "      <td>16.586528</td>\n",
       "      <td>1199.0</td>\n",
       "      <td>88.7</td>\n",
       "    </tr>\n",
       "  </tbody>\n",
       "</table>\n",
       "<p>7253 rows × 13 columns</p>\n",
       "</div>"
      ],
      "text/plain": [
       "          Brand                         Name   Location    Price  Year  \\\n",
       "6875     Toyota                 Qualis FS B3       Pune      NaN  2002   \n",
       "917        Tata                      Sumo DX     Mumbai  8048.04  2013   \n",
       "2575  Chevrolet  Tavera LS B3 10 Seats BSIII  Hyderabad  8431.28  2015   \n",
       "6242       Tata        Sumo EX 10/7 Str BSII    Chennai      NaN  2015   \n",
       "1907     Toyota                 Qualis FS B3  Bangalore  5595.30  2002   \n",
       "...         ...                          ...        ...      ...   ...   \n",
       "6677       Fiat            Punto 1.4 Emotion     Jaipur      NaN  2010   \n",
       "6685     Maruti                Swift 1.3 VXi       Pune      NaN  2010   \n",
       "6880        BMW          5 Series 520d Sedan    Chennai      NaN  2009   \n",
       "6902     Toyota                 Etios Liva V      Kochi      NaN  2012   \n",
       "6957      Honda             Jazz 2020 Petrol      Kochi      NaN  2019   \n",
       "\n",
       "      Kilometers_Driven Fuel_Type Transmission Owner_Type  Seats  \\\n",
       "6875             119613    Diesel       Manual     Second   10.0   \n",
       "917               20000    Diesel       Manual      First   10.0   \n",
       "2575             120000    Diesel       Manual      First   10.0   \n",
       "6242             196000    Diesel       Manual     Second   10.0   \n",
       "1907              63000    Diesel       Manual      Third   10.0   \n",
       "...                 ...       ...          ...        ...    ...   \n",
       "6677              65000    Petrol       Manual      Third    NaN   \n",
       "6685             115000    Petrol       Manual     Second    NaN   \n",
       "6880              95000    Diesel    Automatic     Second    NaN   \n",
       "6902              59311    Petrol       Manual      First    NaN   \n",
       "6957              11574    Petrol       Manual      First    NaN   \n",
       "\n",
       "      Mileage(kmpl)  Engine(CC)  Power(bhp)  \n",
       "6875      13.100000      2446.0        75.0  \n",
       "917       14.070000      1978.0        83.1  \n",
       "2575      14.800000      2499.0        80.0  \n",
       "6242      12.200000      1948.0        68.0  \n",
       "1907      13.100000      2446.0        75.0  \n",
       "...             ...         ...         ...  \n",
       "6677      14.600000         NaN         NaN  \n",
       "6685      16.100000         NaN         NaN  \n",
       "6880      18.480000         NaN         NaN  \n",
       "6902      18.300000         NaN         NaN  \n",
       "6957      16.586528      1199.0        88.7  \n",
       "\n",
       "[7253 rows x 13 columns]"
      ]
     },
     "execution_count": 68,
     "metadata": {},
     "output_type": "execute_result"
    }
   ],
   "source": [
    "# Seats 내림 차순으로 정렬\n",
    "df_raw.sort_values(by='Seats',ascending=False)"
   ]
  },
  {
   "cell_type": "code",
   "execution_count": 70,
   "metadata": {
    "colab": {
     "base_uri": "https://localhost:8080/",
     "height": 153
    },
    "executionInfo": {
     "elapsed": 35,
     "status": "ok",
     "timestamp": 1742604217713,
     "user": {
      "displayName": "김성현",
      "userId": "09786982603210716097"
     },
     "user_tz": -540
    },
    "id": "ThEQ5NXhec18",
    "outputId": "2c60796d-a871-4717-cc7e-e34d81e135c3"
   },
   "outputs": [
    {
     "data": {
      "text/html": [
       "<div>\n",
       "<style scoped>\n",
       "    .dataframe tbody tr th:only-of-type {\n",
       "        vertical-align: middle;\n",
       "    }\n",
       "\n",
       "    .dataframe tbody tr th {\n",
       "        vertical-align: top;\n",
       "    }\n",
       "\n",
       "    .dataframe thead th {\n",
       "        text-align: right;\n",
       "    }\n",
       "</style>\n",
       "<table border=\"1\" class=\"dataframe\">\n",
       "  <thead>\n",
       "    <tr style=\"text-align: right;\">\n",
       "      <th></th>\n",
       "      <th>Brand</th>\n",
       "      <th>Name</th>\n",
       "      <th>Location</th>\n",
       "      <th>Price</th>\n",
       "      <th>Year</th>\n",
       "      <th>Kilometers_Driven</th>\n",
       "      <th>Fuel_Type</th>\n",
       "      <th>Transmission</th>\n",
       "      <th>Owner_Type</th>\n",
       "      <th>Seats</th>\n",
       "      <th>Mileage(kmpl)</th>\n",
       "      <th>Engine(CC)</th>\n",
       "      <th>Power(bhp)</th>\n",
       "    </tr>\n",
       "  </thead>\n",
       "  <tbody>\n",
       "    <tr>\n",
       "      <th>3999</th>\n",
       "      <td>Audi</td>\n",
       "      <td>A4 3.2 FSI Tiptronic Quattro</td>\n",
       "      <td>Hyderabad</td>\n",
       "      <td>27593.28</td>\n",
       "      <td>2012</td>\n",
       "      <td>125000</td>\n",
       "      <td>Petrol</td>\n",
       "      <td>Automatic</td>\n",
       "      <td>First</td>\n",
       "      <td>0.0</td>\n",
       "      <td>10.5</td>\n",
       "      <td>3197.0</td>\n",
       "      <td>NaN</td>\n",
       "    </tr>\n",
       "  </tbody>\n",
       "</table>\n",
       "</div>"
      ],
      "text/plain": [
       "     Brand                          Name   Location     Price  Year  \\\n",
       "3999  Audi  A4 3.2 FSI Tiptronic Quattro  Hyderabad  27593.28  2012   \n",
       "\n",
       "      Kilometers_Driven Fuel_Type Transmission Owner_Type  Seats  \\\n",
       "3999             125000    Petrol    Automatic      First    0.0   \n",
       "\n",
       "      Mileage(kmpl)  Engine(CC)  Power(bhp)  \n",
       "3999           10.5      3197.0         NaN  "
      ]
     },
     "execution_count": 70,
     "metadata": {},
     "output_type": "execute_result"
    }
   ],
   "source": [
    "# seats 0인값 확인\n",
    "df_raw[df_raw['Seats']==0]"
   ]
  },
  {
   "cell_type": "code",
   "execution_count": 72,
   "metadata": {
    "executionInfo": {
     "elapsed": 4,
     "status": "ok",
     "timestamp": 1742604217719,
     "user": {
      "displayName": "김성현",
      "userId": "09786982603210716097"
     },
     "user_tz": -540
    },
    "id": "QX-JcYjteg1o"
   },
   "outputs": [],
   "source": [
    "# Seats 0값 5로\n",
    "df_raw.loc[df_raw['Seats']==0.0,'Seats'] = 5"
   ]
  },
  {
   "cell_type": "code",
   "execution_count": 74,
   "metadata": {
    "colab": {
     "base_uri": "https://localhost:8080/",
     "height": 153
    },
    "executionInfo": {
     "elapsed": 91,
     "status": "ok",
     "timestamp": 1742604217814,
     "user": {
      "displayName": "김성현",
      "userId": "09786982603210716097"
     },
     "user_tz": -540
    },
    "id": "sfvKsShwgHKq",
    "outputId": "79fc80b7-7881-4394-f702-d4b777bdad28"
   },
   "outputs": [
    {
     "data": {
      "text/html": [
       "<div>\n",
       "<style scoped>\n",
       "    .dataframe tbody tr th:only-of-type {\n",
       "        vertical-align: middle;\n",
       "    }\n",
       "\n",
       "    .dataframe tbody tr th {\n",
       "        vertical-align: top;\n",
       "    }\n",
       "\n",
       "    .dataframe thead th {\n",
       "        text-align: right;\n",
       "    }\n",
       "</style>\n",
       "<table border=\"1\" class=\"dataframe\">\n",
       "  <thead>\n",
       "    <tr style=\"text-align: right;\">\n",
       "      <th></th>\n",
       "      <th>Brand</th>\n",
       "      <th>Name</th>\n",
       "      <th>Location</th>\n",
       "      <th>Price</th>\n",
       "      <th>Year</th>\n",
       "      <th>Kilometers_Driven</th>\n",
       "      <th>Fuel_Type</th>\n",
       "      <th>Transmission</th>\n",
       "      <th>Owner_Type</th>\n",
       "      <th>Seats</th>\n",
       "      <th>Mileage(kmpl)</th>\n",
       "      <th>Engine(CC)</th>\n",
       "      <th>Power(bhp)</th>\n",
       "    </tr>\n",
       "  </thead>\n",
       "  <tbody>\n",
       "    <tr>\n",
       "      <th>3999</th>\n",
       "      <td>Audi</td>\n",
       "      <td>A4 3.2 FSI Tiptronic Quattro</td>\n",
       "      <td>Hyderabad</td>\n",
       "      <td>27593.28</td>\n",
       "      <td>2012</td>\n",
       "      <td>125000</td>\n",
       "      <td>Petrol</td>\n",
       "      <td>Automatic</td>\n",
       "      <td>First</td>\n",
       "      <td>5.0</td>\n",
       "      <td>10.5</td>\n",
       "      <td>3197.0</td>\n",
       "      <td>NaN</td>\n",
       "    </tr>\n",
       "  </tbody>\n",
       "</table>\n",
       "</div>"
      ],
      "text/plain": [
       "     Brand                          Name   Location     Price  Year  \\\n",
       "3999  Audi  A4 3.2 FSI Tiptronic Quattro  Hyderabad  27593.28  2012   \n",
       "\n",
       "      Kilometers_Driven Fuel_Type Transmission Owner_Type  Seats  \\\n",
       "3999             125000    Petrol    Automatic      First    5.0   \n",
       "\n",
       "      Mileage(kmpl)  Engine(CC)  Power(bhp)  \n",
       "3999           10.5      3197.0         NaN  "
      ]
     },
     "execution_count": 74,
     "metadata": {},
     "output_type": "execute_result"
    }
   ],
   "source": [
    "# Seats가 0 -> 5로 바꾼거 확인\n",
    "df_raw[df_raw['Name']=='A4 3.2 FSI Tiptronic Quattro']"
   ]
  },
  {
   "cell_type": "markdown",
   "metadata": {
    "id": "8et2lgqJgSht"
   },
   "source": [
    "### 3-5. Fuel-Type elec-> None"
   ]
  },
  {
   "cell_type": "code",
   "execution_count": 77,
   "metadata": {
    "executionInfo": {
     "elapsed": 7,
     "status": "ok",
     "timestamp": 1742604217816,
     "user": {
      "displayName": "김성현",
      "userId": "09786982603210716097"
     },
     "user_tz": -540
    },
    "id": "8X4xhhu-gM_W"
   },
   "outputs": [],
   "source": [
    " # 전기차 Engine(CC) 결측치로 처리\n",
    "df_raw.loc[df_raw['Fuel_Type']=='Electric','Engine(CC)']=None"
   ]
  },
  {
   "cell_type": "code",
   "execution_count": 79,
   "metadata": {
    "colab": {
     "base_uri": "https://localhost:8080/",
     "height": 219
    },
    "executionInfo": {
     "elapsed": 88,
     "status": "ok",
     "timestamp": 1742604217907,
     "user": {
      "displayName": "김성현",
      "userId": "09786982603210716097"
     },
     "user_tz": -540
    },
    "id": "7OmSycddgk9i",
    "outputId": "343a0ccb-500f-444c-b6b3-c4e7b32dc98f"
   },
   "outputs": [
    {
     "data": {
      "text/html": [
       "<div>\n",
       "<style scoped>\n",
       "    .dataframe tbody tr th:only-of-type {\n",
       "        vertical-align: middle;\n",
       "    }\n",
       "\n",
       "    .dataframe tbody tr th {\n",
       "        vertical-align: top;\n",
       "    }\n",
       "\n",
       "    .dataframe thead th {\n",
       "        text-align: right;\n",
       "    }\n",
       "</style>\n",
       "<table border=\"1\" class=\"dataframe\">\n",
       "  <thead>\n",
       "    <tr style=\"text-align: right;\">\n",
       "      <th></th>\n",
       "      <th>Brand</th>\n",
       "      <th>Name</th>\n",
       "      <th>Location</th>\n",
       "      <th>Price</th>\n",
       "      <th>Year</th>\n",
       "      <th>Kilometers_Driven</th>\n",
       "      <th>Fuel_Type</th>\n",
       "      <th>Transmission</th>\n",
       "      <th>Owner_Type</th>\n",
       "      <th>Seats</th>\n",
       "      <th>Mileage(kmpl)</th>\n",
       "      <th>Engine(CC)</th>\n",
       "      <th>Power(bhp)</th>\n",
       "    </tr>\n",
       "  </thead>\n",
       "  <tbody>\n",
       "    <tr>\n",
       "      <th>4446</th>\n",
       "      <td>Mahindra</td>\n",
       "      <td>E Verito D4</td>\n",
       "      <td>Chennai</td>\n",
       "      <td>19928.48</td>\n",
       "      <td>2016</td>\n",
       "      <td>50000</td>\n",
       "      <td>Electric</td>\n",
       "      <td>Automatic</td>\n",
       "      <td>First</td>\n",
       "      <td>5.0</td>\n",
       "      <td>15.304606</td>\n",
       "      <td>NaN</td>\n",
       "      <td>41.0</td>\n",
       "    </tr>\n",
       "    <tr>\n",
       "      <th>4904</th>\n",
       "      <td>Toyota</td>\n",
       "      <td>Prius 2009-2016 Z4</td>\n",
       "      <td>Mumbai</td>\n",
       "      <td>19545.24</td>\n",
       "      <td>2011</td>\n",
       "      <td>44000</td>\n",
       "      <td>Electric</td>\n",
       "      <td>Automatic</td>\n",
       "      <td>First</td>\n",
       "      <td>5.0</td>\n",
       "      <td>14.501671</td>\n",
       "      <td>NaN</td>\n",
       "      <td>73.0</td>\n",
       "    </tr>\n",
       "  </tbody>\n",
       "</table>\n",
       "</div>"
      ],
      "text/plain": [
       "         Brand                Name Location     Price  Year  \\\n",
       "4446  Mahindra         E Verito D4  Chennai  19928.48  2016   \n",
       "4904    Toyota  Prius 2009-2016 Z4   Mumbai  19545.24  2011   \n",
       "\n",
       "      Kilometers_Driven Fuel_Type Transmission Owner_Type  Seats  \\\n",
       "4446              50000  Electric    Automatic      First    5.0   \n",
       "4904              44000  Electric    Automatic      First    5.0   \n",
       "\n",
       "      Mileage(kmpl)  Engine(CC)  Power(bhp)  \n",
       "4446      15.304606         NaN        41.0  \n",
       "4904      14.501671         NaN        73.0  "
      ]
     },
     "execution_count": 79,
     "metadata": {},
     "output_type": "execute_result"
    }
   ],
   "source": [
    "# 전기차의 Engine(CC)를 결측값으로 대체완료 확인\n",
    "df_raw[df_raw['Fuel_Type']=='Electric']"
   ]
  },
  {
   "cell_type": "markdown",
   "metadata": {
    "id": "ov_V0gk8g5Zw"
   },
   "source": [
    "## 4. 결측치 처리"
   ]
  },
  {
   "cell_type": "markdown",
   "metadata": {
    "id": "fg-kWvGXhBdn"
   },
   "source": [
    "### 4-1. Engine 결측(38개) -> 동일차종 mean | median"
   ]
  },
  {
   "cell_type": "code",
   "execution_count": 83,
   "metadata": {
    "executionInfo": {
     "elapsed": 45,
     "status": "ok",
     "timestamp": 1742604217958,
     "user": {
      "displayName": "김성현",
      "userId": "09786982603210716097"
     },
     "user_tz": -540
    },
    "id": "P5s4CFfVgm0D"
   },
   "outputs": [],
   "source": [
    "# 1. 동일한 Brand + Model 기준으로 평균값 채우기\n",
    "df_raw['Engine(CC)'] = df_raw.groupby(['Brand'])['Engine(CC)'].transform(lambda x: x.fillna(x.mean()))\n",
    "\n",
    "# 2. 동일한 Brand 기준으로 평균값으로 채우기\n",
    "df_raw['Engine(CC)'] = df_raw.groupby('Brand')['Engine(CC)'].transform(lambda x: x.fillna(x.mean()))\n",
    "\n",
    "# 3. 그래도 남은 결측치는 중앙값으로 대체\n",
    "df_raw['Engine(CC)'].fillna(df_raw['Engine(CC)'].median(), inplace=True)"
   ]
  },
  {
   "cell_type": "markdown",
   "metadata": {
    "id": "RRetbWeih0YA"
   },
   "source": [
    "### 4-2. Seats 결측(42개) -> 동일 차종 mean | median"
   ]
  },
  {
   "cell_type": "code",
   "execution_count": 86,
   "metadata": {
    "executionInfo": {
     "elapsed": 37,
     "status": "ok",
     "timestamp": 1742604217963,
     "user": {
      "displayName": "김성현",
      "userId": "09786982603210716097"
     },
     "user_tz": -540
    },
    "id": "nFfGw4oog07A"
   },
   "outputs": [],
   "source": [
    "df_raw['Seats'] = df_raw.groupby('Brand')['Seats'].transform(lambda x: x.fillna(x.mode()[0] if not x.mode().empty else x.median()))\n",
    "\n",
    "# 2. 전체 좌석 수의 최빈값(대부분 5로 예상)으로 대체\n",
    "df_raw['Seats'].fillna(df_raw['Seats'].mode()[0], inplace=True)"
   ]
  },
  {
   "cell_type": "markdown",
   "metadata": {
    "id": "i2zpuQpOiQnl"
   },
   "source": [
    "### 4-3. Power 결측(143개) -> 동일 차종 mean | median"
   ]
  },
  {
   "cell_type": "code",
   "execution_count": 89,
   "metadata": {
    "executionInfo": {
     "elapsed": 51,
     "status": "ok",
     "timestamp": 1742604218007,
     "user": {
      "displayName": "김성현",
      "userId": "09786982603210716097"
     },
     "user_tz": -540
    },
    "id": "eb267ahkg3ty"
   },
   "outputs": [],
   "source": [
    "# 1. 동일한 Brand + Engine 크기 기준으로 평균값 채우기\n",
    "df_raw['Power(bhp)'] = df_raw.groupby(['Brand', 'Engine(CC)'])['Power(bhp)'].transform(lambda x: x.fillna(x.mean()))\n",
    "\n",
    "# 2. 동일한 Engine 크기 기준으로 평균값 채우기\n",
    "df_raw['Power(bhp)'] = df_raw.groupby('Engine(CC)')['Power(bhp)'].transform(lambda x: x.fillna(x.mean()))\n",
    "\n",
    "# 3. 그래도 남은 결측치는 중앙값으로 대체\n",
    "df_raw['Power(bhp)'].fillna(df_raw['Power(bhp)'].median(), inplace=True)"
   ]
  },
  {
   "cell_type": "markdown",
   "metadata": {
    "id": "fx-c5Uzfit4j"
   },
   "source": [
    "## 5. 파생 변수 생성"
   ]
  },
  {
   "cell_type": "markdown",
   "metadata": {
    "id": "TnTM4_8_tajs"
   },
   "source": [
    "### 5-1. Car_Age(차 연식) 컬럼 생성"
   ]
  },
  {
   "cell_type": "code",
   "execution_count": 93,
   "metadata": {
    "executionInfo": {
     "elapsed": 8,
     "status": "ok",
     "timestamp": 1742604218011,
     "user": {
      "displayName": "김성현",
      "userId": "09786982603210716097"
     },
     "user_tz": -540
    },
    "id": "gI6V-M9Atjmy"
   },
   "outputs": [],
   "source": [
    "# 2024-year로 차 연식 컬럼 생성\n",
    "df_raw['Car_Age'] = 2024 - df_raw['Year']"
   ]
  },
  {
   "cell_type": "code",
   "execution_count": 95,
   "metadata": {
    "colab": {
     "base_uri": "https://localhost:8080/",
     "height": 313
    },
    "executionInfo": {
     "elapsed": 86,
     "status": "ok",
     "timestamp": 1742604218091,
     "user": {
      "displayName": "김성현",
      "userId": "09786982603210716097"
     },
     "user_tz": -540
    },
    "id": "ZYMrEg5ltv1y",
    "outputId": "89936048-e89d-488b-93b4-c488dd2692d8"
   },
   "outputs": [
    {
     "data": {
      "text/html": [
       "<div>\n",
       "<style scoped>\n",
       "    .dataframe tbody tr th:only-of-type {\n",
       "        vertical-align: middle;\n",
       "    }\n",
       "\n",
       "    .dataframe tbody tr th {\n",
       "        vertical-align: top;\n",
       "    }\n",
       "\n",
       "    .dataframe thead th {\n",
       "        text-align: right;\n",
       "    }\n",
       "</style>\n",
       "<table border=\"1\" class=\"dataframe\">\n",
       "  <thead>\n",
       "    <tr style=\"text-align: right;\">\n",
       "      <th></th>\n",
       "      <th>Brand</th>\n",
       "      <th>Name</th>\n",
       "      <th>Location</th>\n",
       "      <th>Price</th>\n",
       "      <th>Year</th>\n",
       "      <th>Kilometers_Driven</th>\n",
       "      <th>Fuel_Type</th>\n",
       "      <th>Transmission</th>\n",
       "      <th>Owner_Type</th>\n",
       "      <th>Seats</th>\n",
       "      <th>Mileage(kmpl)</th>\n",
       "      <th>Engine(CC)</th>\n",
       "      <th>Power(bhp)</th>\n",
       "      <th>Car_Age</th>\n",
       "    </tr>\n",
       "  </thead>\n",
       "  <tbody>\n",
       "    <tr>\n",
       "      <th>0</th>\n",
       "      <td>Maruti</td>\n",
       "      <td>Wagon R LXI CNG</td>\n",
       "      <td>Mumbai</td>\n",
       "      <td>2682.68</td>\n",
       "      <td>2010</td>\n",
       "      <td>72000</td>\n",
       "      <td>CNG</td>\n",
       "      <td>Manual</td>\n",
       "      <td>First</td>\n",
       "      <td>5.0</td>\n",
       "      <td>26.60</td>\n",
       "      <td>998.0</td>\n",
       "      <td>58.16</td>\n",
       "      <td>14</td>\n",
       "    </tr>\n",
       "    <tr>\n",
       "      <th>1</th>\n",
       "      <td>Hyundai</td>\n",
       "      <td>Creta 1.6 CRDi SX Option</td>\n",
       "      <td>Pune</td>\n",
       "      <td>19162.00</td>\n",
       "      <td>2015</td>\n",
       "      <td>41000</td>\n",
       "      <td>Diesel</td>\n",
       "      <td>Manual</td>\n",
       "      <td>First</td>\n",
       "      <td>5.0</td>\n",
       "      <td>19.67</td>\n",
       "      <td>1582.0</td>\n",
       "      <td>126.20</td>\n",
       "      <td>9</td>\n",
       "    </tr>\n",
       "    <tr>\n",
       "      <th>2</th>\n",
       "      <td>Honda</td>\n",
       "      <td>Jazz V</td>\n",
       "      <td>Chennai</td>\n",
       "      <td>6898.32</td>\n",
       "      <td>2011</td>\n",
       "      <td>46000</td>\n",
       "      <td>Petrol</td>\n",
       "      <td>Manual</td>\n",
       "      <td>First</td>\n",
       "      <td>5.0</td>\n",
       "      <td>18.20</td>\n",
       "      <td>1199.0</td>\n",
       "      <td>88.70</td>\n",
       "      <td>13</td>\n",
       "    </tr>\n",
       "    <tr>\n",
       "      <th>3</th>\n",
       "      <td>Maruti</td>\n",
       "      <td>Ertiga VDI</td>\n",
       "      <td>Chennai</td>\n",
       "      <td>9197.76</td>\n",
       "      <td>2012</td>\n",
       "      <td>87000</td>\n",
       "      <td>Diesel</td>\n",
       "      <td>Manual</td>\n",
       "      <td>First</td>\n",
       "      <td>7.0</td>\n",
       "      <td>20.77</td>\n",
       "      <td>1248.0</td>\n",
       "      <td>88.76</td>\n",
       "      <td>12</td>\n",
       "    </tr>\n",
       "    <tr>\n",
       "      <th>4</th>\n",
       "      <td>Audi</td>\n",
       "      <td>A4 New 2.0 TDI Multitronic</td>\n",
       "      <td>Coimbatore</td>\n",
       "      <td>27194.71</td>\n",
       "      <td>2013</td>\n",
       "      <td>40670</td>\n",
       "      <td>Diesel</td>\n",
       "      <td>Automatic</td>\n",
       "      <td>Second</td>\n",
       "      <td>5.0</td>\n",
       "      <td>15.20</td>\n",
       "      <td>1968.0</td>\n",
       "      <td>140.80</td>\n",
       "      <td>11</td>\n",
       "    </tr>\n",
       "  </tbody>\n",
       "</table>\n",
       "</div>"
      ],
      "text/plain": [
       "     Brand                        Name    Location     Price  Year  \\\n",
       "0   Maruti             Wagon R LXI CNG      Mumbai   2682.68  2010   \n",
       "1  Hyundai    Creta 1.6 CRDi SX Option        Pune  19162.00  2015   \n",
       "2    Honda                      Jazz V     Chennai   6898.32  2011   \n",
       "3   Maruti                  Ertiga VDI     Chennai   9197.76  2012   \n",
       "4     Audi  A4 New 2.0 TDI Multitronic  Coimbatore  27194.71  2013   \n",
       "\n",
       "   Kilometers_Driven Fuel_Type Transmission Owner_Type  Seats  Mileage(kmpl)  \\\n",
       "0              72000       CNG       Manual      First    5.0          26.60   \n",
       "1              41000    Diesel       Manual      First    5.0          19.67   \n",
       "2              46000    Petrol       Manual      First    5.0          18.20   \n",
       "3              87000    Diesel       Manual      First    7.0          20.77   \n",
       "4              40670    Diesel    Automatic     Second    5.0          15.20   \n",
       "\n",
       "   Engine(CC)  Power(bhp)  Car_Age  \n",
       "0       998.0       58.16       14  \n",
       "1      1582.0      126.20        9  \n",
       "2      1199.0       88.70       13  \n",
       "3      1248.0       88.76       12  \n",
       "4      1968.0      140.80       11  "
      ]
     },
     "execution_count": 95,
     "metadata": {},
     "output_type": "execute_result"
    }
   ],
   "source": [
    "# Car_Age 컬럼 생긴거 확인\n",
    "df_raw.head()"
   ]
  },
  {
   "cell_type": "markdown",
   "metadata": {
    "id": "DDyjsfAEi-1Y"
   },
   "source": []
  },
  {
   "cell_type": "markdown",
   "metadata": {
    "id": "B9CelWE5t8Bh"
   },
   "source": [
    "### 5-2. 주행거리 대비 연식(Km_per_Year) 컬럼 생성"
   ]
  },
  {
   "cell_type": "code",
   "execution_count": 99,
   "metadata": {
    "executionInfo": {
     "elapsed": 7,
     "status": "ok",
     "timestamp": 1742604218092,
     "user": {
      "displayName": "김성현",
      "userId": "09786982603210716097"
     },
     "user_tz": -540
    },
    "id": "QQPIdNRpioOP"
   },
   "outputs": [],
   "source": [
    "# 주행거리 대비 연식(소수점 3자리째 까지)\n",
    "\n",
    "df_raw['Km_per_Year'] = (df_raw['Kilometers_Driven']/df_raw['Car_Age']).round(3)\n",
    "# df_raw['Km_per_Year'] = (df_raw['Kilometers_Driven']/df_raw['Fuel_Type']).round(3)"
   ]
  },
  {
   "cell_type": "code",
   "execution_count": 101,
   "metadata": {
    "colab": {
     "base_uri": "https://localhost:8080/",
     "height": 313
    },
    "executionInfo": {
     "elapsed": 84,
     "status": "ok",
     "timestamp": 1742604218172,
     "user": {
      "displayName": "김성현",
      "userId": "09786982603210716097"
     },
     "user_tz": -540
    },
    "id": "ZUHpYjLXvAec",
    "outputId": "c3592cd1-8333-4b68-e5d9-149ebd35968a"
   },
   "outputs": [
    {
     "data": {
      "text/html": [
       "<div>\n",
       "<style scoped>\n",
       "    .dataframe tbody tr th:only-of-type {\n",
       "        vertical-align: middle;\n",
       "    }\n",
       "\n",
       "    .dataframe tbody tr th {\n",
       "        vertical-align: top;\n",
       "    }\n",
       "\n",
       "    .dataframe thead th {\n",
       "        text-align: right;\n",
       "    }\n",
       "</style>\n",
       "<table border=\"1\" class=\"dataframe\">\n",
       "  <thead>\n",
       "    <tr style=\"text-align: right;\">\n",
       "      <th></th>\n",
       "      <th>Brand</th>\n",
       "      <th>Name</th>\n",
       "      <th>Location</th>\n",
       "      <th>Price</th>\n",
       "      <th>Year</th>\n",
       "      <th>Kilometers_Driven</th>\n",
       "      <th>Fuel_Type</th>\n",
       "      <th>Transmission</th>\n",
       "      <th>Owner_Type</th>\n",
       "      <th>Seats</th>\n",
       "      <th>Mileage(kmpl)</th>\n",
       "      <th>Engine(CC)</th>\n",
       "      <th>Power(bhp)</th>\n",
       "      <th>Car_Age</th>\n",
       "      <th>Km_per_Year</th>\n",
       "    </tr>\n",
       "  </thead>\n",
       "  <tbody>\n",
       "    <tr>\n",
       "      <th>0</th>\n",
       "      <td>Maruti</td>\n",
       "      <td>Wagon R LXI CNG</td>\n",
       "      <td>Mumbai</td>\n",
       "      <td>2682.68</td>\n",
       "      <td>2010</td>\n",
       "      <td>72000</td>\n",
       "      <td>CNG</td>\n",
       "      <td>Manual</td>\n",
       "      <td>First</td>\n",
       "      <td>5.0</td>\n",
       "      <td>26.60</td>\n",
       "      <td>998.0</td>\n",
       "      <td>58.16</td>\n",
       "      <td>14</td>\n",
       "      <td>5142.857</td>\n",
       "    </tr>\n",
       "    <tr>\n",
       "      <th>1</th>\n",
       "      <td>Hyundai</td>\n",
       "      <td>Creta 1.6 CRDi SX Option</td>\n",
       "      <td>Pune</td>\n",
       "      <td>19162.00</td>\n",
       "      <td>2015</td>\n",
       "      <td>41000</td>\n",
       "      <td>Diesel</td>\n",
       "      <td>Manual</td>\n",
       "      <td>First</td>\n",
       "      <td>5.0</td>\n",
       "      <td>19.67</td>\n",
       "      <td>1582.0</td>\n",
       "      <td>126.20</td>\n",
       "      <td>9</td>\n",
       "      <td>4555.556</td>\n",
       "    </tr>\n",
       "    <tr>\n",
       "      <th>2</th>\n",
       "      <td>Honda</td>\n",
       "      <td>Jazz V</td>\n",
       "      <td>Chennai</td>\n",
       "      <td>6898.32</td>\n",
       "      <td>2011</td>\n",
       "      <td>46000</td>\n",
       "      <td>Petrol</td>\n",
       "      <td>Manual</td>\n",
       "      <td>First</td>\n",
       "      <td>5.0</td>\n",
       "      <td>18.20</td>\n",
       "      <td>1199.0</td>\n",
       "      <td>88.70</td>\n",
       "      <td>13</td>\n",
       "      <td>3538.462</td>\n",
       "    </tr>\n",
       "    <tr>\n",
       "      <th>3</th>\n",
       "      <td>Maruti</td>\n",
       "      <td>Ertiga VDI</td>\n",
       "      <td>Chennai</td>\n",
       "      <td>9197.76</td>\n",
       "      <td>2012</td>\n",
       "      <td>87000</td>\n",
       "      <td>Diesel</td>\n",
       "      <td>Manual</td>\n",
       "      <td>First</td>\n",
       "      <td>7.0</td>\n",
       "      <td>20.77</td>\n",
       "      <td>1248.0</td>\n",
       "      <td>88.76</td>\n",
       "      <td>12</td>\n",
       "      <td>7250.000</td>\n",
       "    </tr>\n",
       "    <tr>\n",
       "      <th>4</th>\n",
       "      <td>Audi</td>\n",
       "      <td>A4 New 2.0 TDI Multitronic</td>\n",
       "      <td>Coimbatore</td>\n",
       "      <td>27194.71</td>\n",
       "      <td>2013</td>\n",
       "      <td>40670</td>\n",
       "      <td>Diesel</td>\n",
       "      <td>Automatic</td>\n",
       "      <td>Second</td>\n",
       "      <td>5.0</td>\n",
       "      <td>15.20</td>\n",
       "      <td>1968.0</td>\n",
       "      <td>140.80</td>\n",
       "      <td>11</td>\n",
       "      <td>3697.273</td>\n",
       "    </tr>\n",
       "  </tbody>\n",
       "</table>\n",
       "</div>"
      ],
      "text/plain": [
       "     Brand                        Name    Location     Price  Year  \\\n",
       "0   Maruti             Wagon R LXI CNG      Mumbai   2682.68  2010   \n",
       "1  Hyundai    Creta 1.6 CRDi SX Option        Pune  19162.00  2015   \n",
       "2    Honda                      Jazz V     Chennai   6898.32  2011   \n",
       "3   Maruti                  Ertiga VDI     Chennai   9197.76  2012   \n",
       "4     Audi  A4 New 2.0 TDI Multitronic  Coimbatore  27194.71  2013   \n",
       "\n",
       "   Kilometers_Driven Fuel_Type Transmission Owner_Type  Seats  Mileage(kmpl)  \\\n",
       "0              72000       CNG       Manual      First    5.0          26.60   \n",
       "1              41000    Diesel       Manual      First    5.0          19.67   \n",
       "2              46000    Petrol       Manual      First    5.0          18.20   \n",
       "3              87000    Diesel       Manual      First    7.0          20.77   \n",
       "4              40670    Diesel    Automatic     Second    5.0          15.20   \n",
       "\n",
       "   Engine(CC)  Power(bhp)  Car_Age  Km_per_Year  \n",
       "0       998.0       58.16       14     5142.857  \n",
       "1      1582.0      126.20        9     4555.556  \n",
       "2      1199.0       88.70       13     3538.462  \n",
       "3      1248.0       88.76       12     7250.000  \n",
       "4      1968.0      140.80       11     3697.273  "
      ]
     },
     "execution_count": 101,
     "metadata": {},
     "output_type": "execute_result"
    }
   ],
   "source": [
    "# Km_per_Year 컬럼 생긴거 확인\n",
    "df_raw.head()"
   ]
  },
  {
   "cell_type": "markdown",
   "metadata": {
    "id": "zwWOP21iuyae"
   },
   "source": [
    "### 5-3. Owner_Type 숫자로 Mapping?"
   ]
  },
  {
   "cell_type": "code",
   "execution_count": 104,
   "metadata": {
    "executionInfo": {
     "elapsed": 34,
     "status": "ok",
     "timestamp": 1742604218207,
     "user": {
      "displayName": "김성현",
      "userId": "09786982603210716097"
     },
     "user_tz": -540
    },
    "id": "M1DVz6OauRNk"
   },
   "outputs": [],
   "source": [
    "# 변환할 매핑 딕셔너리 생성\n",
    "owner_mapping = {'First': 1, 'Second': 2, 'Third': 3, 'Fourth & Above': 4}\n",
    "\n",
    "# map()을 이용해 수치형 변환\n",
    "df_raw['Owner_Type'] = df_raw['Owner_Type'].map(owner_mapping)"
   ]
  },
  {
   "cell_type": "code",
   "execution_count": 106,
   "metadata": {
    "colab": {
     "base_uri": "https://localhost:8080/",
     "height": 313
    },
    "executionInfo": {
     "elapsed": 84,
     "status": "ok",
     "timestamp": 1742604218288,
     "user": {
      "displayName": "김성현",
      "userId": "09786982603210716097"
     },
     "user_tz": -540
    },
    "id": "z8qUB__7uW9K",
    "outputId": "454d72bd-c50d-4756-feaa-b2e6f17405ed"
   },
   "outputs": [
    {
     "data": {
      "text/html": [
       "<div>\n",
       "<style scoped>\n",
       "    .dataframe tbody tr th:only-of-type {\n",
       "        vertical-align: middle;\n",
       "    }\n",
       "\n",
       "    .dataframe tbody tr th {\n",
       "        vertical-align: top;\n",
       "    }\n",
       "\n",
       "    .dataframe thead th {\n",
       "        text-align: right;\n",
       "    }\n",
       "</style>\n",
       "<table border=\"1\" class=\"dataframe\">\n",
       "  <thead>\n",
       "    <tr style=\"text-align: right;\">\n",
       "      <th></th>\n",
       "      <th>Brand</th>\n",
       "      <th>Name</th>\n",
       "      <th>Location</th>\n",
       "      <th>Price</th>\n",
       "      <th>Year</th>\n",
       "      <th>Kilometers_Driven</th>\n",
       "      <th>Fuel_Type</th>\n",
       "      <th>Transmission</th>\n",
       "      <th>Owner_Type</th>\n",
       "      <th>Seats</th>\n",
       "      <th>Mileage(kmpl)</th>\n",
       "      <th>Engine(CC)</th>\n",
       "      <th>Power(bhp)</th>\n",
       "      <th>Car_Age</th>\n",
       "      <th>Km_per_Year</th>\n",
       "    </tr>\n",
       "  </thead>\n",
       "  <tbody>\n",
       "    <tr>\n",
       "      <th>0</th>\n",
       "      <td>Maruti</td>\n",
       "      <td>Wagon R LXI CNG</td>\n",
       "      <td>Mumbai</td>\n",
       "      <td>2682.68</td>\n",
       "      <td>2010</td>\n",
       "      <td>72000</td>\n",
       "      <td>CNG</td>\n",
       "      <td>Manual</td>\n",
       "      <td>1</td>\n",
       "      <td>5.0</td>\n",
       "      <td>26.60</td>\n",
       "      <td>998.0</td>\n",
       "      <td>58.16</td>\n",
       "      <td>14</td>\n",
       "      <td>5142.857</td>\n",
       "    </tr>\n",
       "    <tr>\n",
       "      <th>1</th>\n",
       "      <td>Hyundai</td>\n",
       "      <td>Creta 1.6 CRDi SX Option</td>\n",
       "      <td>Pune</td>\n",
       "      <td>19162.00</td>\n",
       "      <td>2015</td>\n",
       "      <td>41000</td>\n",
       "      <td>Diesel</td>\n",
       "      <td>Manual</td>\n",
       "      <td>1</td>\n",
       "      <td>5.0</td>\n",
       "      <td>19.67</td>\n",
       "      <td>1582.0</td>\n",
       "      <td>126.20</td>\n",
       "      <td>9</td>\n",
       "      <td>4555.556</td>\n",
       "    </tr>\n",
       "    <tr>\n",
       "      <th>2</th>\n",
       "      <td>Honda</td>\n",
       "      <td>Jazz V</td>\n",
       "      <td>Chennai</td>\n",
       "      <td>6898.32</td>\n",
       "      <td>2011</td>\n",
       "      <td>46000</td>\n",
       "      <td>Petrol</td>\n",
       "      <td>Manual</td>\n",
       "      <td>1</td>\n",
       "      <td>5.0</td>\n",
       "      <td>18.20</td>\n",
       "      <td>1199.0</td>\n",
       "      <td>88.70</td>\n",
       "      <td>13</td>\n",
       "      <td>3538.462</td>\n",
       "    </tr>\n",
       "    <tr>\n",
       "      <th>3</th>\n",
       "      <td>Maruti</td>\n",
       "      <td>Ertiga VDI</td>\n",
       "      <td>Chennai</td>\n",
       "      <td>9197.76</td>\n",
       "      <td>2012</td>\n",
       "      <td>87000</td>\n",
       "      <td>Diesel</td>\n",
       "      <td>Manual</td>\n",
       "      <td>1</td>\n",
       "      <td>7.0</td>\n",
       "      <td>20.77</td>\n",
       "      <td>1248.0</td>\n",
       "      <td>88.76</td>\n",
       "      <td>12</td>\n",
       "      <td>7250.000</td>\n",
       "    </tr>\n",
       "    <tr>\n",
       "      <th>4</th>\n",
       "      <td>Audi</td>\n",
       "      <td>A4 New 2.0 TDI Multitronic</td>\n",
       "      <td>Coimbatore</td>\n",
       "      <td>27194.71</td>\n",
       "      <td>2013</td>\n",
       "      <td>40670</td>\n",
       "      <td>Diesel</td>\n",
       "      <td>Automatic</td>\n",
       "      <td>2</td>\n",
       "      <td>5.0</td>\n",
       "      <td>15.20</td>\n",
       "      <td>1968.0</td>\n",
       "      <td>140.80</td>\n",
       "      <td>11</td>\n",
       "      <td>3697.273</td>\n",
       "    </tr>\n",
       "  </tbody>\n",
       "</table>\n",
       "</div>"
      ],
      "text/plain": [
       "     Brand                        Name    Location     Price  Year  \\\n",
       "0   Maruti             Wagon R LXI CNG      Mumbai   2682.68  2010   \n",
       "1  Hyundai    Creta 1.6 CRDi SX Option        Pune  19162.00  2015   \n",
       "2    Honda                      Jazz V     Chennai   6898.32  2011   \n",
       "3   Maruti                  Ertiga VDI     Chennai   9197.76  2012   \n",
       "4     Audi  A4 New 2.0 TDI Multitronic  Coimbatore  27194.71  2013   \n",
       "\n",
       "   Kilometers_Driven Fuel_Type Transmission  Owner_Type  Seats  Mileage(kmpl)  \\\n",
       "0              72000       CNG       Manual           1    5.0          26.60   \n",
       "1              41000    Diesel       Manual           1    5.0          19.67   \n",
       "2              46000    Petrol       Manual           1    5.0          18.20   \n",
       "3              87000    Diesel       Manual           1    7.0          20.77   \n",
       "4              40670    Diesel    Automatic           2    5.0          15.20   \n",
       "\n",
       "   Engine(CC)  Power(bhp)  Car_Age  Km_per_Year  \n",
       "0       998.0       58.16       14     5142.857  \n",
       "1      1582.0      126.20        9     4555.556  \n",
       "2      1199.0       88.70       13     3538.462  \n",
       "3      1248.0       88.76       12     7250.000  \n",
       "4      1968.0      140.80       11     3697.273  "
      ]
     },
     "execution_count": 106,
     "metadata": {},
     "output_type": "execute_result"
    }
   ],
   "source": [
    "# Owner_Type 컬럼 바뀐거 확인\n",
    "df_raw.head()"
   ]
  },
  {
   "cell_type": "markdown",
   "metadata": {
    "id": "LCSVgvi7vazw"
   },
   "source": [
    "### 5-4. 차량 크기(Size) 컬럼 생성(Engine(CC)를 통한 크기 추정을 통해....)"
   ]
  },
  {
   "cell_type": "code",
   "execution_count": 109,
   "metadata": {
    "executionInfo": {
     "elapsed": 7,
     "status": "ok",
     "timestamp": 1742604218289,
     "user": {
      "displayName": "김성현",
      "userId": "09786982603210716097"
     },
     "user_tz": -540
    },
    "id": "CJoKLqF2vWU8"
   },
   "outputs": [],
   "source": [
    "# 차량 크기를 분류하는 함수\n",
    "\n",
    "def categorize_size(cc):\n",
    "    if cc >= 2000:\n",
    "        return 'Large'\n",
    "    elif 1000 <= cc < 2000:\n",
    "        return 'Medium'\n",
    "    else:\n",
    "        return 'Small'\n",
    "\n",
    "# 새로운 'Size' 컬럼 추가\n",
    "df_raw['Size'] = df_raw['Engine(CC)'].apply(categorize_size)"
   ]
  },
  {
   "cell_type": "code",
   "execution_count": 111,
   "metadata": {
    "colab": {
     "base_uri": "https://localhost:8080/",
     "height": 313
    },
    "executionInfo": {
     "elapsed": 237,
     "status": "ok",
     "timestamp": 1742604218523,
     "user": {
      "displayName": "김성현",
      "userId": "09786982603210716097"
     },
     "user_tz": -540
    },
    "id": "_RkILFxOv1AA",
    "outputId": "bc4a83a8-b99b-4351-ecd3-9757906ed3ff"
   },
   "outputs": [
    {
     "data": {
      "text/html": [
       "<div>\n",
       "<style scoped>\n",
       "    .dataframe tbody tr th:only-of-type {\n",
       "        vertical-align: middle;\n",
       "    }\n",
       "\n",
       "    .dataframe tbody tr th {\n",
       "        vertical-align: top;\n",
       "    }\n",
       "\n",
       "    .dataframe thead th {\n",
       "        text-align: right;\n",
       "    }\n",
       "</style>\n",
       "<table border=\"1\" class=\"dataframe\">\n",
       "  <thead>\n",
       "    <tr style=\"text-align: right;\">\n",
       "      <th></th>\n",
       "      <th>Brand</th>\n",
       "      <th>Name</th>\n",
       "      <th>Location</th>\n",
       "      <th>Price</th>\n",
       "      <th>Year</th>\n",
       "      <th>Kilometers_Driven</th>\n",
       "      <th>Fuel_Type</th>\n",
       "      <th>Transmission</th>\n",
       "      <th>Owner_Type</th>\n",
       "      <th>Seats</th>\n",
       "      <th>Mileage(kmpl)</th>\n",
       "      <th>Engine(CC)</th>\n",
       "      <th>Power(bhp)</th>\n",
       "      <th>Car_Age</th>\n",
       "      <th>Km_per_Year</th>\n",
       "      <th>Size</th>\n",
       "    </tr>\n",
       "  </thead>\n",
       "  <tbody>\n",
       "    <tr>\n",
       "      <th>0</th>\n",
       "      <td>Maruti</td>\n",
       "      <td>Wagon R LXI CNG</td>\n",
       "      <td>Mumbai</td>\n",
       "      <td>2682.68</td>\n",
       "      <td>2010</td>\n",
       "      <td>72000</td>\n",
       "      <td>CNG</td>\n",
       "      <td>Manual</td>\n",
       "      <td>1</td>\n",
       "      <td>5.0</td>\n",
       "      <td>26.60</td>\n",
       "      <td>998.0</td>\n",
       "      <td>58.16</td>\n",
       "      <td>14</td>\n",
       "      <td>5142.857</td>\n",
       "      <td>Small</td>\n",
       "    </tr>\n",
       "    <tr>\n",
       "      <th>1</th>\n",
       "      <td>Hyundai</td>\n",
       "      <td>Creta 1.6 CRDi SX Option</td>\n",
       "      <td>Pune</td>\n",
       "      <td>19162.00</td>\n",
       "      <td>2015</td>\n",
       "      <td>41000</td>\n",
       "      <td>Diesel</td>\n",
       "      <td>Manual</td>\n",
       "      <td>1</td>\n",
       "      <td>5.0</td>\n",
       "      <td>19.67</td>\n",
       "      <td>1582.0</td>\n",
       "      <td>126.20</td>\n",
       "      <td>9</td>\n",
       "      <td>4555.556</td>\n",
       "      <td>Medium</td>\n",
       "    </tr>\n",
       "    <tr>\n",
       "      <th>2</th>\n",
       "      <td>Honda</td>\n",
       "      <td>Jazz V</td>\n",
       "      <td>Chennai</td>\n",
       "      <td>6898.32</td>\n",
       "      <td>2011</td>\n",
       "      <td>46000</td>\n",
       "      <td>Petrol</td>\n",
       "      <td>Manual</td>\n",
       "      <td>1</td>\n",
       "      <td>5.0</td>\n",
       "      <td>18.20</td>\n",
       "      <td>1199.0</td>\n",
       "      <td>88.70</td>\n",
       "      <td>13</td>\n",
       "      <td>3538.462</td>\n",
       "      <td>Medium</td>\n",
       "    </tr>\n",
       "    <tr>\n",
       "      <th>3</th>\n",
       "      <td>Maruti</td>\n",
       "      <td>Ertiga VDI</td>\n",
       "      <td>Chennai</td>\n",
       "      <td>9197.76</td>\n",
       "      <td>2012</td>\n",
       "      <td>87000</td>\n",
       "      <td>Diesel</td>\n",
       "      <td>Manual</td>\n",
       "      <td>1</td>\n",
       "      <td>7.0</td>\n",
       "      <td>20.77</td>\n",
       "      <td>1248.0</td>\n",
       "      <td>88.76</td>\n",
       "      <td>12</td>\n",
       "      <td>7250.000</td>\n",
       "      <td>Medium</td>\n",
       "    </tr>\n",
       "    <tr>\n",
       "      <th>4</th>\n",
       "      <td>Audi</td>\n",
       "      <td>A4 New 2.0 TDI Multitronic</td>\n",
       "      <td>Coimbatore</td>\n",
       "      <td>27194.71</td>\n",
       "      <td>2013</td>\n",
       "      <td>40670</td>\n",
       "      <td>Diesel</td>\n",
       "      <td>Automatic</td>\n",
       "      <td>2</td>\n",
       "      <td>5.0</td>\n",
       "      <td>15.20</td>\n",
       "      <td>1968.0</td>\n",
       "      <td>140.80</td>\n",
       "      <td>11</td>\n",
       "      <td>3697.273</td>\n",
       "      <td>Medium</td>\n",
       "    </tr>\n",
       "  </tbody>\n",
       "</table>\n",
       "</div>"
      ],
      "text/plain": [
       "     Brand                        Name    Location     Price  Year  \\\n",
       "0   Maruti             Wagon R LXI CNG      Mumbai   2682.68  2010   \n",
       "1  Hyundai    Creta 1.6 CRDi SX Option        Pune  19162.00  2015   \n",
       "2    Honda                      Jazz V     Chennai   6898.32  2011   \n",
       "3   Maruti                  Ertiga VDI     Chennai   9197.76  2012   \n",
       "4     Audi  A4 New 2.0 TDI Multitronic  Coimbatore  27194.71  2013   \n",
       "\n",
       "   Kilometers_Driven Fuel_Type Transmission  Owner_Type  Seats  Mileage(kmpl)  \\\n",
       "0              72000       CNG       Manual           1    5.0          26.60   \n",
       "1              41000    Diesel       Manual           1    5.0          19.67   \n",
       "2              46000    Petrol       Manual           1    5.0          18.20   \n",
       "3              87000    Diesel       Manual           1    7.0          20.77   \n",
       "4              40670    Diesel    Automatic           2    5.0          15.20   \n",
       "\n",
       "   Engine(CC)  Power(bhp)  Car_Age  Km_per_Year    Size  \n",
       "0       998.0       58.16       14     5142.857   Small  \n",
       "1      1582.0      126.20        9     4555.556  Medium  \n",
       "2      1199.0       88.70       13     3538.462  Medium  \n",
       "3      1248.0       88.76       12     7250.000  Medium  \n",
       "4      1968.0      140.80       11     3697.273  Medium  "
      ]
     },
     "execution_count": 111,
     "metadata": {},
     "output_type": "execute_result"
    }
   ],
   "source": [
    "# Size 컬럼 잘 만들었는지 확인\n",
    "df_raw.head()"
   ]
  },
  {
   "cell_type": "code",
   "execution_count": 113,
   "metadata": {
    "colab": {
     "base_uri": "https://localhost:8080/"
    },
    "executionInfo": {
     "elapsed": 27,
     "status": "ok",
     "timestamp": 1742604218525,
     "user": {
      "displayName": "김성현",
      "userId": "09786982603210716097"
     },
     "user_tz": -540
    },
    "id": "kO4_etpbwUpM",
    "outputId": "68ac5145-a023-4239-99f4-659b3abd2591"
   },
   "outputs": [
    {
     "data": {
      "text/plain": [
       "array(['Small', 'Medium', 'Large'], dtype=object)"
      ]
     },
     "execution_count": 113,
     "metadata": {},
     "output_type": "execute_result"
    }
   ],
   "source": [
    "df_raw['Size'].unique()"
   ]
  },
  {
   "cell_type": "code",
   "execution_count": 115,
   "metadata": {
    "executionInfo": {
     "elapsed": 7,
     "status": "ok",
     "timestamp": 1742604218526,
     "user": {
      "displayName": "김성현",
      "userId": "09786982603210716097"
     },
     "user_tz": -540
    },
    "id": "uXDml-gvv7UA"
   },
   "outputs": [],
   "source": [
    "# 인코딩\n",
    "\n",
    "size_mapping = {'Small': 1, 'Medium': 2, 'Large': 3}\n",
    "\n",
    "# 매핑 적용\n",
    "df_raw['Size'] = df_raw['Size'].map(size_mapping)\n"
   ]
  },
  {
   "cell_type": "code",
   "execution_count": 117,
   "metadata": {
    "colab": {
     "base_uri": "https://localhost:8080/",
     "height": 313
    },
    "executionInfo": {
     "elapsed": 14,
     "status": "ok",
     "timestamp": 1742604218535,
     "user": {
      "displayName": "김성현",
      "userId": "09786982603210716097"
     },
     "user_tz": -540
    },
    "id": "LPAJ63gq5X7t",
    "outputId": "d07f82a0-0721-44b8-a3c4-256992ca3b7e"
   },
   "outputs": [
    {
     "data": {
      "text/html": [
       "<div>\n",
       "<style scoped>\n",
       "    .dataframe tbody tr th:only-of-type {\n",
       "        vertical-align: middle;\n",
       "    }\n",
       "\n",
       "    .dataframe tbody tr th {\n",
       "        vertical-align: top;\n",
       "    }\n",
       "\n",
       "    .dataframe thead th {\n",
       "        text-align: right;\n",
       "    }\n",
       "</style>\n",
       "<table border=\"1\" class=\"dataframe\">\n",
       "  <thead>\n",
       "    <tr style=\"text-align: right;\">\n",
       "      <th></th>\n",
       "      <th>Brand</th>\n",
       "      <th>Name</th>\n",
       "      <th>Location</th>\n",
       "      <th>Price</th>\n",
       "      <th>Year</th>\n",
       "      <th>Kilometers_Driven</th>\n",
       "      <th>Fuel_Type</th>\n",
       "      <th>Transmission</th>\n",
       "      <th>Owner_Type</th>\n",
       "      <th>Seats</th>\n",
       "      <th>Mileage(kmpl)</th>\n",
       "      <th>Engine(CC)</th>\n",
       "      <th>Power(bhp)</th>\n",
       "      <th>Car_Age</th>\n",
       "      <th>Km_per_Year</th>\n",
       "      <th>Size</th>\n",
       "    </tr>\n",
       "  </thead>\n",
       "  <tbody>\n",
       "    <tr>\n",
       "      <th>0</th>\n",
       "      <td>Maruti</td>\n",
       "      <td>Wagon R LXI CNG</td>\n",
       "      <td>Mumbai</td>\n",
       "      <td>2682.68</td>\n",
       "      <td>2010</td>\n",
       "      <td>72000</td>\n",
       "      <td>CNG</td>\n",
       "      <td>Manual</td>\n",
       "      <td>1</td>\n",
       "      <td>5.0</td>\n",
       "      <td>26.60</td>\n",
       "      <td>998.0</td>\n",
       "      <td>58.16</td>\n",
       "      <td>14</td>\n",
       "      <td>5142.857</td>\n",
       "      <td>1</td>\n",
       "    </tr>\n",
       "    <tr>\n",
       "      <th>1</th>\n",
       "      <td>Hyundai</td>\n",
       "      <td>Creta 1.6 CRDi SX Option</td>\n",
       "      <td>Pune</td>\n",
       "      <td>19162.00</td>\n",
       "      <td>2015</td>\n",
       "      <td>41000</td>\n",
       "      <td>Diesel</td>\n",
       "      <td>Manual</td>\n",
       "      <td>1</td>\n",
       "      <td>5.0</td>\n",
       "      <td>19.67</td>\n",
       "      <td>1582.0</td>\n",
       "      <td>126.20</td>\n",
       "      <td>9</td>\n",
       "      <td>4555.556</td>\n",
       "      <td>2</td>\n",
       "    </tr>\n",
       "    <tr>\n",
       "      <th>2</th>\n",
       "      <td>Honda</td>\n",
       "      <td>Jazz V</td>\n",
       "      <td>Chennai</td>\n",
       "      <td>6898.32</td>\n",
       "      <td>2011</td>\n",
       "      <td>46000</td>\n",
       "      <td>Petrol</td>\n",
       "      <td>Manual</td>\n",
       "      <td>1</td>\n",
       "      <td>5.0</td>\n",
       "      <td>18.20</td>\n",
       "      <td>1199.0</td>\n",
       "      <td>88.70</td>\n",
       "      <td>13</td>\n",
       "      <td>3538.462</td>\n",
       "      <td>2</td>\n",
       "    </tr>\n",
       "    <tr>\n",
       "      <th>3</th>\n",
       "      <td>Maruti</td>\n",
       "      <td>Ertiga VDI</td>\n",
       "      <td>Chennai</td>\n",
       "      <td>9197.76</td>\n",
       "      <td>2012</td>\n",
       "      <td>87000</td>\n",
       "      <td>Diesel</td>\n",
       "      <td>Manual</td>\n",
       "      <td>1</td>\n",
       "      <td>7.0</td>\n",
       "      <td>20.77</td>\n",
       "      <td>1248.0</td>\n",
       "      <td>88.76</td>\n",
       "      <td>12</td>\n",
       "      <td>7250.000</td>\n",
       "      <td>2</td>\n",
       "    </tr>\n",
       "    <tr>\n",
       "      <th>4</th>\n",
       "      <td>Audi</td>\n",
       "      <td>A4 New 2.0 TDI Multitronic</td>\n",
       "      <td>Coimbatore</td>\n",
       "      <td>27194.71</td>\n",
       "      <td>2013</td>\n",
       "      <td>40670</td>\n",
       "      <td>Diesel</td>\n",
       "      <td>Automatic</td>\n",
       "      <td>2</td>\n",
       "      <td>5.0</td>\n",
       "      <td>15.20</td>\n",
       "      <td>1968.0</td>\n",
       "      <td>140.80</td>\n",
       "      <td>11</td>\n",
       "      <td>3697.273</td>\n",
       "      <td>2</td>\n",
       "    </tr>\n",
       "  </tbody>\n",
       "</table>\n",
       "</div>"
      ],
      "text/plain": [
       "     Brand                        Name    Location     Price  Year  \\\n",
       "0   Maruti             Wagon R LXI CNG      Mumbai   2682.68  2010   \n",
       "1  Hyundai    Creta 1.6 CRDi SX Option        Pune  19162.00  2015   \n",
       "2    Honda                      Jazz V     Chennai   6898.32  2011   \n",
       "3   Maruti                  Ertiga VDI     Chennai   9197.76  2012   \n",
       "4     Audi  A4 New 2.0 TDI Multitronic  Coimbatore  27194.71  2013   \n",
       "\n",
       "   Kilometers_Driven Fuel_Type Transmission  Owner_Type  Seats  Mileage(kmpl)  \\\n",
       "0              72000       CNG       Manual           1    5.0          26.60   \n",
       "1              41000    Diesel       Manual           1    5.0          19.67   \n",
       "2              46000    Petrol       Manual           1    5.0          18.20   \n",
       "3              87000    Diesel       Manual           1    7.0          20.77   \n",
       "4              40670    Diesel    Automatic           2    5.0          15.20   \n",
       "\n",
       "   Engine(CC)  Power(bhp)  Car_Age  Km_per_Year  Size  \n",
       "0       998.0       58.16       14     5142.857     1  \n",
       "1      1582.0      126.20        9     4555.556     2  \n",
       "2      1199.0       88.70       13     3538.462     2  \n",
       "3      1248.0       88.76       12     7250.000     2  \n",
       "4      1968.0      140.80       11     3697.273     2  "
      ]
     },
     "execution_count": 117,
     "metadata": {},
     "output_type": "execute_result"
    }
   ],
   "source": [
    "df_raw.head()"
   ]
  },
  {
   "cell_type": "markdown",
   "metadata": {
    "id": "Jdj-S0EFwbyJ"
   },
   "source": [
    "### 5-5. 지역(Location)과 GDP를 통해 GDP 그룹(GDP_Group)을 추가"
   ]
  },
  {
   "cell_type": "code",
   "execution_count": 120,
   "metadata": {
    "executionInfo": {
     "elapsed": 35,
     "status": "ok",
     "timestamp": 1742604218571,
     "user": {
      "displayName": "김성현",
      "userId": "09786982603210716097"
     },
     "user_tz": -540
    },
    "id": "stOiPDvIwbSV"
   },
   "outputs": [],
   "source": [
    "# 지역에 따른 GDP 정도를 통해 새로운 GDP 그룹 추가\n",
    "gdp_groups = {\n",
    "    'Delhi': 'High GDP',\n",
    "    'Mumbai': 'High GDP',\n",
    "    'Pune': 'Upper-Middle GDP',\n",
    "    'Ahmedabad': 'Upper-Middle GDP',\n",
    "    'Chennai': 'Upper-Middle GDP',\n",
    "    'Coimbatore': 'Lower-Middle GDP',\n",
    "    'Hyderabad': 'Upper-Middle GDP',\n",
    "    'Kochi': 'Lower GDP',\n",
    "    'Bangalore': 'High GDP',\n",
    "    'Kolkata': 'High GDP',\n",
    "    'Jaipur': 'Lower GDP'\n",
    "}\n",
    "\n",
    "\n",
    "df_raw[\"GDP_Group\"] = df_raw[\"Location\"].map(gdp_groups)"
   ]
  },
  {
   "cell_type": "code",
   "execution_count": 122,
   "metadata": {
    "colab": {
     "base_uri": "https://localhost:8080/"
    },
    "executionInfo": {
     "elapsed": 26,
     "status": "ok",
     "timestamp": 1742604218574,
     "user": {
      "displayName": "김성현",
      "userId": "09786982603210716097"
     },
     "user_tz": -540
    },
    "id": "eSeoMfpCw3TJ",
    "outputId": "9b8db4dc-f40a-4042-b725-f58e8c59f06c"
   },
   "outputs": [
    {
     "data": {
      "text/plain": [
       "array(['High GDP', 'Upper-Middle GDP', 'Lower-Middle GDP', 'Lower GDP'],\n",
       "      dtype=object)"
      ]
     },
     "execution_count": 122,
     "metadata": {},
     "output_type": "execute_result"
    }
   ],
   "source": [
    "# 잘 만들어 졌는지 확인\n",
    "df_raw[\"GDP_Group\"].unique()"
   ]
  },
  {
   "cell_type": "code",
   "execution_count": 124,
   "metadata": {
    "executionInfo": {
     "elapsed": 7,
     "status": "ok",
     "timestamp": 1742604218575,
     "user": {
      "displayName": "김성현",
      "userId": "09786982603210716097"
     },
     "user_tz": -540
    },
    "id": "M4cmhef1xHAU"
   },
   "outputs": [],
   "source": [
    "# 인코딩\n",
    "\n",
    "gdp_mapping = {'High GDP': 4, 'Upper-Middle GDP': 3, 'Lower-Middle GDP': 2,'Lower GDP':1 }\n",
    "\n",
    "# 매핑 적용\n",
    "df_raw['GDP_Group'] = df_raw['GDP_Group'].map(gdp_mapping)\n",
    "\n"
   ]
  },
  {
   "cell_type": "code",
   "execution_count": 126,
   "metadata": {
    "colab": {
     "base_uri": "https://localhost:8080/",
     "height": 313
    },
    "executionInfo": {
     "elapsed": 20,
     "status": "ok",
     "timestamp": 1742604218589,
     "user": {
      "displayName": "김성현",
      "userId": "09786982603210716097"
     },
     "user_tz": -540
    },
    "id": "_tCt-Pwi4bkt",
    "outputId": "02a8fed4-c033-4dac-a815-0698eb9fa18a"
   },
   "outputs": [
    {
     "data": {
      "text/html": [
       "<div>\n",
       "<style scoped>\n",
       "    .dataframe tbody tr th:only-of-type {\n",
       "        vertical-align: middle;\n",
       "    }\n",
       "\n",
       "    .dataframe tbody tr th {\n",
       "        vertical-align: top;\n",
       "    }\n",
       "\n",
       "    .dataframe thead th {\n",
       "        text-align: right;\n",
       "    }\n",
       "</style>\n",
       "<table border=\"1\" class=\"dataframe\">\n",
       "  <thead>\n",
       "    <tr style=\"text-align: right;\">\n",
       "      <th></th>\n",
       "      <th>Brand</th>\n",
       "      <th>Name</th>\n",
       "      <th>Location</th>\n",
       "      <th>Price</th>\n",
       "      <th>Year</th>\n",
       "      <th>Kilometers_Driven</th>\n",
       "      <th>Fuel_Type</th>\n",
       "      <th>Transmission</th>\n",
       "      <th>Owner_Type</th>\n",
       "      <th>Seats</th>\n",
       "      <th>Mileage(kmpl)</th>\n",
       "      <th>Engine(CC)</th>\n",
       "      <th>Power(bhp)</th>\n",
       "      <th>Car_Age</th>\n",
       "      <th>Km_per_Year</th>\n",
       "      <th>Size</th>\n",
       "      <th>GDP_Group</th>\n",
       "    </tr>\n",
       "  </thead>\n",
       "  <tbody>\n",
       "    <tr>\n",
       "      <th>0</th>\n",
       "      <td>Maruti</td>\n",
       "      <td>Wagon R LXI CNG</td>\n",
       "      <td>Mumbai</td>\n",
       "      <td>2682.68</td>\n",
       "      <td>2010</td>\n",
       "      <td>72000</td>\n",
       "      <td>CNG</td>\n",
       "      <td>Manual</td>\n",
       "      <td>1</td>\n",
       "      <td>5.0</td>\n",
       "      <td>26.60</td>\n",
       "      <td>998.0</td>\n",
       "      <td>58.16</td>\n",
       "      <td>14</td>\n",
       "      <td>5142.857</td>\n",
       "      <td>1</td>\n",
       "      <td>4</td>\n",
       "    </tr>\n",
       "    <tr>\n",
       "      <th>1</th>\n",
       "      <td>Hyundai</td>\n",
       "      <td>Creta 1.6 CRDi SX Option</td>\n",
       "      <td>Pune</td>\n",
       "      <td>19162.00</td>\n",
       "      <td>2015</td>\n",
       "      <td>41000</td>\n",
       "      <td>Diesel</td>\n",
       "      <td>Manual</td>\n",
       "      <td>1</td>\n",
       "      <td>5.0</td>\n",
       "      <td>19.67</td>\n",
       "      <td>1582.0</td>\n",
       "      <td>126.20</td>\n",
       "      <td>9</td>\n",
       "      <td>4555.556</td>\n",
       "      <td>2</td>\n",
       "      <td>3</td>\n",
       "    </tr>\n",
       "    <tr>\n",
       "      <th>2</th>\n",
       "      <td>Honda</td>\n",
       "      <td>Jazz V</td>\n",
       "      <td>Chennai</td>\n",
       "      <td>6898.32</td>\n",
       "      <td>2011</td>\n",
       "      <td>46000</td>\n",
       "      <td>Petrol</td>\n",
       "      <td>Manual</td>\n",
       "      <td>1</td>\n",
       "      <td>5.0</td>\n",
       "      <td>18.20</td>\n",
       "      <td>1199.0</td>\n",
       "      <td>88.70</td>\n",
       "      <td>13</td>\n",
       "      <td>3538.462</td>\n",
       "      <td>2</td>\n",
       "      <td>3</td>\n",
       "    </tr>\n",
       "    <tr>\n",
       "      <th>3</th>\n",
       "      <td>Maruti</td>\n",
       "      <td>Ertiga VDI</td>\n",
       "      <td>Chennai</td>\n",
       "      <td>9197.76</td>\n",
       "      <td>2012</td>\n",
       "      <td>87000</td>\n",
       "      <td>Diesel</td>\n",
       "      <td>Manual</td>\n",
       "      <td>1</td>\n",
       "      <td>7.0</td>\n",
       "      <td>20.77</td>\n",
       "      <td>1248.0</td>\n",
       "      <td>88.76</td>\n",
       "      <td>12</td>\n",
       "      <td>7250.000</td>\n",
       "      <td>2</td>\n",
       "      <td>3</td>\n",
       "    </tr>\n",
       "    <tr>\n",
       "      <th>4</th>\n",
       "      <td>Audi</td>\n",
       "      <td>A4 New 2.0 TDI Multitronic</td>\n",
       "      <td>Coimbatore</td>\n",
       "      <td>27194.71</td>\n",
       "      <td>2013</td>\n",
       "      <td>40670</td>\n",
       "      <td>Diesel</td>\n",
       "      <td>Automatic</td>\n",
       "      <td>2</td>\n",
       "      <td>5.0</td>\n",
       "      <td>15.20</td>\n",
       "      <td>1968.0</td>\n",
       "      <td>140.80</td>\n",
       "      <td>11</td>\n",
       "      <td>3697.273</td>\n",
       "      <td>2</td>\n",
       "      <td>2</td>\n",
       "    </tr>\n",
       "  </tbody>\n",
       "</table>\n",
       "</div>"
      ],
      "text/plain": [
       "     Brand                        Name    Location     Price  Year  \\\n",
       "0   Maruti             Wagon R LXI CNG      Mumbai   2682.68  2010   \n",
       "1  Hyundai    Creta 1.6 CRDi SX Option        Pune  19162.00  2015   \n",
       "2    Honda                      Jazz V     Chennai   6898.32  2011   \n",
       "3   Maruti                  Ertiga VDI     Chennai   9197.76  2012   \n",
       "4     Audi  A4 New 2.0 TDI Multitronic  Coimbatore  27194.71  2013   \n",
       "\n",
       "   Kilometers_Driven Fuel_Type Transmission  Owner_Type  Seats  Mileage(kmpl)  \\\n",
       "0              72000       CNG       Manual           1    5.0          26.60   \n",
       "1              41000    Diesel       Manual           1    5.0          19.67   \n",
       "2              46000    Petrol       Manual           1    5.0          18.20   \n",
       "3              87000    Diesel       Manual           1    7.0          20.77   \n",
       "4              40670    Diesel    Automatic           2    5.0          15.20   \n",
       "\n",
       "   Engine(CC)  Power(bhp)  Car_Age  Km_per_Year  Size  GDP_Group  \n",
       "0       998.0       58.16       14     5142.857     1          4  \n",
       "1      1582.0      126.20        9     4555.556     2          3  \n",
       "2      1199.0       88.70       13     3538.462     2          3  \n",
       "3      1248.0       88.76       12     7250.000     2          3  \n",
       "4      1968.0      140.80       11     3697.273     2          2  "
      ]
     },
     "execution_count": 126,
     "metadata": {},
     "output_type": "execute_result"
    }
   ],
   "source": [
    "df_raw.head()"
   ]
  },
  {
   "cell_type": "markdown",
   "metadata": {
    "id": "dYxeD9PJA5um"
   },
   "source": [
    "### 5-6. Brand를 가격 별로 분류하기 (저가형, 중저가형......)"
   ]
  },
  {
   "cell_type": "code",
   "execution_count": 129,
   "metadata": {
    "executionInfo": {
     "elapsed": 10,
     "status": "ok",
     "timestamp": 1742604218591,
     "user": {
      "displayName": "김성현",
      "userId": "09786982603210716097"
     },
     "user_tz": -540
    },
    "id": "BM6DW5anA41o"
   },
   "outputs": [],
   "source": [
    "# brand를 가격대로 분류한 brand_segment 컬럼 만들기)\n",
    "\n",
    "brand_segment = {\n",
    "    'Datsun': 'Low',\n",
    "    'Hindustan': 'Low',\n",
    "    'Tata': 'Low',\n",
    "    'Smart': 'Low',\n",
    "\n",
    "    'Maruti': 'Lower-Mid',\n",
    "    'Hyundai': 'Lower-Mid',\n",
    "    'Honda': 'Lower-Mid',\n",
    "    'Ford': 'Lower-Mid',\n",
    "    'Nissan': 'Lower-Mid',\n",
    "    'Renault': 'Lower-Mid',\n",
    "    'Mahindra': 'Lower-Mid',\n",
    "    'Chevrolet': 'Lower-Mid',\n",
    "    'Fiat': 'Lower-Mid',\n",
    "\n",
    "    'Toyota': 'Upper-Mid',\n",
    "    'Volkswagen': 'Upper-Mid',\n",
    "    'Skoda': 'Upper-Mid',\n",
    "    'ISUZU': 'Upper-Mid',\n",
    "    'Mitsubishi': 'Upper-Mid',\n",
    "    'Jeep': 'Upper-Mid',\n",
    "    'Mini': 'Upper-Mid',\n",
    "    'Opel': 'Upper-Mid',\n",
    "\n",
    "    'Audi': 'High',\n",
    "    'Mercedes-Benz': 'High',\n",
    "    'BMW': 'High',\n",
    "    'Jaguar': 'High',\n",
    "    'Volvo': 'High',\n",
    "    'Porsche': 'High',\n",
    "    'LandRover': 'High',\n",
    "    'Bentley': 'High',\n",
    "    'Lamborghini': 'High',\n",
    "    'Force': 'High'\n",
    "}\n",
    "\n",
    "df_raw[\"Brand_Segment\"] = df_raw[\"Brand\"].map(brand_segment)\n"
   ]
  },
  {
   "cell_type": "code",
   "execution_count": 131,
   "metadata": {
    "colab": {
     "base_uri": "https://localhost:8080/",
     "height": 313
    },
    "executionInfo": {
     "elapsed": 65,
     "status": "ok",
     "timestamp": 1742604218652,
     "user": {
      "displayName": "김성현",
      "userId": "09786982603210716097"
     },
     "user_tz": -540
    },
    "id": "fF7jWG4A4ekq",
    "outputId": "0e3109ec-3bf0-45c7-f1c2-7fb9afc80c5c"
   },
   "outputs": [
    {
     "data": {
      "text/html": [
       "<div>\n",
       "<style scoped>\n",
       "    .dataframe tbody tr th:only-of-type {\n",
       "        vertical-align: middle;\n",
       "    }\n",
       "\n",
       "    .dataframe tbody tr th {\n",
       "        vertical-align: top;\n",
       "    }\n",
       "\n",
       "    .dataframe thead th {\n",
       "        text-align: right;\n",
       "    }\n",
       "</style>\n",
       "<table border=\"1\" class=\"dataframe\">\n",
       "  <thead>\n",
       "    <tr style=\"text-align: right;\">\n",
       "      <th></th>\n",
       "      <th>Brand</th>\n",
       "      <th>Name</th>\n",
       "      <th>Location</th>\n",
       "      <th>Price</th>\n",
       "      <th>Year</th>\n",
       "      <th>Kilometers_Driven</th>\n",
       "      <th>Fuel_Type</th>\n",
       "      <th>Transmission</th>\n",
       "      <th>Owner_Type</th>\n",
       "      <th>Seats</th>\n",
       "      <th>Mileage(kmpl)</th>\n",
       "      <th>Engine(CC)</th>\n",
       "      <th>Power(bhp)</th>\n",
       "      <th>Car_Age</th>\n",
       "      <th>Km_per_Year</th>\n",
       "      <th>Size</th>\n",
       "      <th>GDP_Group</th>\n",
       "      <th>Brand_Segment</th>\n",
       "    </tr>\n",
       "  </thead>\n",
       "  <tbody>\n",
       "    <tr>\n",
       "      <th>0</th>\n",
       "      <td>Maruti</td>\n",
       "      <td>Wagon R LXI CNG</td>\n",
       "      <td>Mumbai</td>\n",
       "      <td>2682.68</td>\n",
       "      <td>2010</td>\n",
       "      <td>72000</td>\n",
       "      <td>CNG</td>\n",
       "      <td>Manual</td>\n",
       "      <td>1</td>\n",
       "      <td>5.0</td>\n",
       "      <td>26.60</td>\n",
       "      <td>998.0</td>\n",
       "      <td>58.16</td>\n",
       "      <td>14</td>\n",
       "      <td>5142.857</td>\n",
       "      <td>1</td>\n",
       "      <td>4</td>\n",
       "      <td>Lower-Mid</td>\n",
       "    </tr>\n",
       "    <tr>\n",
       "      <th>1</th>\n",
       "      <td>Hyundai</td>\n",
       "      <td>Creta 1.6 CRDi SX Option</td>\n",
       "      <td>Pune</td>\n",
       "      <td>19162.00</td>\n",
       "      <td>2015</td>\n",
       "      <td>41000</td>\n",
       "      <td>Diesel</td>\n",
       "      <td>Manual</td>\n",
       "      <td>1</td>\n",
       "      <td>5.0</td>\n",
       "      <td>19.67</td>\n",
       "      <td>1582.0</td>\n",
       "      <td>126.20</td>\n",
       "      <td>9</td>\n",
       "      <td>4555.556</td>\n",
       "      <td>2</td>\n",
       "      <td>3</td>\n",
       "      <td>Lower-Mid</td>\n",
       "    </tr>\n",
       "    <tr>\n",
       "      <th>2</th>\n",
       "      <td>Honda</td>\n",
       "      <td>Jazz V</td>\n",
       "      <td>Chennai</td>\n",
       "      <td>6898.32</td>\n",
       "      <td>2011</td>\n",
       "      <td>46000</td>\n",
       "      <td>Petrol</td>\n",
       "      <td>Manual</td>\n",
       "      <td>1</td>\n",
       "      <td>5.0</td>\n",
       "      <td>18.20</td>\n",
       "      <td>1199.0</td>\n",
       "      <td>88.70</td>\n",
       "      <td>13</td>\n",
       "      <td>3538.462</td>\n",
       "      <td>2</td>\n",
       "      <td>3</td>\n",
       "      <td>Lower-Mid</td>\n",
       "    </tr>\n",
       "    <tr>\n",
       "      <th>3</th>\n",
       "      <td>Maruti</td>\n",
       "      <td>Ertiga VDI</td>\n",
       "      <td>Chennai</td>\n",
       "      <td>9197.76</td>\n",
       "      <td>2012</td>\n",
       "      <td>87000</td>\n",
       "      <td>Diesel</td>\n",
       "      <td>Manual</td>\n",
       "      <td>1</td>\n",
       "      <td>7.0</td>\n",
       "      <td>20.77</td>\n",
       "      <td>1248.0</td>\n",
       "      <td>88.76</td>\n",
       "      <td>12</td>\n",
       "      <td>7250.000</td>\n",
       "      <td>2</td>\n",
       "      <td>3</td>\n",
       "      <td>Lower-Mid</td>\n",
       "    </tr>\n",
       "    <tr>\n",
       "      <th>4</th>\n",
       "      <td>Audi</td>\n",
       "      <td>A4 New 2.0 TDI Multitronic</td>\n",
       "      <td>Coimbatore</td>\n",
       "      <td>27194.71</td>\n",
       "      <td>2013</td>\n",
       "      <td>40670</td>\n",
       "      <td>Diesel</td>\n",
       "      <td>Automatic</td>\n",
       "      <td>2</td>\n",
       "      <td>5.0</td>\n",
       "      <td>15.20</td>\n",
       "      <td>1968.0</td>\n",
       "      <td>140.80</td>\n",
       "      <td>11</td>\n",
       "      <td>3697.273</td>\n",
       "      <td>2</td>\n",
       "      <td>2</td>\n",
       "      <td>High</td>\n",
       "    </tr>\n",
       "  </tbody>\n",
       "</table>\n",
       "</div>"
      ],
      "text/plain": [
       "     Brand                        Name    Location     Price  Year  \\\n",
       "0   Maruti             Wagon R LXI CNG      Mumbai   2682.68  2010   \n",
       "1  Hyundai    Creta 1.6 CRDi SX Option        Pune  19162.00  2015   \n",
       "2    Honda                      Jazz V     Chennai   6898.32  2011   \n",
       "3   Maruti                  Ertiga VDI     Chennai   9197.76  2012   \n",
       "4     Audi  A4 New 2.0 TDI Multitronic  Coimbatore  27194.71  2013   \n",
       "\n",
       "   Kilometers_Driven Fuel_Type Transmission  Owner_Type  Seats  Mileage(kmpl)  \\\n",
       "0              72000       CNG       Manual           1    5.0          26.60   \n",
       "1              41000    Diesel       Manual           1    5.0          19.67   \n",
       "2              46000    Petrol       Manual           1    5.0          18.20   \n",
       "3              87000    Diesel       Manual           1    7.0          20.77   \n",
       "4              40670    Diesel    Automatic           2    5.0          15.20   \n",
       "\n",
       "   Engine(CC)  Power(bhp)  Car_Age  Km_per_Year  Size  GDP_Group Brand_Segment  \n",
       "0       998.0       58.16       14     5142.857     1          4     Lower-Mid  \n",
       "1      1582.0      126.20        9     4555.556     2          3     Lower-Mid  \n",
       "2      1199.0       88.70       13     3538.462     2          3     Lower-Mid  \n",
       "3      1248.0       88.76       12     7250.000     2          3     Lower-Mid  \n",
       "4      1968.0      140.80       11     3697.273     2          2          High  "
      ]
     },
     "execution_count": 131,
     "metadata": {},
     "output_type": "execute_result"
    }
   ],
   "source": [
    "df_raw.head()"
   ]
  },
  {
   "cell_type": "code",
   "execution_count": 133,
   "metadata": {
    "colab": {
     "base_uri": "https://localhost:8080/",
     "height": 648
    },
    "executionInfo": {
     "elapsed": 10,
     "status": "ok",
     "timestamp": 1742604218663,
     "user": {
      "displayName": "김성현",
      "userId": "09786982603210716097"
     },
     "user_tz": -540
    },
    "id": "VUA5DcL8HzEM",
    "outputId": "c9685ca1-8d8e-4981-86f4-576ccff76a8a"
   },
   "outputs": [
    {
     "data": {
      "text/plain": [
       "Brand                   0\n",
       "Name                    0\n",
       "Location                0\n",
       "Price                1059\n",
       "Year                    0\n",
       "Kilometers_Driven       0\n",
       "Fuel_Type               0\n",
       "Transmission            0\n",
       "Owner_Type              0\n",
       "Seats                   0\n",
       "Mileage(kmpl)           0\n",
       "Engine(CC)              0\n",
       "Power(bhp)              0\n",
       "Car_Age                 0\n",
       "Km_per_Year             0\n",
       "Size                    0\n",
       "GDP_Group               0\n",
       "Brand_Segment           0\n",
       "dtype: int64"
      ]
     },
     "execution_count": 133,
     "metadata": {},
     "output_type": "execute_result"
    }
   ],
   "source": [
    "df_raw.isnull().sum()"
   ]
  },
  {
   "cell_type": "code",
   "execution_count": 135,
   "metadata": {
    "executionInfo": {
     "elapsed": 10,
     "status": "ok",
     "timestamp": 1742604218675,
     "user": {
      "displayName": "김성현",
      "userId": "09786982603210716097"
     },
     "user_tz": -540
    },
    "id": "Gtrzl9OF70iO"
   },
   "outputs": [],
   "source": [
    "# 브랜드 인코딩\n",
    "\n",
    "brand_mapping = {'High': 4, 'Upper-Mid': 3, 'Lower-Mid': 2,'Low':1 }\n",
    "\n",
    "# 매핑 적용\n",
    "df_raw['Brand_Segment'] = df_raw['Brand_Segment'].map(brand_mapping)"
   ]
  },
  {
   "cell_type": "code",
   "execution_count": 137,
   "metadata": {
    "colab": {
     "base_uri": "https://localhost:8080/",
     "height": 313
    },
    "executionInfo": {
     "elapsed": 68,
     "status": "ok",
     "timestamp": 1742604218752,
     "user": {
      "displayName": "김성현",
      "userId": "09786982603210716097"
     },
     "user_tz": -540
    },
    "id": "Bti1FKkTCbMF",
    "outputId": "d650e0c3-53d5-47ad-bc53-cc5e81582001"
   },
   "outputs": [
    {
     "data": {
      "text/html": [
       "<div>\n",
       "<style scoped>\n",
       "    .dataframe tbody tr th:only-of-type {\n",
       "        vertical-align: middle;\n",
       "    }\n",
       "\n",
       "    .dataframe tbody tr th {\n",
       "        vertical-align: top;\n",
       "    }\n",
       "\n",
       "    .dataframe thead th {\n",
       "        text-align: right;\n",
       "    }\n",
       "</style>\n",
       "<table border=\"1\" class=\"dataframe\">\n",
       "  <thead>\n",
       "    <tr style=\"text-align: right;\">\n",
       "      <th></th>\n",
       "      <th>Brand</th>\n",
       "      <th>Name</th>\n",
       "      <th>Location</th>\n",
       "      <th>Price</th>\n",
       "      <th>Year</th>\n",
       "      <th>Kilometers_Driven</th>\n",
       "      <th>Fuel_Type</th>\n",
       "      <th>Transmission</th>\n",
       "      <th>Owner_Type</th>\n",
       "      <th>Seats</th>\n",
       "      <th>Mileage(kmpl)</th>\n",
       "      <th>Engine(CC)</th>\n",
       "      <th>Power(bhp)</th>\n",
       "      <th>Car_Age</th>\n",
       "      <th>Km_per_Year</th>\n",
       "      <th>Size</th>\n",
       "      <th>GDP_Group</th>\n",
       "      <th>Brand_Segment</th>\n",
       "    </tr>\n",
       "  </thead>\n",
       "  <tbody>\n",
       "    <tr>\n",
       "      <th>0</th>\n",
       "      <td>Maruti</td>\n",
       "      <td>Wagon R LXI CNG</td>\n",
       "      <td>Mumbai</td>\n",
       "      <td>2682.68</td>\n",
       "      <td>2010</td>\n",
       "      <td>72000</td>\n",
       "      <td>CNG</td>\n",
       "      <td>Manual</td>\n",
       "      <td>1</td>\n",
       "      <td>5.0</td>\n",
       "      <td>26.60</td>\n",
       "      <td>998.0</td>\n",
       "      <td>58.16</td>\n",
       "      <td>14</td>\n",
       "      <td>5142.857</td>\n",
       "      <td>1</td>\n",
       "      <td>4</td>\n",
       "      <td>2</td>\n",
       "    </tr>\n",
       "    <tr>\n",
       "      <th>1</th>\n",
       "      <td>Hyundai</td>\n",
       "      <td>Creta 1.6 CRDi SX Option</td>\n",
       "      <td>Pune</td>\n",
       "      <td>19162.00</td>\n",
       "      <td>2015</td>\n",
       "      <td>41000</td>\n",
       "      <td>Diesel</td>\n",
       "      <td>Manual</td>\n",
       "      <td>1</td>\n",
       "      <td>5.0</td>\n",
       "      <td>19.67</td>\n",
       "      <td>1582.0</td>\n",
       "      <td>126.20</td>\n",
       "      <td>9</td>\n",
       "      <td>4555.556</td>\n",
       "      <td>2</td>\n",
       "      <td>3</td>\n",
       "      <td>2</td>\n",
       "    </tr>\n",
       "    <tr>\n",
       "      <th>2</th>\n",
       "      <td>Honda</td>\n",
       "      <td>Jazz V</td>\n",
       "      <td>Chennai</td>\n",
       "      <td>6898.32</td>\n",
       "      <td>2011</td>\n",
       "      <td>46000</td>\n",
       "      <td>Petrol</td>\n",
       "      <td>Manual</td>\n",
       "      <td>1</td>\n",
       "      <td>5.0</td>\n",
       "      <td>18.20</td>\n",
       "      <td>1199.0</td>\n",
       "      <td>88.70</td>\n",
       "      <td>13</td>\n",
       "      <td>3538.462</td>\n",
       "      <td>2</td>\n",
       "      <td>3</td>\n",
       "      <td>2</td>\n",
       "    </tr>\n",
       "    <tr>\n",
       "      <th>3</th>\n",
       "      <td>Maruti</td>\n",
       "      <td>Ertiga VDI</td>\n",
       "      <td>Chennai</td>\n",
       "      <td>9197.76</td>\n",
       "      <td>2012</td>\n",
       "      <td>87000</td>\n",
       "      <td>Diesel</td>\n",
       "      <td>Manual</td>\n",
       "      <td>1</td>\n",
       "      <td>7.0</td>\n",
       "      <td>20.77</td>\n",
       "      <td>1248.0</td>\n",
       "      <td>88.76</td>\n",
       "      <td>12</td>\n",
       "      <td>7250.000</td>\n",
       "      <td>2</td>\n",
       "      <td>3</td>\n",
       "      <td>2</td>\n",
       "    </tr>\n",
       "    <tr>\n",
       "      <th>4</th>\n",
       "      <td>Audi</td>\n",
       "      <td>A4 New 2.0 TDI Multitronic</td>\n",
       "      <td>Coimbatore</td>\n",
       "      <td>27194.71</td>\n",
       "      <td>2013</td>\n",
       "      <td>40670</td>\n",
       "      <td>Diesel</td>\n",
       "      <td>Automatic</td>\n",
       "      <td>2</td>\n",
       "      <td>5.0</td>\n",
       "      <td>15.20</td>\n",
       "      <td>1968.0</td>\n",
       "      <td>140.80</td>\n",
       "      <td>11</td>\n",
       "      <td>3697.273</td>\n",
       "      <td>2</td>\n",
       "      <td>2</td>\n",
       "      <td>4</td>\n",
       "    </tr>\n",
       "  </tbody>\n",
       "</table>\n",
       "</div>"
      ],
      "text/plain": [
       "     Brand                        Name    Location     Price  Year  \\\n",
       "0   Maruti             Wagon R LXI CNG      Mumbai   2682.68  2010   \n",
       "1  Hyundai    Creta 1.6 CRDi SX Option        Pune  19162.00  2015   \n",
       "2    Honda                      Jazz V     Chennai   6898.32  2011   \n",
       "3   Maruti                  Ertiga VDI     Chennai   9197.76  2012   \n",
       "4     Audi  A4 New 2.0 TDI Multitronic  Coimbatore  27194.71  2013   \n",
       "\n",
       "   Kilometers_Driven Fuel_Type Transmission  Owner_Type  Seats  Mileage(kmpl)  \\\n",
       "0              72000       CNG       Manual           1    5.0          26.60   \n",
       "1              41000    Diesel       Manual           1    5.0          19.67   \n",
       "2              46000    Petrol       Manual           1    5.0          18.20   \n",
       "3              87000    Diesel       Manual           1    7.0          20.77   \n",
       "4              40670    Diesel    Automatic           2    5.0          15.20   \n",
       "\n",
       "   Engine(CC)  Power(bhp)  Car_Age  Km_per_Year  Size  GDP_Group  \\\n",
       "0       998.0       58.16       14     5142.857     1          4   \n",
       "1      1582.0      126.20        9     4555.556     2          3   \n",
       "2      1199.0       88.70       13     3538.462     2          3   \n",
       "3      1248.0       88.76       12     7250.000     2          3   \n",
       "4      1968.0      140.80       11     3697.273     2          2   \n",
       "\n",
       "   Brand_Segment  \n",
       "0              2  \n",
       "1              2  \n",
       "2              2  \n",
       "3              2  \n",
       "4              4  "
      ]
     },
     "execution_count": 137,
     "metadata": {},
     "output_type": "execute_result"
    }
   ],
   "source": [
    "df_raw.head()"
   ]
  },
  {
   "cell_type": "code",
   "execution_count": 139,
   "metadata": {
    "executionInfo": {
     "elapsed": 5,
     "status": "ok",
     "timestamp": 1742604218759,
     "user": {
      "displayName": "김성현",
      "userId": "09786982603210716097"
     },
     "user_tz": -540
    },
    "id": "LCeyPc6jDh0M"
   },
   "outputs": [],
   "source": [
    "before_dummy = df_raw"
   ]
  },
  {
   "cell_type": "code",
   "execution_count": 141,
   "metadata": {
    "executionInfo": {
     "elapsed": 54,
     "status": "ok",
     "timestamp": 1742604218820,
     "user": {
      "displayName": "김성현",
      "userId": "09786982603210716097"
     },
     "user_tz": -540
    },
    "id": "GTTJ2EQjDomw"
   },
   "outputs": [],
   "source": [
    "before_dummy.to_csv(\"before_dummy.csv\")"
   ]
  },
  {
   "cell_type": "markdown",
   "metadata": {
    "id": "IdzbO2nNCKvs"
   },
   "source": [
    "### 5-7.    범주형 변수 인코딩 (더미)"
   ]
  },
  {
   "cell_type": "code",
   "execution_count": 144,
   "metadata": {
    "executionInfo": {
     "elapsed": 6,
     "status": "ok",
     "timestamp": 1742604218831,
     "user": {
      "displayName": "김성현",
      "userId": "09786982603210716097"
     },
     "user_tz": -540
    },
    "id": "erTfOAN_Dn9_"
   },
   "outputs": [],
   "source": [
    "df_for_dummy = df_raw.drop([\"Brand\", \"Name\",\"Location\"], axis = 1)"
   ]
  },
  {
   "cell_type": "code",
   "execution_count": 146,
   "metadata": {
    "colab": {
     "base_uri": "https://localhost:8080/",
     "height": 226
    },
    "executionInfo": {
     "elapsed": 87,
     "status": "ok",
     "timestamp": 1742604218920,
     "user": {
      "displayName": "김성현",
      "userId": "09786982603210716097"
     },
     "user_tz": -540
    },
    "id": "rYApmkvvHFt4",
    "outputId": "6bfaf265-4d39-423a-84bc-a17587be488e"
   },
   "outputs": [
    {
     "data": {
      "text/html": [
       "<div>\n",
       "<style scoped>\n",
       "    .dataframe tbody tr th:only-of-type {\n",
       "        vertical-align: middle;\n",
       "    }\n",
       "\n",
       "    .dataframe tbody tr th {\n",
       "        vertical-align: top;\n",
       "    }\n",
       "\n",
       "    .dataframe thead th {\n",
       "        text-align: right;\n",
       "    }\n",
       "</style>\n",
       "<table border=\"1\" class=\"dataframe\">\n",
       "  <thead>\n",
       "    <tr style=\"text-align: right;\">\n",
       "      <th></th>\n",
       "      <th>Price</th>\n",
       "      <th>Year</th>\n",
       "      <th>Kilometers_Driven</th>\n",
       "      <th>Fuel_Type</th>\n",
       "      <th>Transmission</th>\n",
       "      <th>Owner_Type</th>\n",
       "      <th>Seats</th>\n",
       "      <th>Mileage(kmpl)</th>\n",
       "      <th>Engine(CC)</th>\n",
       "      <th>Power(bhp)</th>\n",
       "      <th>Car_Age</th>\n",
       "      <th>Km_per_Year</th>\n",
       "      <th>Size</th>\n",
       "      <th>GDP_Group</th>\n",
       "      <th>Brand_Segment</th>\n",
       "    </tr>\n",
       "  </thead>\n",
       "  <tbody>\n",
       "    <tr>\n",
       "      <th>0</th>\n",
       "      <td>2682.68</td>\n",
       "      <td>2010</td>\n",
       "      <td>72000</td>\n",
       "      <td>CNG</td>\n",
       "      <td>Manual</td>\n",
       "      <td>1</td>\n",
       "      <td>5.0</td>\n",
       "      <td>26.60</td>\n",
       "      <td>998.0</td>\n",
       "      <td>58.16</td>\n",
       "      <td>14</td>\n",
       "      <td>5142.857</td>\n",
       "      <td>1</td>\n",
       "      <td>4</td>\n",
       "      <td>2</td>\n",
       "    </tr>\n",
       "    <tr>\n",
       "      <th>1</th>\n",
       "      <td>19162.00</td>\n",
       "      <td>2015</td>\n",
       "      <td>41000</td>\n",
       "      <td>Diesel</td>\n",
       "      <td>Manual</td>\n",
       "      <td>1</td>\n",
       "      <td>5.0</td>\n",
       "      <td>19.67</td>\n",
       "      <td>1582.0</td>\n",
       "      <td>126.20</td>\n",
       "      <td>9</td>\n",
       "      <td>4555.556</td>\n",
       "      <td>2</td>\n",
       "      <td>3</td>\n",
       "      <td>2</td>\n",
       "    </tr>\n",
       "    <tr>\n",
       "      <th>2</th>\n",
       "      <td>6898.32</td>\n",
       "      <td>2011</td>\n",
       "      <td>46000</td>\n",
       "      <td>Petrol</td>\n",
       "      <td>Manual</td>\n",
       "      <td>1</td>\n",
       "      <td>5.0</td>\n",
       "      <td>18.20</td>\n",
       "      <td>1199.0</td>\n",
       "      <td>88.70</td>\n",
       "      <td>13</td>\n",
       "      <td>3538.462</td>\n",
       "      <td>2</td>\n",
       "      <td>3</td>\n",
       "      <td>2</td>\n",
       "    </tr>\n",
       "    <tr>\n",
       "      <th>3</th>\n",
       "      <td>9197.76</td>\n",
       "      <td>2012</td>\n",
       "      <td>87000</td>\n",
       "      <td>Diesel</td>\n",
       "      <td>Manual</td>\n",
       "      <td>1</td>\n",
       "      <td>7.0</td>\n",
       "      <td>20.77</td>\n",
       "      <td>1248.0</td>\n",
       "      <td>88.76</td>\n",
       "      <td>12</td>\n",
       "      <td>7250.000</td>\n",
       "      <td>2</td>\n",
       "      <td>3</td>\n",
       "      <td>2</td>\n",
       "    </tr>\n",
       "    <tr>\n",
       "      <th>4</th>\n",
       "      <td>27194.71</td>\n",
       "      <td>2013</td>\n",
       "      <td>40670</td>\n",
       "      <td>Diesel</td>\n",
       "      <td>Automatic</td>\n",
       "      <td>2</td>\n",
       "      <td>5.0</td>\n",
       "      <td>15.20</td>\n",
       "      <td>1968.0</td>\n",
       "      <td>140.80</td>\n",
       "      <td>11</td>\n",
       "      <td>3697.273</td>\n",
       "      <td>2</td>\n",
       "      <td>2</td>\n",
       "      <td>4</td>\n",
       "    </tr>\n",
       "  </tbody>\n",
       "</table>\n",
       "</div>"
      ],
      "text/plain": [
       "      Price  Year  Kilometers_Driven Fuel_Type Transmission  Owner_Type  \\\n",
       "0   2682.68  2010              72000       CNG       Manual           1   \n",
       "1  19162.00  2015              41000    Diesel       Manual           1   \n",
       "2   6898.32  2011              46000    Petrol       Manual           1   \n",
       "3   9197.76  2012              87000    Diesel       Manual           1   \n",
       "4  27194.71  2013              40670    Diesel    Automatic           2   \n",
       "\n",
       "   Seats  Mileage(kmpl)  Engine(CC)  Power(bhp)  Car_Age  Km_per_Year  Size  \\\n",
       "0    5.0          26.60       998.0       58.16       14     5142.857     1   \n",
       "1    5.0          19.67      1582.0      126.20        9     4555.556     2   \n",
       "2    5.0          18.20      1199.0       88.70       13     3538.462     2   \n",
       "3    7.0          20.77      1248.0       88.76       12     7250.000     2   \n",
       "4    5.0          15.20      1968.0      140.80       11     3697.273     2   \n",
       "\n",
       "   GDP_Group  Brand_Segment  \n",
       "0          4              2  \n",
       "1          3              2  \n",
       "2          3              2  \n",
       "3          3              2  \n",
       "4          2              4  "
      ]
     },
     "execution_count": 146,
     "metadata": {},
     "output_type": "execute_result"
    }
   ],
   "source": [
    "df_for_dummy.head()"
   ]
  },
  {
   "cell_type": "code",
   "execution_count": 148,
   "metadata": {
    "executionInfo": {
     "elapsed": 14,
     "status": "ok",
     "timestamp": 1742604218932,
     "user": {
      "displayName": "김성현",
      "userId": "09786982603210716097"
     },
     "user_tz": -540
    },
    "id": "-Qo2Yn51J94v"
   },
   "outputs": [],
   "source": [
    "# 범주형 변수의 Dummy 변수화\n",
    "df_dummy = pd.get_dummies(df_for_dummy, drop_first=True, dtype=int)\n"
   ]
  },
  {
   "cell_type": "code",
   "execution_count": 150,
   "metadata": {
    "colab": {
     "base_uri": "https://localhost:8080/",
     "height": 226
    },
    "executionInfo": {
     "elapsed": 48,
     "status": "ok",
     "timestamp": 1742604218969,
     "user": {
      "displayName": "김성현",
      "userId": "09786982603210716097"
     },
     "user_tz": -540
    },
    "id": "I3HJ_vNRKDdp",
    "outputId": "4b29686b-de8a-45c4-e669-b28bfc459a67"
   },
   "outputs": [
    {
     "data": {
      "text/html": [
       "<div>\n",
       "<style scoped>\n",
       "    .dataframe tbody tr th:only-of-type {\n",
       "        vertical-align: middle;\n",
       "    }\n",
       "\n",
       "    .dataframe tbody tr th {\n",
       "        vertical-align: top;\n",
       "    }\n",
       "\n",
       "    .dataframe thead th {\n",
       "        text-align: right;\n",
       "    }\n",
       "</style>\n",
       "<table border=\"1\" class=\"dataframe\">\n",
       "  <thead>\n",
       "    <tr style=\"text-align: right;\">\n",
       "      <th></th>\n",
       "      <th>Price</th>\n",
       "      <th>Year</th>\n",
       "      <th>Kilometers_Driven</th>\n",
       "      <th>Owner_Type</th>\n",
       "      <th>Seats</th>\n",
       "      <th>Mileage(kmpl)</th>\n",
       "      <th>Engine(CC)</th>\n",
       "      <th>Power(bhp)</th>\n",
       "      <th>Car_Age</th>\n",
       "      <th>Km_per_Year</th>\n",
       "      <th>Size</th>\n",
       "      <th>GDP_Group</th>\n",
       "      <th>Brand_Segment</th>\n",
       "      <th>Fuel_Type_Diesel</th>\n",
       "      <th>Fuel_Type_Electric</th>\n",
       "      <th>Fuel_Type_LPG</th>\n",
       "      <th>Fuel_Type_Petrol</th>\n",
       "      <th>Transmission_Manual</th>\n",
       "    </tr>\n",
       "  </thead>\n",
       "  <tbody>\n",
       "    <tr>\n",
       "      <th>0</th>\n",
       "      <td>2682.68</td>\n",
       "      <td>2010</td>\n",
       "      <td>72000</td>\n",
       "      <td>1</td>\n",
       "      <td>5.0</td>\n",
       "      <td>26.60</td>\n",
       "      <td>998.0</td>\n",
       "      <td>58.16</td>\n",
       "      <td>14</td>\n",
       "      <td>5142.857</td>\n",
       "      <td>1</td>\n",
       "      <td>4</td>\n",
       "      <td>2</td>\n",
       "      <td>0</td>\n",
       "      <td>0</td>\n",
       "      <td>0</td>\n",
       "      <td>0</td>\n",
       "      <td>1</td>\n",
       "    </tr>\n",
       "    <tr>\n",
       "      <th>1</th>\n",
       "      <td>19162.00</td>\n",
       "      <td>2015</td>\n",
       "      <td>41000</td>\n",
       "      <td>1</td>\n",
       "      <td>5.0</td>\n",
       "      <td>19.67</td>\n",
       "      <td>1582.0</td>\n",
       "      <td>126.20</td>\n",
       "      <td>9</td>\n",
       "      <td>4555.556</td>\n",
       "      <td>2</td>\n",
       "      <td>3</td>\n",
       "      <td>2</td>\n",
       "      <td>1</td>\n",
       "      <td>0</td>\n",
       "      <td>0</td>\n",
       "      <td>0</td>\n",
       "      <td>1</td>\n",
       "    </tr>\n",
       "    <tr>\n",
       "      <th>2</th>\n",
       "      <td>6898.32</td>\n",
       "      <td>2011</td>\n",
       "      <td>46000</td>\n",
       "      <td>1</td>\n",
       "      <td>5.0</td>\n",
       "      <td>18.20</td>\n",
       "      <td>1199.0</td>\n",
       "      <td>88.70</td>\n",
       "      <td>13</td>\n",
       "      <td>3538.462</td>\n",
       "      <td>2</td>\n",
       "      <td>3</td>\n",
       "      <td>2</td>\n",
       "      <td>0</td>\n",
       "      <td>0</td>\n",
       "      <td>0</td>\n",
       "      <td>1</td>\n",
       "      <td>1</td>\n",
       "    </tr>\n",
       "    <tr>\n",
       "      <th>3</th>\n",
       "      <td>9197.76</td>\n",
       "      <td>2012</td>\n",
       "      <td>87000</td>\n",
       "      <td>1</td>\n",
       "      <td>7.0</td>\n",
       "      <td>20.77</td>\n",
       "      <td>1248.0</td>\n",
       "      <td>88.76</td>\n",
       "      <td>12</td>\n",
       "      <td>7250.000</td>\n",
       "      <td>2</td>\n",
       "      <td>3</td>\n",
       "      <td>2</td>\n",
       "      <td>1</td>\n",
       "      <td>0</td>\n",
       "      <td>0</td>\n",
       "      <td>0</td>\n",
       "      <td>1</td>\n",
       "    </tr>\n",
       "    <tr>\n",
       "      <th>4</th>\n",
       "      <td>27194.71</td>\n",
       "      <td>2013</td>\n",
       "      <td>40670</td>\n",
       "      <td>2</td>\n",
       "      <td>5.0</td>\n",
       "      <td>15.20</td>\n",
       "      <td>1968.0</td>\n",
       "      <td>140.80</td>\n",
       "      <td>11</td>\n",
       "      <td>3697.273</td>\n",
       "      <td>2</td>\n",
       "      <td>2</td>\n",
       "      <td>4</td>\n",
       "      <td>1</td>\n",
       "      <td>0</td>\n",
       "      <td>0</td>\n",
       "      <td>0</td>\n",
       "      <td>0</td>\n",
       "    </tr>\n",
       "  </tbody>\n",
       "</table>\n",
       "</div>"
      ],
      "text/plain": [
       "      Price  Year  Kilometers_Driven  Owner_Type  Seats  Mileage(kmpl)  \\\n",
       "0   2682.68  2010              72000           1    5.0          26.60   \n",
       "1  19162.00  2015              41000           1    5.0          19.67   \n",
       "2   6898.32  2011              46000           1    5.0          18.20   \n",
       "3   9197.76  2012              87000           1    7.0          20.77   \n",
       "4  27194.71  2013              40670           2    5.0          15.20   \n",
       "\n",
       "   Engine(CC)  Power(bhp)  Car_Age  Km_per_Year  Size  GDP_Group  \\\n",
       "0       998.0       58.16       14     5142.857     1          4   \n",
       "1      1582.0      126.20        9     4555.556     2          3   \n",
       "2      1199.0       88.70       13     3538.462     2          3   \n",
       "3      1248.0       88.76       12     7250.000     2          3   \n",
       "4      1968.0      140.80       11     3697.273     2          2   \n",
       "\n",
       "   Brand_Segment  Fuel_Type_Diesel  Fuel_Type_Electric  Fuel_Type_LPG  \\\n",
       "0              2                 0                   0              0   \n",
       "1              2                 1                   0              0   \n",
       "2              2                 0                   0              0   \n",
       "3              2                 1                   0              0   \n",
       "4              4                 1                   0              0   \n",
       "\n",
       "   Fuel_Type_Petrol  Transmission_Manual  \n",
       "0                 0                    1  \n",
       "1                 0                    1  \n",
       "2                 1                    1  \n",
       "3                 0                    1  \n",
       "4                 0                    0  "
      ]
     },
     "execution_count": 150,
     "metadata": {},
     "output_type": "execute_result"
    }
   ],
   "source": [
    "df_dummy.head()"
   ]
  },
  {
   "cell_type": "markdown",
   "metadata": {
    "id": "yXvydzEYR9aZ"
   },
   "source": [
    "## 6.Price 결측값 분리 및 train data와 test data 분리"
   ]
  },
  {
   "cell_type": "markdown",
   "metadata": {
    "id": "c9ou64z5SJWu"
   },
   "source": [
    "### 6-1. Price 결측값이 존재하는 데이터 프레임과 그렇지 않은 데이터 프레임 분리 및 Price 결측값 데이터 저장"
   ]
  },
  {
   "cell_type": "code",
   "execution_count": 154,
   "metadata": {
    "colab": {
     "base_uri": "https://localhost:8080/",
     "height": 0
    },
    "executionInfo": {
     "elapsed": 104,
     "status": "ok",
     "timestamp": 1742604219057,
     "user": {
      "displayName": "김성현",
      "userId": "09786982603210716097"
     },
     "user_tz": -540
    },
    "id": "UNZzOP7NLn6g",
    "outputId": "394ab229-1075-452f-9226-df1ba742096c"
   },
   "outputs": [
    {
     "data": {
      "text/plain": [
       "Price                  1059\n",
       "Year                      0\n",
       "Kilometers_Driven         0\n",
       "Owner_Type                0\n",
       "Seats                     0\n",
       "Mileage(kmpl)             0\n",
       "Engine(CC)                0\n",
       "Power(bhp)                0\n",
       "Car_Age                   0\n",
       "Km_per_Year               0\n",
       "Size                      0\n",
       "GDP_Group                 0\n",
       "Brand_Segment             0\n",
       "Fuel_Type_Diesel          0\n",
       "Fuel_Type_Electric        0\n",
       "Fuel_Type_LPG             0\n",
       "Fuel_Type_Petrol          0\n",
       "Transmission_Manual       0\n",
       "dtype: int64"
      ]
     },
     "execution_count": 154,
     "metadata": {},
     "output_type": "execute_result"
    }
   ],
   "source": [
    "df_dummy.isnull().sum()"
   ]
  },
  {
   "cell_type": "code",
   "execution_count": 156,
   "metadata": {
    "executionInfo": {
     "elapsed": 7,
     "status": "ok",
     "timestamp": 1742604219063,
     "user": {
      "displayName": "김성현",
      "userId": "09786982603210716097"
     },
     "user_tz": -540
    },
    "id": "hrrHNm7sK9y8"
   },
   "outputs": [],
   "source": [
    "# Price == na 인 행만 분리 후 따로 파일 생성(더미 변환 후)\n",
    "df_price_nan = df_dummy[df_dummy[\"Price\"].isna()]\n",
    "df_price_nan.to_csv(\"df_price_nan.csv\")"
   ]
  },
  {
   "cell_type": "code",
   "execution_count": 158,
   "metadata": {
    "colab": {
     "base_uri": "https://localhost:8080/",
     "height": 0
    },
    "executionInfo": {
     "elapsed": 9,
     "status": "ok",
     "timestamp": 1742604219075,
     "user": {
      "displayName": "김성현",
      "userId": "09786982603210716097"
     },
     "user_tz": -540
    },
    "id": "zDQwG6mZLa03",
    "outputId": "461d596c-98b7-4570-b6ac-2fd933cff849"
   },
   "outputs": [
    {
     "data": {
      "text/html": [
       "<div>\n",
       "<style scoped>\n",
       "    .dataframe tbody tr th:only-of-type {\n",
       "        vertical-align: middle;\n",
       "    }\n",
       "\n",
       "    .dataframe tbody tr th {\n",
       "        vertical-align: top;\n",
       "    }\n",
       "\n",
       "    .dataframe thead th {\n",
       "        text-align: right;\n",
       "    }\n",
       "</style>\n",
       "<table border=\"1\" class=\"dataframe\">\n",
       "  <thead>\n",
       "    <tr style=\"text-align: right;\">\n",
       "      <th></th>\n",
       "      <th>Price</th>\n",
       "      <th>Year</th>\n",
       "      <th>Kilometers_Driven</th>\n",
       "      <th>Owner_Type</th>\n",
       "      <th>Seats</th>\n",
       "      <th>Mileage(kmpl)</th>\n",
       "      <th>Engine(CC)</th>\n",
       "      <th>Power(bhp)</th>\n",
       "      <th>Car_Age</th>\n",
       "      <th>Km_per_Year</th>\n",
       "      <th>Size</th>\n",
       "      <th>GDP_Group</th>\n",
       "      <th>Brand_Segment</th>\n",
       "      <th>Fuel_Type_Diesel</th>\n",
       "      <th>Fuel_Type_Electric</th>\n",
       "      <th>Fuel_Type_LPG</th>\n",
       "      <th>Fuel_Type_Petrol</th>\n",
       "      <th>Transmission_Manual</th>\n",
       "    </tr>\n",
       "  </thead>\n",
       "  <tbody>\n",
       "    <tr>\n",
       "      <th>134</th>\n",
       "      <td>NaN</td>\n",
       "      <td>2017</td>\n",
       "      <td>13372</td>\n",
       "      <td>1</td>\n",
       "      <td>2.0</td>\n",
       "      <td>19.00</td>\n",
       "      <td>2996.0</td>\n",
       "      <td>362.07</td>\n",
       "      <td>7</td>\n",
       "      <td>1910.286</td>\n",
       "      <td>3</td>\n",
       "      <td>4</td>\n",
       "      <td>4</td>\n",
       "      <td>0</td>\n",
       "      <td>0</td>\n",
       "      <td>0</td>\n",
       "      <td>1</td>\n",
       "      <td>0</td>\n",
       "    </tr>\n",
       "    <tr>\n",
       "      <th>2095</th>\n",
       "      <td>NaN</td>\n",
       "      <td>2019</td>\n",
       "      <td>2526</td>\n",
       "      <td>1</td>\n",
       "      <td>2.0</td>\n",
       "      <td>19.00</td>\n",
       "      <td>2996.0</td>\n",
       "      <td>362.07</td>\n",
       "      <td>5</td>\n",
       "      <td>505.200</td>\n",
       "      <td>3</td>\n",
       "      <td>2</td>\n",
       "      <td>4</td>\n",
       "      <td>0</td>\n",
       "      <td>0</td>\n",
       "      <td>0</td>\n",
       "      <td>1</td>\n",
       "      <td>0</td>\n",
       "    </tr>\n",
       "    <tr>\n",
       "      <th>3132</th>\n",
       "      <td>NaN</td>\n",
       "      <td>2019</td>\n",
       "      <td>14298</td>\n",
       "      <td>1</td>\n",
       "      <td>5.0</td>\n",
       "      <td>13.33</td>\n",
       "      <td>2995.0</td>\n",
       "      <td>340.00</td>\n",
       "      <td>5</td>\n",
       "      <td>2859.600</td>\n",
       "      <td>3</td>\n",
       "      <td>1</td>\n",
       "      <td>4</td>\n",
       "      <td>0</td>\n",
       "      <td>0</td>\n",
       "      <td>0</td>\n",
       "      <td>1</td>\n",
       "      <td>0</td>\n",
       "    </tr>\n",
       "    <tr>\n",
       "      <th>5468</th>\n",
       "      <td>NaN</td>\n",
       "      <td>2014</td>\n",
       "      <td>59508</td>\n",
       "      <td>1</td>\n",
       "      <td>4.0</td>\n",
       "      <td>25.40</td>\n",
       "      <td>624.0</td>\n",
       "      <td>37.48</td>\n",
       "      <td>10</td>\n",
       "      <td>5950.800</td>\n",
       "      <td>1</td>\n",
       "      <td>1</td>\n",
       "      <td>1</td>\n",
       "      <td>0</td>\n",
       "      <td>0</td>\n",
       "      <td>0</td>\n",
       "      <td>1</td>\n",
       "      <td>1</td>\n",
       "    </tr>\n",
       "    <tr>\n",
       "      <th>6019</th>\n",
       "      <td>NaN</td>\n",
       "      <td>2014</td>\n",
       "      <td>40929</td>\n",
       "      <td>1</td>\n",
       "      <td>4.0</td>\n",
       "      <td>32.26</td>\n",
       "      <td>998.0</td>\n",
       "      <td>58.20</td>\n",
       "      <td>10</td>\n",
       "      <td>4092.900</td>\n",
       "      <td>1</td>\n",
       "      <td>4</td>\n",
       "      <td>2</td>\n",
       "      <td>0</td>\n",
       "      <td>0</td>\n",
       "      <td>0</td>\n",
       "      <td>0</td>\n",
       "      <td>1</td>\n",
       "    </tr>\n",
       "  </tbody>\n",
       "</table>\n",
       "</div>"
      ],
      "text/plain": [
       "      Price  Year  Kilometers_Driven  Owner_Type  Seats  Mileage(kmpl)  \\\n",
       "134     NaN  2017              13372           1    2.0          19.00   \n",
       "2095    NaN  2019               2526           1    2.0          19.00   \n",
       "3132    NaN  2019              14298           1    5.0          13.33   \n",
       "5468    NaN  2014              59508           1    4.0          25.40   \n",
       "6019    NaN  2014              40929           1    4.0          32.26   \n",
       "\n",
       "      Engine(CC)  Power(bhp)  Car_Age  Km_per_Year  Size  GDP_Group  \\\n",
       "134       2996.0      362.07        7     1910.286     3          4   \n",
       "2095      2996.0      362.07        5      505.200     3          2   \n",
       "3132      2995.0      340.00        5     2859.600     3          1   \n",
       "5468       624.0       37.48       10     5950.800     1          1   \n",
       "6019       998.0       58.20       10     4092.900     1          4   \n",
       "\n",
       "      Brand_Segment  Fuel_Type_Diesel  Fuel_Type_Electric  Fuel_Type_LPG  \\\n",
       "134               4                 0                   0              0   \n",
       "2095              4                 0                   0              0   \n",
       "3132              4                 0                   0              0   \n",
       "5468              1                 0                   0              0   \n",
       "6019              2                 0                   0              0   \n",
       "\n",
       "      Fuel_Type_Petrol  Transmission_Manual  \n",
       "134                  1                    0  \n",
       "2095                 1                    0  \n",
       "3132                 1                    0  \n",
       "5468                 1                    1  \n",
       "6019                 0                    1  "
      ]
     },
     "execution_count": 158,
     "metadata": {},
     "output_type": "execute_result"
    }
   ],
   "source": [
    "df_price_nan.head()"
   ]
  },
  {
   "cell_type": "code",
   "execution_count": 160,
   "metadata": {
    "executionInfo": {
     "elapsed": 4,
     "status": "ok",
     "timestamp": 1742604219084,
     "user": {
      "displayName": "김성현",
      "userId": "09786982603210716097"
     },
     "user_tz": -540
    },
    "id": "UCMqQ8qyNC0-"
   },
   "outputs": [],
   "source": [
    "# Price == na 인 행 드랍\n",
    "df_dummy = df_dummy.dropna(subset=[\"Price\"])\n",
    "df_dummy = df_dummy.reset_index(drop=True)"
   ]
  },
  {
   "cell_type": "code",
   "execution_count": 162,
   "metadata": {
    "colab": {
     "base_uri": "https://localhost:8080/",
     "height": 0
    },
    "executionInfo": {
     "elapsed": 10,
     "status": "ok",
     "timestamp": 1742604219099,
     "user": {
      "displayName": "김성현",
      "userId": "09786982603210716097"
     },
     "user_tz": -540
    },
    "id": "AlRPnJzzOPct",
    "outputId": "02221ec8-5d3f-4c3e-fb78-f8dafc1c36a1"
   },
   "outputs": [
    {
     "data": {
      "text/plain": [
       "Price                  0\n",
       "Year                   0\n",
       "Kilometers_Driven      0\n",
       "Owner_Type             0\n",
       "Seats                  0\n",
       "Mileage(kmpl)          0\n",
       "Engine(CC)             0\n",
       "Power(bhp)             0\n",
       "Car_Age                0\n",
       "Km_per_Year            0\n",
       "Size                   0\n",
       "GDP_Group              0\n",
       "Brand_Segment          0\n",
       "Fuel_Type_Diesel       0\n",
       "Fuel_Type_Electric     0\n",
       "Fuel_Type_LPG          0\n",
       "Fuel_Type_Petrol       0\n",
       "Transmission_Manual    0\n",
       "dtype: int64"
      ]
     },
     "execution_count": 162,
     "metadata": {},
     "output_type": "execute_result"
    }
   ],
   "source": [
    "df_dummy.isnull().sum()"
   ]
  },
  {
   "cell_type": "markdown",
   "metadata": {
    "id": "on9ZUxX_SsUC"
   },
   "source": [
    "### 6-2. 목표변수와 설명변수 분리 및 test/train 분리 (0.2)"
   ]
  },
  {
   "cell_type": "code",
   "execution_count": 165,
   "metadata": {
    "executionInfo": {
     "elapsed": 24,
     "status": "ok",
     "timestamp": 1742604219121,
     "user": {
      "displayName": "김성현",
      "userId": "09786982603210716097"
     },
     "user_tz": -540
    },
    "id": "_s3wUywABs85"
   },
   "outputs": [],
   "source": [
    "# 목표변수, 설명변수 데이터 지정\n",
    "df_raw_y = df_dummy[\"Price\"]\n",
    "df_raw_x = df_dummy.drop(\"Price\", axis = 1, inplace = False)\n"
   ]
  },
  {
   "cell_type": "code",
   "execution_count": 167,
   "metadata": {
    "executionInfo": {
     "elapsed": 13,
     "status": "ok",
     "timestamp": 1742604219138,
     "user": {
      "displayName": "김성현",
      "userId": "09786982603210716097"
     },
     "user_tz": -540
    },
    "id": "JagR0DBAIv1f"
   },
   "outputs": [],
   "source": [
    "# train_test_split(X: 설명변수 데이터, Y: 목표변수 데이터, test_size = test 데이터 비율, random_state: random seed)\n",
    "df_train_x, df_test_x, df_train_y, df_test_y = train_test_split(df_raw_x, df_raw_y\n",
    "                                                                , test_size = 0.2, random_state = 1234)"
   ]
  },
  {
   "cell_type": "code",
   "execution_count": 169,
   "metadata": {
    "colab": {
     "base_uri": "https://localhost:8080/"
    },
    "executionInfo": {
     "elapsed": 61,
     "status": "ok",
     "timestamp": 1742604219202,
     "user": {
      "displayName": "김성현",
      "userId": "09786982603210716097"
     },
     "user_tz": -540
    },
    "id": "rbdHf1B4P5o2",
    "outputId": "47822a38-d513-4f3f-a283-7804c06a91aa"
   },
   "outputs": [
    {
     "name": "stdout",
     "output_type": "stream",
     "text": [
      "<class 'pandas.core.frame.DataFrame'>\n",
      "Index: 1239 entries, 3997 to 2852\n",
      "Data columns (total 17 columns):\n",
      " #   Column               Non-Null Count  Dtype  \n",
      "---  ------               --------------  -----  \n",
      " 0   Year                 1239 non-null   int64  \n",
      " 1   Kilometers_Driven    1239 non-null   int64  \n",
      " 2   Owner_Type           1239 non-null   int64  \n",
      " 3   Seats                1239 non-null   float64\n",
      " 4   Mileage(kmpl)        1239 non-null   float64\n",
      " 5   Engine(CC)           1239 non-null   float64\n",
      " 6   Power(bhp)           1239 non-null   float64\n",
      " 7   Car_Age              1239 non-null   int64  \n",
      " 8   Km_per_Year          1239 non-null   float64\n",
      " 9   Size                 1239 non-null   int64  \n",
      " 10  GDP_Group            1239 non-null   int64  \n",
      " 11  Brand_Segment        1239 non-null   int64  \n",
      " 12  Fuel_Type_Diesel     1239 non-null   int32  \n",
      " 13  Fuel_Type_Electric   1239 non-null   int32  \n",
      " 14  Fuel_Type_LPG        1239 non-null   int32  \n",
      " 15  Fuel_Type_Petrol     1239 non-null   int32  \n",
      " 16  Transmission_Manual  1239 non-null   int32  \n",
      "dtypes: float64(5), int32(5), int64(7)\n",
      "memory usage: 150.0 KB\n"
     ]
    }
   ],
   "source": [
    "df_test_x.info()"
   ]
  },
  {
   "cell_type": "code",
   "execution_count": 171,
   "metadata": {
    "executionInfo": {
     "elapsed": 2,
     "status": "ok",
     "timestamp": 1742604219206,
     "user": {
      "displayName": "김성현",
      "userId": "09786982603210716097"
     },
     "user_tz": -540
    },
    "id": "LaZxMPMCQA0B"
   },
   "outputs": [],
   "source": [
    "# 깨끗한 test_x 데이터 저장\n",
    "\n",
    "df_test_x.to_csv(\"df_test_x\")"
   ]
  },
  {
   "cell_type": "code",
   "execution_count": 173,
   "metadata": {
    "executionInfo": {
     "elapsed": 40,
     "status": "ok",
     "timestamp": 1742604219250,
     "user": {
      "displayName": "김성현",
      "userId": "09786982603210716097"
     },
     "user_tz": -540
    },
    "id": "wmccoAIlQTPx"
   },
   "outputs": [],
   "source": [
    "# 깨끗한 test_y 데이터 저장\n",
    "\n",
    "df_test_y.to_csv(\"df_test_y\")"
   ]
  },
  {
   "cell_type": "code",
   "execution_count": null,
   "metadata": {
    "executionInfo": {
     "elapsed": 7,
     "status": "ok",
     "timestamp": 1742604219259,
     "user": {
      "displayName": "김성현",
      "userId": "09786982603210716097"
     },
     "user_tz": -540
    },
    "id": "Eqz5DC9qTOZl"
   },
   "outputs": [],
   "source": []
  },
  {
   "cell_type": "markdown",
   "metadata": {
    "id": "-98pXO7VTPPp"
   },
   "source": [
    "### 6-3. valid/train 분리 (0.2)"
   ]
  },
  {
   "cell_type": "code",
   "execution_count": 177,
   "metadata": {
    "executionInfo": {
     "elapsed": 7,
     "status": "ok",
     "timestamp": 1742604219262,
     "user": {
      "displayName": "김성현",
      "userId": "09786982603210716097"
     },
     "user_tz": -540
    },
    "id": "yqVzQnUpQXxW"
   },
   "outputs": [],
   "source": [
    "# train_test_split(X: 설명변수 데이터, Y: 목표변수 데이터, test_size = test 데이터 비율, random_state: random seed)\n",
    "# train 안에서 valid 분리\n",
    "df_train1_x, df_valid_x, df_train1_y, df_valid_y = train_test_split(df_train_x, df_train_y\n",
    "                                                                , test_size = 0.2, random_state = 1234)"
   ]
  },
  {
   "cell_type": "markdown",
   "metadata": {},
   "source": [
    "# 모델링: \n",
    "### nan값 예측값으로 채운 후 전체 학습데이터 모델에 재학습"
   ]
  },
  {
   "cell_type": "code",
   "execution_count": 180,
   "metadata": {
    "colab": {
     "base_uri": "https://localhost:8080/"
    },
    "executionInfo": {
     "elapsed": 14,
     "status": "ok",
     "timestamp": 1742604219272,
     "user": {
      "displayName": "김성현",
      "userId": "09786982603210716097"
     },
     "user_tz": -540
    },
    "id": "vG5aayHsRCFE",
    "outputId": "f78ecb73-ae97-47ed-9395-49247795b422"
   },
   "outputs": [
    {
     "name": "stdout",
     "output_type": "stream",
     "text": [
      "<class 'pandas.core.frame.DataFrame'>\n",
      "Index: 3964 entries, 2061 to 2115\n",
      "Data columns (total 17 columns):\n",
      " #   Column               Non-Null Count  Dtype  \n",
      "---  ------               --------------  -----  \n",
      " 0   Year                 3964 non-null   int64  \n",
      " 1   Kilometers_Driven    3964 non-null   int64  \n",
      " 2   Owner_Type           3964 non-null   int64  \n",
      " 3   Seats                3964 non-null   float64\n",
      " 4   Mileage(kmpl)        3964 non-null   float64\n",
      " 5   Engine(CC)           3964 non-null   float64\n",
      " 6   Power(bhp)           3964 non-null   float64\n",
      " 7   Car_Age              3964 non-null   int64  \n",
      " 8   Km_per_Year          3964 non-null   float64\n",
      " 9   Size                 3964 non-null   int64  \n",
      " 10  GDP_Group            3964 non-null   int64  \n",
      " 11  Brand_Segment        3964 non-null   int64  \n",
      " 12  Fuel_Type_Diesel     3964 non-null   int32  \n",
      " 13  Fuel_Type_Electric   3964 non-null   int32  \n",
      " 14  Fuel_Type_LPG        3964 non-null   int32  \n",
      " 15  Fuel_Type_Petrol     3964 non-null   int32  \n",
      " 16  Transmission_Manual  3964 non-null   int32  \n",
      "dtypes: float64(5), int32(5), int64(7)\n",
      "memory usage: 480.0 KB\n"
     ]
    }
   ],
   "source": [
    "df_train1_x.info()"
   ]
  },
  {
   "cell_type": "code",
   "execution_count": 182,
   "metadata": {
    "executionInfo": {
     "elapsed": 5,
     "status": "ok",
     "timestamp": 1742604219278,
     "user": {
      "displayName": "김성현",
      "userId": "09786982603210716097"
     },
     "user_tz": -540
    },
    "id": "tBKFV3yxRWt3"
   },
   "outputs": [],
   "source": [
    "# 한번 더 분리한 데이터 저장 (train1_x/train_y/valid_x/valid_y)\n",
    "\n",
    "df_train1_x.to_csv(\"df_train1_x.csv\")\n",
    "df_train1_y.to_csv(\"df_train1_y.csv\")\n",
    "df_valid_x.to_csv(\"df_valid_x.csv\")\n",
    "df_valid_y.to_csv(\"df_valid_y.csv\")"
   ]
  },
  {
   "cell_type": "markdown",
   "metadata": {},
   "source": [
    "## Year 드랍"
   ]
  },
  {
   "cell_type": "code",
   "execution_count": 185,
   "metadata": {
    "executionInfo": {
     "elapsed": 2,
     "status": "ok",
     "timestamp": 1742604219282,
     "user": {
      "displayName": "김성현",
      "userId": "09786982603210716097"
     },
     "user_tz": -540
    },
    "id": "zUeZdCoyRuGv"
   },
   "outputs": [
    {
     "data": {
      "text/html": [
       "<div>\n",
       "<style scoped>\n",
       "    .dataframe tbody tr th:only-of-type {\n",
       "        vertical-align: middle;\n",
       "    }\n",
       "\n",
       "    .dataframe tbody tr th {\n",
       "        vertical-align: top;\n",
       "    }\n",
       "\n",
       "    .dataframe thead th {\n",
       "        text-align: right;\n",
       "    }\n",
       "</style>\n",
       "<table border=\"1\" class=\"dataframe\">\n",
       "  <thead>\n",
       "    <tr style=\"text-align: right;\">\n",
       "      <th></th>\n",
       "      <th>Kilometers_Driven</th>\n",
       "      <th>Owner_Type</th>\n",
       "      <th>Seats</th>\n",
       "      <th>Mileage(kmpl)</th>\n",
       "      <th>Engine(CC)</th>\n",
       "      <th>Power(bhp)</th>\n",
       "      <th>Car_Age</th>\n",
       "      <th>Km_per_Year</th>\n",
       "      <th>Size</th>\n",
       "      <th>GDP_Group</th>\n",
       "      <th>Brand_Segment</th>\n",
       "      <th>Fuel_Type_Diesel</th>\n",
       "      <th>Fuel_Type_Electric</th>\n",
       "      <th>Fuel_Type_LPG</th>\n",
       "      <th>Fuel_Type_Petrol</th>\n",
       "      <th>Transmission_Manual</th>\n",
       "    </tr>\n",
       "  </thead>\n",
       "  <tbody>\n",
       "    <tr>\n",
       "      <th>2061</th>\n",
       "      <td>33425</td>\n",
       "      <td>1</td>\n",
       "      <td>5.0</td>\n",
       "      <td>17.43</td>\n",
       "      <td>1396.0</td>\n",
       "      <td>105.50</td>\n",
       "      <td>9</td>\n",
       "      <td>3713.889</td>\n",
       "      <td>2</td>\n",
       "      <td>4</td>\n",
       "      <td>2</td>\n",
       "      <td>0</td>\n",
       "      <td>0</td>\n",
       "      <td>0</td>\n",
       "      <td>1</td>\n",
       "      <td>1</td>\n",
       "    </tr>\n",
       "    <tr>\n",
       "      <th>4018</th>\n",
       "      <td>62148</td>\n",
       "      <td>1</td>\n",
       "      <td>5.0</td>\n",
       "      <td>11.70</td>\n",
       "      <td>1796.0</td>\n",
       "      <td>178.00</td>\n",
       "      <td>13</td>\n",
       "      <td>4780.615</td>\n",
       "      <td>2</td>\n",
       "      <td>4</td>\n",
       "      <td>4</td>\n",
       "      <td>0</td>\n",
       "      <td>0</td>\n",
       "      <td>0</td>\n",
       "      <td>1</td>\n",
       "      <td>1</td>\n",
       "    </tr>\n",
       "    <tr>\n",
       "      <th>5935</th>\n",
       "      <td>106000</td>\n",
       "      <td>1</td>\n",
       "      <td>8.0</td>\n",
       "      <td>12.99</td>\n",
       "      <td>2494.0</td>\n",
       "      <td>100.00</td>\n",
       "      <td>12</td>\n",
       "      <td>8833.333</td>\n",
       "      <td>3</td>\n",
       "      <td>4</td>\n",
       "      <td>3</td>\n",
       "      <td>1</td>\n",
       "      <td>0</td>\n",
       "      <td>0</td>\n",
       "      <td>0</td>\n",
       "      <td>1</td>\n",
       "    </tr>\n",
       "    <tr>\n",
       "      <th>3769</th>\n",
       "      <td>27000</td>\n",
       "      <td>1</td>\n",
       "      <td>5.0</td>\n",
       "      <td>17.97</td>\n",
       "      <td>1498.0</td>\n",
       "      <td>99.60</td>\n",
       "      <td>9</td>\n",
       "      <td>3000.000</td>\n",
       "      <td>2</td>\n",
       "      <td>3</td>\n",
       "      <td>2</td>\n",
       "      <td>0</td>\n",
       "      <td>0</td>\n",
       "      <td>0</td>\n",
       "      <td>1</td>\n",
       "      <td>0</td>\n",
       "    </tr>\n",
       "    <tr>\n",
       "      <th>4580</th>\n",
       "      <td>24350</td>\n",
       "      <td>2</td>\n",
       "      <td>5.0</td>\n",
       "      <td>19.81</td>\n",
       "      <td>1086.0</td>\n",
       "      <td>68.05</td>\n",
       "      <td>9</td>\n",
       "      <td>2705.556</td>\n",
       "      <td>2</td>\n",
       "      <td>4</td>\n",
       "      <td>2</td>\n",
       "      <td>0</td>\n",
       "      <td>0</td>\n",
       "      <td>0</td>\n",
       "      <td>1</td>\n",
       "      <td>1</td>\n",
       "    </tr>\n",
       "  </tbody>\n",
       "</table>\n",
       "</div>"
      ],
      "text/plain": [
       "      Kilometers_Driven  Owner_Type  Seats  Mileage(kmpl)  Engine(CC)  \\\n",
       "2061              33425           1    5.0          17.43      1396.0   \n",
       "4018              62148           1    5.0          11.70      1796.0   \n",
       "5935             106000           1    8.0          12.99      2494.0   \n",
       "3769              27000           1    5.0          17.97      1498.0   \n",
       "4580              24350           2    5.0          19.81      1086.0   \n",
       "\n",
       "      Power(bhp)  Car_Age  Km_per_Year  Size  GDP_Group  Brand_Segment  \\\n",
       "2061      105.50        9     3713.889     2          4              2   \n",
       "4018      178.00       13     4780.615     2          4              4   \n",
       "5935      100.00       12     8833.333     3          4              3   \n",
       "3769       99.60        9     3000.000     2          3              2   \n",
       "4580       68.05        9     2705.556     2          4              2   \n",
       "\n",
       "      Fuel_Type_Diesel  Fuel_Type_Electric  Fuel_Type_LPG  Fuel_Type_Petrol  \\\n",
       "2061                 0                   0              0                 1   \n",
       "4018                 0                   0              0                 1   \n",
       "5935                 1                   0              0                 0   \n",
       "3769                 0                   0              0                 1   \n",
       "4580                 0                   0              0                 1   \n",
       "\n",
       "      Transmission_Manual  \n",
       "2061                    1  \n",
       "4018                    1  \n",
       "5935                    1  \n",
       "3769                    0  \n",
       "4580                    1  "
      ]
     },
     "execution_count": 185,
     "metadata": {},
     "output_type": "execute_result"
    }
   ],
   "source": [
    "# Year 드랍\n",
    "df_train1_x = df_train1_x.drop(\"Year\", axis =1)\n",
    "df_train1_x.head()\n"
   ]
  },
  {
   "cell_type": "markdown",
   "metadata": {},
   "source": [
    "### df_price_nan 불러오기"
   ]
  },
  {
   "cell_type": "code",
   "execution_count": 188,
   "metadata": {},
   "outputs": [
    {
     "data": {
      "text/html": [
       "<div>\n",
       "<style scoped>\n",
       "    .dataframe tbody tr th:only-of-type {\n",
       "        vertical-align: middle;\n",
       "    }\n",
       "\n",
       "    .dataframe tbody tr th {\n",
       "        vertical-align: top;\n",
       "    }\n",
       "\n",
       "    .dataframe thead th {\n",
       "        text-align: right;\n",
       "    }\n",
       "</style>\n",
       "<table border=\"1\" class=\"dataframe\">\n",
       "  <thead>\n",
       "    <tr style=\"text-align: right;\">\n",
       "      <th></th>\n",
       "      <th>Price</th>\n",
       "      <th>Year</th>\n",
       "      <th>Kilometers_Driven</th>\n",
       "      <th>Owner_Type</th>\n",
       "      <th>Seats</th>\n",
       "      <th>Mileage(kmpl)</th>\n",
       "      <th>Engine(CC)</th>\n",
       "      <th>Power(bhp)</th>\n",
       "      <th>Car_Age</th>\n",
       "      <th>Km_per_Year</th>\n",
       "      <th>Size</th>\n",
       "      <th>GDP_Group</th>\n",
       "      <th>Brand_Segment</th>\n",
       "      <th>Fuel_Type_Diesel</th>\n",
       "      <th>Fuel_Type_Electric</th>\n",
       "      <th>Fuel_Type_LPG</th>\n",
       "      <th>Fuel_Type_Petrol</th>\n",
       "      <th>Transmission_Manual</th>\n",
       "    </tr>\n",
       "  </thead>\n",
       "  <tbody>\n",
       "    <tr>\n",
       "      <th>0</th>\n",
       "      <td>NaN</td>\n",
       "      <td>2017</td>\n",
       "      <td>13372</td>\n",
       "      <td>1</td>\n",
       "      <td>2.0</td>\n",
       "      <td>19.00</td>\n",
       "      <td>2996.0</td>\n",
       "      <td>362.07</td>\n",
       "      <td>7</td>\n",
       "      <td>1910.286</td>\n",
       "      <td>3</td>\n",
       "      <td>4</td>\n",
       "      <td>4</td>\n",
       "      <td>0</td>\n",
       "      <td>0</td>\n",
       "      <td>0</td>\n",
       "      <td>1</td>\n",
       "      <td>0</td>\n",
       "    </tr>\n",
       "    <tr>\n",
       "      <th>1</th>\n",
       "      <td>NaN</td>\n",
       "      <td>2019</td>\n",
       "      <td>2526</td>\n",
       "      <td>1</td>\n",
       "      <td>2.0</td>\n",
       "      <td>19.00</td>\n",
       "      <td>2996.0</td>\n",
       "      <td>362.07</td>\n",
       "      <td>5</td>\n",
       "      <td>505.200</td>\n",
       "      <td>3</td>\n",
       "      <td>2</td>\n",
       "      <td>4</td>\n",
       "      <td>0</td>\n",
       "      <td>0</td>\n",
       "      <td>0</td>\n",
       "      <td>1</td>\n",
       "      <td>0</td>\n",
       "    </tr>\n",
       "    <tr>\n",
       "      <th>2</th>\n",
       "      <td>NaN</td>\n",
       "      <td>2019</td>\n",
       "      <td>14298</td>\n",
       "      <td>1</td>\n",
       "      <td>5.0</td>\n",
       "      <td>13.33</td>\n",
       "      <td>2995.0</td>\n",
       "      <td>340.00</td>\n",
       "      <td>5</td>\n",
       "      <td>2859.600</td>\n",
       "      <td>3</td>\n",
       "      <td>1</td>\n",
       "      <td>4</td>\n",
       "      <td>0</td>\n",
       "      <td>0</td>\n",
       "      <td>0</td>\n",
       "      <td>1</td>\n",
       "      <td>0</td>\n",
       "    </tr>\n",
       "    <tr>\n",
       "      <th>3</th>\n",
       "      <td>NaN</td>\n",
       "      <td>2014</td>\n",
       "      <td>59508</td>\n",
       "      <td>1</td>\n",
       "      <td>4.0</td>\n",
       "      <td>25.40</td>\n",
       "      <td>624.0</td>\n",
       "      <td>37.48</td>\n",
       "      <td>10</td>\n",
       "      <td>5950.800</td>\n",
       "      <td>1</td>\n",
       "      <td>1</td>\n",
       "      <td>1</td>\n",
       "      <td>0</td>\n",
       "      <td>0</td>\n",
       "      <td>0</td>\n",
       "      <td>1</td>\n",
       "      <td>1</td>\n",
       "    </tr>\n",
       "    <tr>\n",
       "      <th>4</th>\n",
       "      <td>NaN</td>\n",
       "      <td>2014</td>\n",
       "      <td>40929</td>\n",
       "      <td>1</td>\n",
       "      <td>4.0</td>\n",
       "      <td>32.26</td>\n",
       "      <td>998.0</td>\n",
       "      <td>58.20</td>\n",
       "      <td>10</td>\n",
       "      <td>4092.900</td>\n",
       "      <td>1</td>\n",
       "      <td>4</td>\n",
       "      <td>2</td>\n",
       "      <td>0</td>\n",
       "      <td>0</td>\n",
       "      <td>0</td>\n",
       "      <td>0</td>\n",
       "      <td>1</td>\n",
       "    </tr>\n",
       "  </tbody>\n",
       "</table>\n",
       "</div>"
      ],
      "text/plain": [
       "   Price  Year  Kilometers_Driven  Owner_Type  Seats  Mileage(kmpl)  \\\n",
       "0    NaN  2017              13372           1    2.0          19.00   \n",
       "1    NaN  2019               2526           1    2.0          19.00   \n",
       "2    NaN  2019              14298           1    5.0          13.33   \n",
       "3    NaN  2014              59508           1    4.0          25.40   \n",
       "4    NaN  2014              40929           1    4.0          32.26   \n",
       "\n",
       "   Engine(CC)  Power(bhp)  Car_Age  Km_per_Year  Size  GDP_Group  \\\n",
       "0      2996.0      362.07        7     1910.286     3          4   \n",
       "1      2996.0      362.07        5      505.200     3          2   \n",
       "2      2995.0      340.00        5     2859.600     3          1   \n",
       "3       624.0       37.48       10     5950.800     1          1   \n",
       "4       998.0       58.20       10     4092.900     1          4   \n",
       "\n",
       "   Brand_Segment  Fuel_Type_Diesel  Fuel_Type_Electric  Fuel_Type_LPG  \\\n",
       "0              4                 0                   0              0   \n",
       "1              4                 0                   0              0   \n",
       "2              4                 0                   0              0   \n",
       "3              1                 0                   0              0   \n",
       "4              2                 0                   0              0   \n",
       "\n",
       "   Fuel_Type_Petrol  Transmission_Manual  \n",
       "0                 1                    0  \n",
       "1                 1                    0  \n",
       "2                 1                    0  \n",
       "3                 1                    1  \n",
       "4                 0                    1  "
      ]
     },
     "execution_count": 188,
     "metadata": {},
     "output_type": "execute_result"
    }
   ],
   "source": [
    "df_price_nan = pd.read_csv(\"./data/df_price_nan.csv\",\n",
    "                          usecols=lambda column: column != \"Unnamed: 0\")\n",
    "df_price_nan.head()"
   ]
  },
  {
   "cell_type": "markdown",
   "metadata": {},
   "source": [
    "## Year 드랍"
   ]
  },
  {
   "cell_type": "code",
   "execution_count": 191,
   "metadata": {},
   "outputs": [
    {
     "data": {
      "text/html": [
       "<div>\n",
       "<style scoped>\n",
       "    .dataframe tbody tr th:only-of-type {\n",
       "        vertical-align: middle;\n",
       "    }\n",
       "\n",
       "    .dataframe tbody tr th {\n",
       "        vertical-align: top;\n",
       "    }\n",
       "\n",
       "    .dataframe thead th {\n",
       "        text-align: right;\n",
       "    }\n",
       "</style>\n",
       "<table border=\"1\" class=\"dataframe\">\n",
       "  <thead>\n",
       "    <tr style=\"text-align: right;\">\n",
       "      <th></th>\n",
       "      <th>Price</th>\n",
       "      <th>Kilometers_Driven</th>\n",
       "      <th>Owner_Type</th>\n",
       "      <th>Seats</th>\n",
       "      <th>Mileage(kmpl)</th>\n",
       "      <th>Engine(CC)</th>\n",
       "      <th>Power(bhp)</th>\n",
       "      <th>Car_Age</th>\n",
       "      <th>Km_per_Year</th>\n",
       "      <th>Size</th>\n",
       "      <th>GDP_Group</th>\n",
       "      <th>Brand_Segment</th>\n",
       "      <th>Fuel_Type_Diesel</th>\n",
       "      <th>Fuel_Type_Electric</th>\n",
       "      <th>Fuel_Type_LPG</th>\n",
       "      <th>Fuel_Type_Petrol</th>\n",
       "      <th>Transmission_Manual</th>\n",
       "    </tr>\n",
       "  </thead>\n",
       "  <tbody>\n",
       "    <tr>\n",
       "      <th>0</th>\n",
       "      <td>NaN</td>\n",
       "      <td>13372</td>\n",
       "      <td>1</td>\n",
       "      <td>2.0</td>\n",
       "      <td>19.00</td>\n",
       "      <td>2996.0</td>\n",
       "      <td>362.07</td>\n",
       "      <td>7</td>\n",
       "      <td>1910.286</td>\n",
       "      <td>3</td>\n",
       "      <td>4</td>\n",
       "      <td>4</td>\n",
       "      <td>0</td>\n",
       "      <td>0</td>\n",
       "      <td>0</td>\n",
       "      <td>1</td>\n",
       "      <td>0</td>\n",
       "    </tr>\n",
       "    <tr>\n",
       "      <th>1</th>\n",
       "      <td>NaN</td>\n",
       "      <td>2526</td>\n",
       "      <td>1</td>\n",
       "      <td>2.0</td>\n",
       "      <td>19.00</td>\n",
       "      <td>2996.0</td>\n",
       "      <td>362.07</td>\n",
       "      <td>5</td>\n",
       "      <td>505.200</td>\n",
       "      <td>3</td>\n",
       "      <td>2</td>\n",
       "      <td>4</td>\n",
       "      <td>0</td>\n",
       "      <td>0</td>\n",
       "      <td>0</td>\n",
       "      <td>1</td>\n",
       "      <td>0</td>\n",
       "    </tr>\n",
       "    <tr>\n",
       "      <th>2</th>\n",
       "      <td>NaN</td>\n",
       "      <td>14298</td>\n",
       "      <td>1</td>\n",
       "      <td>5.0</td>\n",
       "      <td>13.33</td>\n",
       "      <td>2995.0</td>\n",
       "      <td>340.00</td>\n",
       "      <td>5</td>\n",
       "      <td>2859.600</td>\n",
       "      <td>3</td>\n",
       "      <td>1</td>\n",
       "      <td>4</td>\n",
       "      <td>0</td>\n",
       "      <td>0</td>\n",
       "      <td>0</td>\n",
       "      <td>1</td>\n",
       "      <td>0</td>\n",
       "    </tr>\n",
       "    <tr>\n",
       "      <th>3</th>\n",
       "      <td>NaN</td>\n",
       "      <td>59508</td>\n",
       "      <td>1</td>\n",
       "      <td>4.0</td>\n",
       "      <td>25.40</td>\n",
       "      <td>624.0</td>\n",
       "      <td>37.48</td>\n",
       "      <td>10</td>\n",
       "      <td>5950.800</td>\n",
       "      <td>1</td>\n",
       "      <td>1</td>\n",
       "      <td>1</td>\n",
       "      <td>0</td>\n",
       "      <td>0</td>\n",
       "      <td>0</td>\n",
       "      <td>1</td>\n",
       "      <td>1</td>\n",
       "    </tr>\n",
       "    <tr>\n",
       "      <th>4</th>\n",
       "      <td>NaN</td>\n",
       "      <td>40929</td>\n",
       "      <td>1</td>\n",
       "      <td>4.0</td>\n",
       "      <td>32.26</td>\n",
       "      <td>998.0</td>\n",
       "      <td>58.20</td>\n",
       "      <td>10</td>\n",
       "      <td>4092.900</td>\n",
       "      <td>1</td>\n",
       "      <td>4</td>\n",
       "      <td>2</td>\n",
       "      <td>0</td>\n",
       "      <td>0</td>\n",
       "      <td>0</td>\n",
       "      <td>0</td>\n",
       "      <td>1</td>\n",
       "    </tr>\n",
       "  </tbody>\n",
       "</table>\n",
       "</div>"
      ],
      "text/plain": [
       "   Price  Kilometers_Driven  Owner_Type  Seats  Mileage(kmpl)  Engine(CC)  \\\n",
       "0    NaN              13372           1    2.0          19.00      2996.0   \n",
       "1    NaN               2526           1    2.0          19.00      2996.0   \n",
       "2    NaN              14298           1    5.0          13.33      2995.0   \n",
       "3    NaN              59508           1    4.0          25.40       624.0   \n",
       "4    NaN              40929           1    4.0          32.26       998.0   \n",
       "\n",
       "   Power(bhp)  Car_Age  Km_per_Year  Size  GDP_Group  Brand_Segment  \\\n",
       "0      362.07        7     1910.286     3          4              4   \n",
       "1      362.07        5      505.200     3          2              4   \n",
       "2      340.00        5     2859.600     3          1              4   \n",
       "3       37.48       10     5950.800     1          1              1   \n",
       "4       58.20       10     4092.900     1          4              2   \n",
       "\n",
       "   Fuel_Type_Diesel  Fuel_Type_Electric  Fuel_Type_LPG  Fuel_Type_Petrol  \\\n",
       "0                 0                   0              0                 1   \n",
       "1                 0                   0              0                 1   \n",
       "2                 0                   0              0                 1   \n",
       "3                 0                   0              0                 1   \n",
       "4                 0                   0              0                 0   \n",
       "\n",
       "   Transmission_Manual  \n",
       "0                    0  \n",
       "1                    0  \n",
       "2                    0  \n",
       "3                    1  \n",
       "4                    1  "
      ]
     },
     "execution_count": 191,
     "metadata": {},
     "output_type": "execute_result"
    }
   ],
   "source": [
    "# Year 드랍\n",
    "df_price_nan = df_price_nan.drop(\"Year\", axis =1)\n",
    "df_price_nan.head()"
   ]
  },
  {
   "cell_type": "markdown",
   "metadata": {},
   "source": [
    "### NaN 값 모델 예측값으로 채우기"
   ]
  },
  {
   "cell_type": "code",
   "execution_count": 194,
   "metadata": {},
   "outputs": [],
   "source": [
    "# 목표변수, 설명변수 데이터 지정\n",
    "df_price_nan_y = df_price_nan[\"Price\"]\n",
    "df_price_nan_x = df_price_nan.drop(\"Price\", axis = 1, inplace = False)"
   ]
  },
  {
   "cell_type": "code",
   "execution_count": 196,
   "metadata": {},
   "outputs": [
    {
     "data": {
      "text/plain": [
       "0   NaN\n",
       "1   NaN\n",
       "2   NaN\n",
       "3   NaN\n",
       "4   NaN\n",
       "Name: Price, dtype: float64"
      ]
     },
     "execution_count": 196,
     "metadata": {},
     "output_type": "execute_result"
    }
   ],
   "source": [
    "df_price_nan_y.head()"
   ]
  },
  {
   "cell_type": "code",
   "execution_count": 198,
   "metadata": {},
   "outputs": [],
   "source": [
    "# 데이터 구성:Series, DataFrame\n",
    "import pandas as pd\n",
    "# 데이터 시각화\n",
    "import matplotlib.pyplot as plt\n",
    "import matplotlib\n",
    "# 데이터 분할:train, test\n",
    "from sklearn.model_selection import train_test_split\n",
    "# 예측/회귀 Gradient Boosting\n",
    "from sklearn.ensemble import GradientBoostingRegressor\n",
    "# 최적 모델, 파라미터 탐색\n",
    "from sklearn.model_selection import GridSearchCV\n",
    "import numpy as np"
   ]
  },
  {
   "cell_type": "code",
   "execution_count": 200,
   "metadata": {},
   "outputs": [],
   "source": [
    "import matplotlib as mpl\n",
    "import matplotlib.pyplot as plt\n",
    "# 유니코드 깨짐현상 해결\n",
    "mpl.rcParams['axes.unicode_minus'] = False\n",
    "\n",
    "# 나눔고딕 폰트 적용\n",
    "plt.rcParams[\"font.family\"] = 'NanumGothic'"
   ]
  },
  {
   "cell_type": "code",
   "execution_count": 202,
   "metadata": {},
   "outputs": [],
   "source": [
    "# 실행결과 경고메시지 출력 제외\n",
    "import warnings\n",
    "\n",
    "warnings.filterwarnings('ignore')"
   ]
  },
  {
   "cell_type": "code",
   "execution_count": 204,
   "metadata": {},
   "outputs": [],
   "source": [
    "df_train_x = pd.read_csv(\"./df_train1_x.csv\", usecols=lambda column: column != \"Unnamed: 0\")\n",
    "df_train_y = pd.read_csv(\"./df_train1_y.csv\", usecols=lambda column: column != \"Unnamed: 0\")\n",
    "df_valid_x = pd.read_csv(\"./df_valid_x.csv\", usecols=lambda column: column != \"Unnamed: 0\")\n",
    "df_valid_y = pd.read_csv(\"./df_valid_y.csv\", usecols=lambda column: column != \"Unnamed: 0\")\n",
    "df_train_x = df_train_x.drop(['Year'], axis = 1)\n",
    "df_valid_x = df_valid_x.drop(['Year'], axis = 1)\n",
    "# price(목표변수) log변환\n",
    "df_train_y = np.log1p(df_train_y)\n",
    "df_valid_y = np.log1p(df_valid_y)"
   ]
  },
  {
   "cell_type": "code",
   "execution_count": 206,
   "metadata": {},
   "outputs": [
    {
     "name": "stdout",
     "output_type": "stream",
     "text": [
      "Data 구조: Index(['Kilometers_Driven', 'Owner_Type', 'Seats', 'Mileage(kmpl)',\n",
      "       'Engine(CC)', 'Power(bhp)', 'Car_Age', 'Km_per_Year', 'Size',\n",
      "       'GDP_Group', 'Brand_Segment', 'Fuel_Type_Diesel', 'Fuel_Type_Electric',\n",
      "       'Fuel_Type_LPG', 'Fuel_Type_Petrol', 'Transmission_Manual'],\n",
      "      dtype='object')\n",
      "\n",
      "목표 :  Index(['Price'], dtype='object')\n"
     ]
    }
   ],
   "source": [
    "# Data 구조 확인\n",
    "print(\"Data 구조:\", df_train_x.columns)\n",
    "print()\n",
    "print(\"목표 : \", df_train_y.columns)"
   ]
  },
  {
   "cell_type": "code",
   "execution_count": 208,
   "metadata": {},
   "outputs": [
    {
     "name": "stdout",
     "output_type": "stream",
     "text": [
      "Score on training set: 0.966\n",
      "Score on test set: 0.932\n"
     ]
    }
   ],
   "source": [
    "# 최종모델 선택\n",
    "#n_estimators = 90, min_samples_leaf = 7, min_samples_split = 18, max_depth = 5, learning_rate = 0.1,2\n",
    "gb_final = GradientBoostingRegressor(random_state=1234, n_estimators = 90, min_samples_leaf = 7,\n",
    "                                     min_samples_split = 18, max_depth = 5, learning_rate = 0.2)\n",
    "gb_final.fit(df_train_x, df_train_y)\n",
    "# Train 데이터 설명력\n",
    "print(\"Score on training set: {:.3f}\".format(gb_final.score(df_train_x, df_train_y)))\n",
    "# Test 데이터 설명력\n",
    "print(\"Score on test set: {:.3f}\".format(gb_final.score(df_valid_x, df_valid_y)))"
   ]
  },
  {
   "cell_type": "code",
   "execution_count": 209,
   "metadata": {},
   "outputs": [],
   "source": [
    "# 예측\n",
    "price_pred = gb_final.predict(df_price_nan_x) # 로그 변환된 값\n",
    "price_pred = np.expm1(price_pred)  # 예측 결과 원래 단위로 복원"
   ]
  },
  {
   "cell_type": "code",
   "execution_count": 212,
   "metadata": {},
   "outputs": [],
   "source": [
    "price_pred = price_pred.round(2)"
   ]
  },
  {
   "cell_type": "code",
   "execution_count": 214,
   "metadata": {},
   "outputs": [],
   "source": [
    "\n",
    "# Price가 NaN인 행의 인덱스를 찾기\n",
    "nan_rows = df_price_nan['Price'].isna()\n",
    "\n",
    "# NaN인 부분에만 예측값을 채움\n",
    "df_price_nan.loc[nan_rows, 'Price'] = price_pred\n",
    "\n",
    "# Price 열을 소수 둘째 자리로 반올림\n",
    "df_price_nan['Price'] = df_price_nan['Price'].round(2)\n",
    "\n"
   ]
  },
  {
   "cell_type": "code",
   "execution_count": 216,
   "metadata": {},
   "outputs": [
    {
     "data": {
      "text/html": [
       "<div>\n",
       "<style scoped>\n",
       "    .dataframe tbody tr th:only-of-type {\n",
       "        vertical-align: middle;\n",
       "    }\n",
       "\n",
       "    .dataframe tbody tr th {\n",
       "        vertical-align: top;\n",
       "    }\n",
       "\n",
       "    .dataframe thead th {\n",
       "        text-align: right;\n",
       "    }\n",
       "</style>\n",
       "<table border=\"1\" class=\"dataframe\">\n",
       "  <thead>\n",
       "    <tr style=\"text-align: right;\">\n",
       "      <th></th>\n",
       "      <th>Price</th>\n",
       "      <th>Kilometers_Driven</th>\n",
       "      <th>Owner_Type</th>\n",
       "      <th>Seats</th>\n",
       "      <th>Mileage(kmpl)</th>\n",
       "      <th>Engine(CC)</th>\n",
       "      <th>Power(bhp)</th>\n",
       "      <th>Car_Age</th>\n",
       "      <th>Km_per_Year</th>\n",
       "      <th>Size</th>\n",
       "      <th>GDP_Group</th>\n",
       "      <th>Brand_Segment</th>\n",
       "      <th>Fuel_Type_Diesel</th>\n",
       "      <th>Fuel_Type_Electric</th>\n",
       "      <th>Fuel_Type_LPG</th>\n",
       "      <th>Fuel_Type_Petrol</th>\n",
       "      <th>Transmission_Manual</th>\n",
       "    </tr>\n",
       "  </thead>\n",
       "  <tbody>\n",
       "    <tr>\n",
       "      <th>0</th>\n",
       "      <td>92163.20</td>\n",
       "      <td>13372</td>\n",
       "      <td>1</td>\n",
       "      <td>2.0</td>\n",
       "      <td>19.00</td>\n",
       "      <td>2996.0</td>\n",
       "      <td>362.07</td>\n",
       "      <td>7</td>\n",
       "      <td>1910.286</td>\n",
       "      <td>3</td>\n",
       "      <td>4</td>\n",
       "      <td>4</td>\n",
       "      <td>0</td>\n",
       "      <td>0</td>\n",
       "      <td>0</td>\n",
       "      <td>1</td>\n",
       "      <td>0</td>\n",
       "    </tr>\n",
       "    <tr>\n",
       "      <th>1</th>\n",
       "      <td>100830.51</td>\n",
       "      <td>2526</td>\n",
       "      <td>1</td>\n",
       "      <td>2.0</td>\n",
       "      <td>19.00</td>\n",
       "      <td>2996.0</td>\n",
       "      <td>362.07</td>\n",
       "      <td>5</td>\n",
       "      <td>505.200</td>\n",
       "      <td>3</td>\n",
       "      <td>2</td>\n",
       "      <td>4</td>\n",
       "      <td>0</td>\n",
       "      <td>0</td>\n",
       "      <td>0</td>\n",
       "      <td>1</td>\n",
       "      <td>0</td>\n",
       "    </tr>\n",
       "    <tr>\n",
       "      <th>2</th>\n",
       "      <td>87839.52</td>\n",
       "      <td>14298</td>\n",
       "      <td>1</td>\n",
       "      <td>5.0</td>\n",
       "      <td>13.33</td>\n",
       "      <td>2995.0</td>\n",
       "      <td>340.00</td>\n",
       "      <td>5</td>\n",
       "      <td>2859.600</td>\n",
       "      <td>3</td>\n",
       "      <td>1</td>\n",
       "      <td>4</td>\n",
       "      <td>0</td>\n",
       "      <td>0</td>\n",
       "      <td>0</td>\n",
       "      <td>1</td>\n",
       "      <td>0</td>\n",
       "    </tr>\n",
       "    <tr>\n",
       "      <th>3</th>\n",
       "      <td>2132.22</td>\n",
       "      <td>59508</td>\n",
       "      <td>1</td>\n",
       "      <td>4.0</td>\n",
       "      <td>25.40</td>\n",
       "      <td>624.0</td>\n",
       "      <td>37.48</td>\n",
       "      <td>10</td>\n",
       "      <td>5950.800</td>\n",
       "      <td>1</td>\n",
       "      <td>1</td>\n",
       "      <td>1</td>\n",
       "      <td>0</td>\n",
       "      <td>0</td>\n",
       "      <td>0</td>\n",
       "      <td>1</td>\n",
       "      <td>1</td>\n",
       "    </tr>\n",
       "    <tr>\n",
       "      <th>4</th>\n",
       "      <td>4333.86</td>\n",
       "      <td>40929</td>\n",
       "      <td>1</td>\n",
       "      <td>4.0</td>\n",
       "      <td>32.26</td>\n",
       "      <td>998.0</td>\n",
       "      <td>58.20</td>\n",
       "      <td>10</td>\n",
       "      <td>4092.900</td>\n",
       "      <td>1</td>\n",
       "      <td>4</td>\n",
       "      <td>2</td>\n",
       "      <td>0</td>\n",
       "      <td>0</td>\n",
       "      <td>0</td>\n",
       "      <td>0</td>\n",
       "      <td>1</td>\n",
       "    </tr>\n",
       "  </tbody>\n",
       "</table>\n",
       "</div>"
      ],
      "text/plain": [
       "       Price  Kilometers_Driven  Owner_Type  Seats  Mileage(kmpl)  Engine(CC)  \\\n",
       "0   92163.20              13372           1    2.0          19.00      2996.0   \n",
       "1  100830.51               2526           1    2.0          19.00      2996.0   \n",
       "2   87839.52              14298           1    5.0          13.33      2995.0   \n",
       "3    2132.22              59508           1    4.0          25.40       624.0   \n",
       "4    4333.86              40929           1    4.0          32.26       998.0   \n",
       "\n",
       "   Power(bhp)  Car_Age  Km_per_Year  Size  GDP_Group  Brand_Segment  \\\n",
       "0      362.07        7     1910.286     3          4              4   \n",
       "1      362.07        5      505.200     3          2              4   \n",
       "2      340.00        5     2859.600     3          1              4   \n",
       "3       37.48       10     5950.800     1          1              1   \n",
       "4       58.20       10     4092.900     1          4              2   \n",
       "\n",
       "   Fuel_Type_Diesel  Fuel_Type_Electric  Fuel_Type_LPG  Fuel_Type_Petrol  \\\n",
       "0                 0                   0              0                 1   \n",
       "1                 0                   0              0                 1   \n",
       "2                 0                   0              0                 1   \n",
       "3                 0                   0              0                 1   \n",
       "4                 0                   0              0                 0   \n",
       "\n",
       "   Transmission_Manual  \n",
       "0                    0  \n",
       "1                    0  \n",
       "2                    0  \n",
       "3                    1  \n",
       "4                    1  "
      ]
     },
     "execution_count": 216,
     "metadata": {},
     "output_type": "execute_result"
    }
   ],
   "source": [
    "df_price_nan.head()"
   ]
  },
  {
   "cell_type": "code",
   "execution_count": 218,
   "metadata": {},
   "outputs": [],
   "source": [
    "# ### NaN 값이 다른 변수들과 정확히 매치되었는지 확인\n",
    "# import numpy as np\n",
    "\n",
    "# # 1. NaN인 인덱스 찾기\n",
    "# nan_index = df_price_nan[df_price_nan['Price'].isna()].index\n",
    "\n",
    "# # 2. 예측값 길이와 NaN 인덱스 길이 비교\n",
    "# print(f\"예측값 개수: {len(price_pred)}\")\n",
    "# print(f\"NaN 행 개수: {len(nan_index)}\")\n",
    "\n",
    "# # 3. 인덱스 순서가 df_price_nan에서 그대로 유지되고 있는지 확인\n",
    "# print(\"NaN 인덱스 상위 5개:\", nan_index[:5])\n",
    "# print(\"예측값 상위 5개:\", price_pred[:5])\n",
    "\n",
    "# # 4. 실제로 넣었는지 확인 (추가)\n",
    "# for i, val in zip(nan_index[:5], price_pred[:5]):\n",
    "#     print(f\"Index {i} → 예측값 {val:.2f} / 실제 값: {df_price_nan.loc[i, 'Price']:.2f}\")\n"
   ]
  },
  {
   "cell_type": "markdown",
   "metadata": {},
   "source": [
    "### 모든 학습데이터 concat -> 최종 학습데이터 만들기"
   ]
  },
  {
   "cell_type": "code",
   "execution_count": 221,
   "metadata": {},
   "outputs": [],
   "source": [
    "# 1. 로그 역변환\n",
    "df_train_y = np.expm1(df_train_y)\n",
    "df_valid_y = np.expm1(df_valid_y)"
   ]
  },
  {
   "cell_type": "code",
   "execution_count": 223,
   "metadata": {},
   "outputs": [
    {
     "name": "stdout",
     "output_type": "stream",
     "text": [
      "전체 결측치 수:\n",
      " Kilometers_Driven      0\n",
      "Owner_Type             0\n",
      "Seats                  0\n",
      "Mileage(kmpl)          0\n",
      "Engine(CC)             0\n",
      "Power(bhp)             0\n",
      "Car_Age                0\n",
      "Km_per_Year            0\n",
      "Size                   0\n",
      "GDP_Group              0\n",
      "Brand_Segment          0\n",
      "Fuel_Type_Diesel       0\n",
      "Fuel_Type_Electric     0\n",
      "Fuel_Type_LPG          0\n",
      "Fuel_Type_Petrol       0\n",
      "Transmission_Manual    0\n",
      "Price                  0\n",
      "dtype: int64\n"
     ]
    }
   ],
   "source": [
    "# 1. train_x + train_y 결합\n",
    "df_train = df_train_x.copy()\n",
    "df_train['Price'] = df_train_y.values\n",
    "\n",
    "# 2. valid_x + valid_y 결합\n",
    "df_valid = df_valid_x.copy()\n",
    "df_valid['Price'] = df_valid_y.values\n",
    "\n",
    "# 3. df_price_nan은 이미 Price가 채워진 상태\n",
    "\n",
    "# 4. 세 데이터 합치기\n",
    "df_final_train = pd.concat([df_train, df_valid, df_price_nan], axis=0).reset_index(drop=True)\n",
    "\n",
    "# 5. 결측치 확인\n",
    "print(\"전체 결측치 수:\\n\", df_final_train.isna().sum())\n"
   ]
  },
  {
   "cell_type": "code",
   "execution_count": 225,
   "metadata": {},
   "outputs": [
    {
     "data": {
      "text/html": [
       "<div>\n",
       "<style scoped>\n",
       "    .dataframe tbody tr th:only-of-type {\n",
       "        vertical-align: middle;\n",
       "    }\n",
       "\n",
       "    .dataframe tbody tr th {\n",
       "        vertical-align: top;\n",
       "    }\n",
       "\n",
       "    .dataframe thead th {\n",
       "        text-align: right;\n",
       "    }\n",
       "</style>\n",
       "<table border=\"1\" class=\"dataframe\">\n",
       "  <thead>\n",
       "    <tr style=\"text-align: right;\">\n",
       "      <th></th>\n",
       "      <th>Kilometers_Driven</th>\n",
       "      <th>Owner_Type</th>\n",
       "      <th>Seats</th>\n",
       "      <th>Mileage(kmpl)</th>\n",
       "      <th>Engine(CC)</th>\n",
       "      <th>Power(bhp)</th>\n",
       "      <th>Car_Age</th>\n",
       "      <th>Km_per_Year</th>\n",
       "      <th>Size</th>\n",
       "      <th>GDP_Group</th>\n",
       "      <th>Brand_Segment</th>\n",
       "      <th>Fuel_Type_Diesel</th>\n",
       "      <th>Fuel_Type_Electric</th>\n",
       "      <th>Fuel_Type_LPG</th>\n",
       "      <th>Fuel_Type_Petrol</th>\n",
       "      <th>Transmission_Manual</th>\n",
       "      <th>Price</th>\n",
       "    </tr>\n",
       "  </thead>\n",
       "  <tbody>\n",
       "    <tr>\n",
       "      <th>0</th>\n",
       "      <td>33425</td>\n",
       "      <td>1</td>\n",
       "      <td>5.0</td>\n",
       "      <td>17.43</td>\n",
       "      <td>1396.0</td>\n",
       "      <td>105.50</td>\n",
       "      <td>9</td>\n",
       "      <td>3713.889</td>\n",
       "      <td>2</td>\n",
       "      <td>4</td>\n",
       "      <td>2</td>\n",
       "      <td>0</td>\n",
       "      <td>0</td>\n",
       "      <td>0</td>\n",
       "      <td>1</td>\n",
       "      <td>1</td>\n",
       "      <td>6898.32</td>\n",
       "    </tr>\n",
       "    <tr>\n",
       "      <th>1</th>\n",
       "      <td>62148</td>\n",
       "      <td>1</td>\n",
       "      <td>5.0</td>\n",
       "      <td>11.70</td>\n",
       "      <td>1796.0</td>\n",
       "      <td>178.00</td>\n",
       "      <td>13</td>\n",
       "      <td>4780.615</td>\n",
       "      <td>2</td>\n",
       "      <td>4</td>\n",
       "      <td>4</td>\n",
       "      <td>0</td>\n",
       "      <td>0</td>\n",
       "      <td>0</td>\n",
       "      <td>1</td>\n",
       "      <td>1</td>\n",
       "      <td>13490.05</td>\n",
       "    </tr>\n",
       "    <tr>\n",
       "      <th>2</th>\n",
       "      <td>106000</td>\n",
       "      <td>1</td>\n",
       "      <td>8.0</td>\n",
       "      <td>12.99</td>\n",
       "      <td>2494.0</td>\n",
       "      <td>100.00</td>\n",
       "      <td>12</td>\n",
       "      <td>8833.333</td>\n",
       "      <td>3</td>\n",
       "      <td>4</td>\n",
       "      <td>3</td>\n",
       "      <td>1</td>\n",
       "      <td>0</td>\n",
       "      <td>0</td>\n",
       "      <td>0</td>\n",
       "      <td>1</td>\n",
       "      <td>12876.86</td>\n",
       "    </tr>\n",
       "    <tr>\n",
       "      <th>3</th>\n",
       "      <td>27000</td>\n",
       "      <td>1</td>\n",
       "      <td>5.0</td>\n",
       "      <td>17.97</td>\n",
       "      <td>1498.0</td>\n",
       "      <td>99.60</td>\n",
       "      <td>9</td>\n",
       "      <td>3000.000</td>\n",
       "      <td>2</td>\n",
       "      <td>3</td>\n",
       "      <td>2</td>\n",
       "      <td>0</td>\n",
       "      <td>0</td>\n",
       "      <td>0</td>\n",
       "      <td>1</td>\n",
       "      <td>0</td>\n",
       "      <td>10347.48</td>\n",
       "    </tr>\n",
       "    <tr>\n",
       "      <th>4</th>\n",
       "      <td>24350</td>\n",
       "      <td>2</td>\n",
       "      <td>5.0</td>\n",
       "      <td>19.81</td>\n",
       "      <td>1086.0</td>\n",
       "      <td>68.05</td>\n",
       "      <td>9</td>\n",
       "      <td>2705.556</td>\n",
       "      <td>2</td>\n",
       "      <td>4</td>\n",
       "      <td>2</td>\n",
       "      <td>0</td>\n",
       "      <td>0</td>\n",
       "      <td>0</td>\n",
       "      <td>1</td>\n",
       "      <td>1</td>\n",
       "      <td>4598.88</td>\n",
       "    </tr>\n",
       "  </tbody>\n",
       "</table>\n",
       "</div>"
      ],
      "text/plain": [
       "   Kilometers_Driven  Owner_Type  Seats  Mileage(kmpl)  Engine(CC)  \\\n",
       "0              33425           1    5.0          17.43      1396.0   \n",
       "1              62148           1    5.0          11.70      1796.0   \n",
       "2             106000           1    8.0          12.99      2494.0   \n",
       "3              27000           1    5.0          17.97      1498.0   \n",
       "4              24350           2    5.0          19.81      1086.0   \n",
       "\n",
       "   Power(bhp)  Car_Age  Km_per_Year  Size  GDP_Group  Brand_Segment  \\\n",
       "0      105.50        9     3713.889     2          4              2   \n",
       "1      178.00       13     4780.615     2          4              4   \n",
       "2      100.00       12     8833.333     3          4              3   \n",
       "3       99.60        9     3000.000     2          3              2   \n",
       "4       68.05        9     2705.556     2          4              2   \n",
       "\n",
       "   Fuel_Type_Diesel  Fuel_Type_Electric  Fuel_Type_LPG  Fuel_Type_Petrol  \\\n",
       "0                 0                   0              0                 1   \n",
       "1                 0                   0              0                 1   \n",
       "2                 1                   0              0                 0   \n",
       "3                 0                   0              0                 1   \n",
       "4                 0                   0              0                 1   \n",
       "\n",
       "   Transmission_Manual     Price  \n",
       "0                    1   6898.32  \n",
       "1                    1  13490.05  \n",
       "2                    1  12876.86  \n",
       "3                    0  10347.48  \n",
       "4                    1   4598.88  "
      ]
     },
     "execution_count": 225,
     "metadata": {},
     "output_type": "execute_result"
    }
   ],
   "source": [
    "df_final_train.head()"
   ]
  },
  {
   "cell_type": "code",
   "execution_count": 227,
   "metadata": {},
   "outputs": [
    {
     "name": "stdout",
     "output_type": "stream",
     "text": [
      "<class 'pandas.core.frame.DataFrame'>\n",
      "RangeIndex: 6014 entries, 0 to 6013\n",
      "Data columns (total 17 columns):\n",
      " #   Column               Non-Null Count  Dtype  \n",
      "---  ------               --------------  -----  \n",
      " 0   Kilometers_Driven    6014 non-null   int64  \n",
      " 1   Owner_Type           6014 non-null   int64  \n",
      " 2   Seats                6014 non-null   float64\n",
      " 3   Mileage(kmpl)        6014 non-null   float64\n",
      " 4   Engine(CC)           6014 non-null   float64\n",
      " 5   Power(bhp)           6014 non-null   float64\n",
      " 6   Car_Age              6014 non-null   int64  \n",
      " 7   Km_per_Year          6014 non-null   float64\n",
      " 8   Size                 6014 non-null   int64  \n",
      " 9   GDP_Group            6014 non-null   int64  \n",
      " 10  Brand_Segment        6014 non-null   int64  \n",
      " 11  Fuel_Type_Diesel     6014 non-null   int64  \n",
      " 12  Fuel_Type_Electric   6014 non-null   int64  \n",
      " 13  Fuel_Type_LPG        6014 non-null   int64  \n",
      " 14  Fuel_Type_Petrol     6014 non-null   int64  \n",
      " 15  Transmission_Manual  6014 non-null   int64  \n",
      " 16  Price                6014 non-null   float64\n",
      "dtypes: float64(6), int64(11)\n",
      "memory usage: 798.9 KB\n"
     ]
    }
   ],
   "source": [
    "df_final_train.info()"
   ]
  },
  {
   "cell_type": "code",
   "execution_count": 229,
   "metadata": {},
   "outputs": [
    {
     "data": {
      "text/plain": [
       "Kilometers_Driven      0\n",
       "Owner_Type             0\n",
       "Seats                  0\n",
       "Mileage(kmpl)          0\n",
       "Engine(CC)             0\n",
       "Power(bhp)             0\n",
       "Car_Age                0\n",
       "Km_per_Year            0\n",
       "Size                   0\n",
       "GDP_Group              0\n",
       "Brand_Segment          0\n",
       "Fuel_Type_Diesel       0\n",
       "Fuel_Type_Electric     0\n",
       "Fuel_Type_LPG          0\n",
       "Fuel_Type_Petrol       0\n",
       "Transmission_Manual    0\n",
       "Price                  0\n",
       "dtype: int64"
      ]
     },
     "execution_count": 229,
     "metadata": {},
     "output_type": "execute_result"
    }
   ],
   "source": [
    "df_final_train.isnull().sum()"
   ]
  },
  {
   "cell_type": "code",
   "execution_count": 231,
   "metadata": {},
   "outputs": [],
   "source": [
    "# 목표변수, 설명변수 데이터 지정\n",
    "df_final_train_y = df_final_train[[\"Price\"]]\n",
    "df_final_train_x = df_final_train.drop(\"Price\", axis = 1, inplace = False)\n"
   ]
  },
  {
   "cell_type": "code",
   "execution_count": 233,
   "metadata": {},
   "outputs": [
    {
     "data": {
      "text/html": [
       "<div>\n",
       "<style scoped>\n",
       "    .dataframe tbody tr th:only-of-type {\n",
       "        vertical-align: middle;\n",
       "    }\n",
       "\n",
       "    .dataframe tbody tr th {\n",
       "        vertical-align: top;\n",
       "    }\n",
       "\n",
       "    .dataframe thead th {\n",
       "        text-align: right;\n",
       "    }\n",
       "</style>\n",
       "<table border=\"1\" class=\"dataframe\">\n",
       "  <thead>\n",
       "    <tr style=\"text-align: right;\">\n",
       "      <th></th>\n",
       "      <th>Kilometers_Driven</th>\n",
       "      <th>Owner_Type</th>\n",
       "      <th>Seats</th>\n",
       "      <th>Mileage(kmpl)</th>\n",
       "      <th>Engine(CC)</th>\n",
       "      <th>Power(bhp)</th>\n",
       "      <th>Car_Age</th>\n",
       "      <th>Km_per_Year</th>\n",
       "      <th>Size</th>\n",
       "      <th>GDP_Group</th>\n",
       "      <th>Brand_Segment</th>\n",
       "      <th>Fuel_Type_Diesel</th>\n",
       "      <th>Fuel_Type_Electric</th>\n",
       "      <th>Fuel_Type_LPG</th>\n",
       "      <th>Fuel_Type_Petrol</th>\n",
       "      <th>Transmission_Manual</th>\n",
       "    </tr>\n",
       "  </thead>\n",
       "  <tbody>\n",
       "    <tr>\n",
       "      <th>0</th>\n",
       "      <td>33425</td>\n",
       "      <td>1</td>\n",
       "      <td>5.0</td>\n",
       "      <td>17.43</td>\n",
       "      <td>1396.0</td>\n",
       "      <td>105.50</td>\n",
       "      <td>9</td>\n",
       "      <td>3713.889</td>\n",
       "      <td>2</td>\n",
       "      <td>4</td>\n",
       "      <td>2</td>\n",
       "      <td>0</td>\n",
       "      <td>0</td>\n",
       "      <td>0</td>\n",
       "      <td>1</td>\n",
       "      <td>1</td>\n",
       "    </tr>\n",
       "    <tr>\n",
       "      <th>1</th>\n",
       "      <td>62148</td>\n",
       "      <td>1</td>\n",
       "      <td>5.0</td>\n",
       "      <td>11.70</td>\n",
       "      <td>1796.0</td>\n",
       "      <td>178.00</td>\n",
       "      <td>13</td>\n",
       "      <td>4780.615</td>\n",
       "      <td>2</td>\n",
       "      <td>4</td>\n",
       "      <td>4</td>\n",
       "      <td>0</td>\n",
       "      <td>0</td>\n",
       "      <td>0</td>\n",
       "      <td>1</td>\n",
       "      <td>1</td>\n",
       "    </tr>\n",
       "    <tr>\n",
       "      <th>2</th>\n",
       "      <td>106000</td>\n",
       "      <td>1</td>\n",
       "      <td>8.0</td>\n",
       "      <td>12.99</td>\n",
       "      <td>2494.0</td>\n",
       "      <td>100.00</td>\n",
       "      <td>12</td>\n",
       "      <td>8833.333</td>\n",
       "      <td>3</td>\n",
       "      <td>4</td>\n",
       "      <td>3</td>\n",
       "      <td>1</td>\n",
       "      <td>0</td>\n",
       "      <td>0</td>\n",
       "      <td>0</td>\n",
       "      <td>1</td>\n",
       "    </tr>\n",
       "    <tr>\n",
       "      <th>3</th>\n",
       "      <td>27000</td>\n",
       "      <td>1</td>\n",
       "      <td>5.0</td>\n",
       "      <td>17.97</td>\n",
       "      <td>1498.0</td>\n",
       "      <td>99.60</td>\n",
       "      <td>9</td>\n",
       "      <td>3000.000</td>\n",
       "      <td>2</td>\n",
       "      <td>3</td>\n",
       "      <td>2</td>\n",
       "      <td>0</td>\n",
       "      <td>0</td>\n",
       "      <td>0</td>\n",
       "      <td>1</td>\n",
       "      <td>0</td>\n",
       "    </tr>\n",
       "    <tr>\n",
       "      <th>4</th>\n",
       "      <td>24350</td>\n",
       "      <td>2</td>\n",
       "      <td>5.0</td>\n",
       "      <td>19.81</td>\n",
       "      <td>1086.0</td>\n",
       "      <td>68.05</td>\n",
       "      <td>9</td>\n",
       "      <td>2705.556</td>\n",
       "      <td>2</td>\n",
       "      <td>4</td>\n",
       "      <td>2</td>\n",
       "      <td>0</td>\n",
       "      <td>0</td>\n",
       "      <td>0</td>\n",
       "      <td>1</td>\n",
       "      <td>1</td>\n",
       "    </tr>\n",
       "  </tbody>\n",
       "</table>\n",
       "</div>"
      ],
      "text/plain": [
       "   Kilometers_Driven  Owner_Type  Seats  Mileage(kmpl)  Engine(CC)  \\\n",
       "0              33425           1    5.0          17.43      1396.0   \n",
       "1              62148           1    5.0          11.70      1796.0   \n",
       "2             106000           1    8.0          12.99      2494.0   \n",
       "3              27000           1    5.0          17.97      1498.0   \n",
       "4              24350           2    5.0          19.81      1086.0   \n",
       "\n",
       "   Power(bhp)  Car_Age  Km_per_Year  Size  GDP_Group  Brand_Segment  \\\n",
       "0      105.50        9     3713.889     2          4              2   \n",
       "1      178.00       13     4780.615     2          4              4   \n",
       "2      100.00       12     8833.333     3          4              3   \n",
       "3       99.60        9     3000.000     2          3              2   \n",
       "4       68.05        9     2705.556     2          4              2   \n",
       "\n",
       "   Fuel_Type_Diesel  Fuel_Type_Electric  Fuel_Type_LPG  Fuel_Type_Petrol  \\\n",
       "0                 0                   0              0                 1   \n",
       "1                 0                   0              0                 1   \n",
       "2                 1                   0              0                 0   \n",
       "3                 0                   0              0                 1   \n",
       "4                 0                   0              0                 1   \n",
       "\n",
       "   Transmission_Manual  \n",
       "0                    1  \n",
       "1                    1  \n",
       "2                    1  \n",
       "3                    0  \n",
       "4                    1  "
      ]
     },
     "execution_count": 233,
     "metadata": {},
     "output_type": "execute_result"
    }
   ],
   "source": [
    "df_final_train_x.head()"
   ]
  },
  {
   "cell_type": "code",
   "execution_count": 237,
   "metadata": {},
   "outputs": [],
   "source": [
    "df_test_x = pd.read_csv(\"./data/df_test_x.csv\")\n",
    "df_test_y = pd.read_csv(\"./data/df_test_y.csv\")"
   ]
  },
  {
   "cell_type": "code",
   "execution_count": 239,
   "metadata": {},
   "outputs": [
    {
     "name": "stdout",
     "output_type": "stream",
     "text": [
      "Score on training set: 0.963\n",
      "Score on test set: 0.962\n"
     ]
    }
   ],
   "source": [
    "# 1차 모델에 전체 학습데이터 학습시키기\n",
    "#n_estimators = 90, min_samples_leaf = 7, min_samples_split = 18, max_depth = 5, learning_rate = 0.1,2\n",
    "gb_final = GradientBoostingRegressor(random_state=1234, n_estimators = 90, min_samples_leaf = 7,\n",
    "                                     min_samples_split = 18, max_depth = 5, learning_rate = 0.2)\n",
    "gb_final.fit(df_final_train_x, df_final_train_y)\n",
    "# Train 데이터 설명력\n",
    "print(\"Score on training set: {:.3f}\".format(gb_final.score(df_final_train_x, df_final_train_y)))\n",
    "# Test 데이터 설명력\n",
    "print(\"Score on test set: {:.3f}\".format(gb_final.score(df_train_x, df_train_y)))"
   ]
  },
  {
   "cell_type": "markdown",
   "metadata": {},
   "source": [
    "## 1차 Gradient Boosting 모델에 전체 데이터 학습 -> Test성능: 96.2%"
   ]
  },
  {
   "cell_type": "code",
   "execution_count": 242,
   "metadata": {},
   "outputs": [
    {
     "data": {
      "text/html": [
       "<div>\n",
       "<style scoped>\n",
       "    .dataframe tbody tr th:only-of-type {\n",
       "        vertical-align: middle;\n",
       "    }\n",
       "\n",
       "    .dataframe tbody tr th {\n",
       "        vertical-align: top;\n",
       "    }\n",
       "\n",
       "    .dataframe thead th {\n",
       "        text-align: right;\n",
       "    }\n",
       "</style>\n",
       "<table border=\"1\" class=\"dataframe\">\n",
       "  <thead>\n",
       "    <tr style=\"text-align: right;\">\n",
       "      <th></th>\n",
       "      <th>Feature</th>\n",
       "      <th>Importance</th>\n",
       "    </tr>\n",
       "  </thead>\n",
       "  <tbody>\n",
       "    <tr>\n",
       "      <th>5</th>\n",
       "      <td>Power(bhp)</td>\n",
       "      <td>0.352</td>\n",
       "    </tr>\n",
       "    <tr>\n",
       "      <th>10</th>\n",
       "      <td>Brand_Segment</td>\n",
       "      <td>0.341</td>\n",
       "    </tr>\n",
       "    <tr>\n",
       "      <th>6</th>\n",
       "      <td>Car_Age</td>\n",
       "      <td>0.172</td>\n",
       "    </tr>\n",
       "    <tr>\n",
       "      <th>4</th>\n",
       "      <td>Engine(CC)</td>\n",
       "      <td>0.048</td>\n",
       "    </tr>\n",
       "    <tr>\n",
       "      <th>0</th>\n",
       "      <td>Kilometers_Driven</td>\n",
       "      <td>0.029</td>\n",
       "    </tr>\n",
       "    <tr>\n",
       "      <th>3</th>\n",
       "      <td>Mileage(kmpl)</td>\n",
       "      <td>0.024</td>\n",
       "    </tr>\n",
       "    <tr>\n",
       "      <th>2</th>\n",
       "      <td>Seats</td>\n",
       "      <td>0.011</td>\n",
       "    </tr>\n",
       "    <tr>\n",
       "      <th>7</th>\n",
       "      <td>Km_per_Year</td>\n",
       "      <td>0.011</td>\n",
       "    </tr>\n",
       "    <tr>\n",
       "      <th>9</th>\n",
       "      <td>GDP_Group</td>\n",
       "      <td>0.003</td>\n",
       "    </tr>\n",
       "    <tr>\n",
       "      <th>15</th>\n",
       "      <td>Transmission_Manual</td>\n",
       "      <td>0.003</td>\n",
       "    </tr>\n",
       "    <tr>\n",
       "      <th>14</th>\n",
       "      <td>Fuel_Type_Petrol</td>\n",
       "      <td>0.002</td>\n",
       "    </tr>\n",
       "    <tr>\n",
       "      <th>11</th>\n",
       "      <td>Fuel_Type_Diesel</td>\n",
       "      <td>0.002</td>\n",
       "    </tr>\n",
       "    <tr>\n",
       "      <th>1</th>\n",
       "      <td>Owner_Type</td>\n",
       "      <td>0.001</td>\n",
       "    </tr>\n",
       "    <tr>\n",
       "      <th>8</th>\n",
       "      <td>Size</td>\n",
       "      <td>0.000</td>\n",
       "    </tr>\n",
       "    <tr>\n",
       "      <th>12</th>\n",
       "      <td>Fuel_Type_Electric</td>\n",
       "      <td>0.000</td>\n",
       "    </tr>\n",
       "    <tr>\n",
       "      <th>13</th>\n",
       "      <td>Fuel_Type_LPG</td>\n",
       "      <td>0.000</td>\n",
       "    </tr>\n",
       "  </tbody>\n",
       "</table>\n",
       "</div>"
      ],
      "text/plain": [
       "                Feature  Importance\n",
       "5            Power(bhp)       0.352\n",
       "10        Brand_Segment       0.341\n",
       "6               Car_Age       0.172\n",
       "4            Engine(CC)       0.048\n",
       "0     Kilometers_Driven       0.029\n",
       "3         Mileage(kmpl)       0.024\n",
       "2                 Seats       0.011\n",
       "7           Km_per_Year       0.011\n",
       "9             GDP_Group       0.003\n",
       "15  Transmission_Manual       0.003\n",
       "14     Fuel_Type_Petrol       0.002\n",
       "11     Fuel_Type_Diesel       0.002\n",
       "1            Owner_Type       0.001\n",
       "8                  Size       0.000\n",
       "12   Fuel_Type_Electric       0.000\n",
       "13        Fuel_Type_LPG       0.000"
      ]
     },
     "execution_count": 242,
     "metadata": {},
     "output_type": "execute_result"
    }
   ],
   "source": [
    "# feature_importances_: 설명변수의 중요도\n",
    "v_feature_name = df_train_x.columns\n",
    "\n",
    "# tree.feature_importances_로 설명변수 중요도 확인 및 테이블로 저장\n",
    "df_importance = pd.DataFrame()\n",
    "df_importance[\"Feature\"] = v_feature_name\n",
    "df_importance[\"Importance\"] = gb_final.feature_importances_\n",
    "# df_feature_importance의 테이블을 중요도별로 정렬\n",
    "df_importance.sort_values(\"Importance\", ascending=False, inplace = True)\n",
    "df_importance.round(3)"
   ]
  },
  {
   "cell_type": "code",
   "execution_count": 244,
   "metadata": {},
   "outputs": [
    {
     "data": {
      "text/plain": [
       "Text(0, 0.5, '변수')"
      ]
     },
     "execution_count": 244,
     "metadata": {},
     "output_type": "execute_result"
    },
    {
     "name": "stderr",
     "output_type": "stream",
     "text": [
      "findfont: Font family 'NanumGothic' not found.\n",
      "findfont: Font family 'NanumGothic' not found.\n",
      "findfont: Font family 'NanumGothic' not found.\n",
      "findfont: Font family 'NanumGothic' not found.\n",
      "findfont: Font family 'NanumGothic' not found.\n",
      "findfont: Font family 'NanumGothic' not found.\n",
      "findfont: Font family 'NanumGothic' not found.\n",
      "findfont: Font family 'NanumGothic' not found.\n",
      "findfont: Font family 'NanumGothic' not found.\n",
      "findfont: Font family 'NanumGothic' not found.\n",
      "findfont: Font family 'NanumGothic' not found.\n",
      "findfont: Font family 'NanumGothic' not found.\n",
      "findfont: Font family 'NanumGothic' not found.\n",
      "findfont: Font family 'NanumGothic' not found.\n",
      "findfont: Font family 'NanumGothic' not found.\n",
      "findfont: Font family 'NanumGothic' not found.\n",
      "findfont: Font family 'NanumGothic' not found.\n",
      "findfont: Font family 'NanumGothic' not found.\n",
      "findfont: Font family 'NanumGothic' not found.\n",
      "findfont: Font family 'NanumGothic' not found.\n",
      "findfont: Font family 'NanumGothic' not found.\n",
      "findfont: Font family 'NanumGothic' not found.\n",
      "findfont: Font family 'NanumGothic' not found.\n",
      "findfont: Font family 'NanumGothic' not found.\n",
      "findfont: Font family 'NanumGothic' not found.\n",
      "findfont: Font family 'NanumGothic' not found.\n",
      "findfont: Font family 'NanumGothic' not found.\n",
      "findfont: Font family 'NanumGothic' not found.\n",
      "findfont: Font family 'NanumGothic' not found.\n",
      "findfont: Font family 'NanumGothic' not found.\n",
      "findfont: Font family 'NanumGothic' not found.\n",
      "findfont: Font family 'NanumGothic' not found.\n",
      "findfont: Font family 'NanumGothic' not found.\n",
      "findfont: Font family 'NanumGothic' not found.\n",
      "findfont: Font family 'NanumGothic' not found.\n",
      "findfont: Font family 'NanumGothic' not found.\n",
      "findfont: Font family 'NanumGothic' not found.\n",
      "findfont: Font family 'NanumGothic' not found.\n",
      "findfont: Font family 'NanumGothic' not found.\n",
      "findfont: Font family 'NanumGothic' not found.\n",
      "findfont: Font family 'NanumGothic' not found.\n",
      "findfont: Font family 'NanumGothic' not found.\n",
      "findfont: Font family 'NanumGothic' not found.\n",
      "findfont: Font family 'NanumGothic' not found.\n",
      "findfont: Font family 'NanumGothic' not found.\n",
      "findfont: Font family 'NanumGothic' not found.\n",
      "findfont: Font family 'NanumGothic' not found.\n",
      "findfont: Font family 'NanumGothic' not found.\n",
      "findfont: Font family 'NanumGothic' not found.\n",
      "findfont: Font family 'NanumGothic' not found.\n",
      "findfont: Font family 'NanumGothic' not found.\n",
      "findfont: Font family 'NanumGothic' not found.\n",
      "findfont: Font family 'NanumGothic' not found.\n",
      "findfont: Font family 'NanumGothic' not found.\n",
      "findfont: Font family 'NanumGothic' not found.\n",
      "findfont: Font family 'NanumGothic' not found.\n",
      "findfont: Font family 'NanumGothic' not found.\n",
      "findfont: Font family 'NanumGothic' not found.\n",
      "findfont: Font family 'NanumGothic' not found.\n",
      "findfont: Font family 'NanumGothic' not found.\n",
      "findfont: Font family 'NanumGothic' not found.\n",
      "findfont: Font family 'NanumGothic' not found.\n",
      "findfont: Font family 'NanumGothic' not found.\n",
      "findfont: Font family 'NanumGothic' not found.\n",
      "findfont: Font family 'NanumGothic' not found.\n",
      "findfont: Font family 'NanumGothic' not found.\n",
      "findfont: Font family 'NanumGothic' not found.\n",
      "findfont: Font family 'NanumGothic' not found.\n",
      "findfont: Font family 'NanumGothic' not found.\n",
      "findfont: Font family 'NanumGothic' not found.\n",
      "findfont: Font family 'NanumGothic' not found.\n",
      "findfont: Font family 'NanumGothic' not found.\n",
      "findfont: Font family 'NanumGothic' not found.\n",
      "findfont: Font family 'NanumGothic' not found.\n",
      "findfont: Font family 'NanumGothic' not found.\n",
      "findfont: Font family 'NanumGothic' not found.\n",
      "findfont: Font family 'NanumGothic' not found.\n",
      "findfont: Font family 'NanumGothic' not found.\n",
      "findfont: Font family 'NanumGothic' not found.\n",
      "findfont: Font family 'NanumGothic' not found.\n",
      "findfont: Font family 'NanumGothic' not found.\n",
      "findfont: Font family 'NanumGothic' not found.\n",
      "findfont: Font family 'NanumGothic' not found.\n",
      "findfont: Font family 'NanumGothic' not found.\n",
      "findfont: Font family 'NanumGothic' not found.\n",
      "findfont: Font family 'NanumGothic' not found.\n",
      "findfont: Font family 'NanumGothic' not found.\n",
      "findfont: Font family 'NanumGothic' not found.\n",
      "findfont: Font family 'NanumGothic' not found.\n",
      "findfont: Font family 'NanumGothic' not found.\n",
      "findfont: Font family 'NanumGothic' not found.\n",
      "findfont: Font family 'NanumGothic' not found.\n",
      "findfont: Font family 'NanumGothic' not found.\n",
      "findfont: Font family 'NanumGothic' not found.\n",
      "findfont: Font family 'NanumGothic' not found.\n",
      "findfont: Font family 'NanumGothic' not found.\n",
      "findfont: Font family 'NanumGothic' not found.\n",
      "findfont: Font family 'NanumGothic' not found.\n",
      "findfont: Font family 'NanumGothic' not found.\n",
      "findfont: Font family 'NanumGothic' not found.\n",
      "findfont: Font family 'NanumGothic' not found.\n",
      "findfont: Font family 'NanumGothic' not found.\n",
      "findfont: Font family 'NanumGothic' not found.\n",
      "findfont: Font family 'NanumGothic' not found.\n",
      "findfont: Font family 'NanumGothic' not found.\n",
      "findfont: Font family 'NanumGothic' not found.\n"
     ]
    },
    {
     "data": {
      "image/png": "[encoded data removed]",
      "text/plain": [
       "<Figure size 640x480 with 1 Axes>"
      ]
     },
     "metadata": {},
     "output_type": "display_data"
    }
   ],
   "source": [
    "# 중요도가 높은 변수를 상위에 그림. \n",
    "df_importance.sort_values(\"Importance\", ascending=True, inplace = True)\n",
    "coordinates = range(len(df_importance))\n",
    "plt.barh(y = coordinates, width = df_importance[\"Importance\"])\n",
    "plt.yticks(coordinates, df_importance[\"Feature\"])\n",
    "plt.xlabel(\"변수 중요도\")\n",
    "plt.ylabel(\"변수\")"
   ]
  },
  {
   "cell_type": "markdown",
   "metadata": {},
   "source": []
  }
 ],
 "metadata": {
  "colab": {
   "authorship_tag": "ABX9TyPL/aaCZP2Uj+AILxUVPGuJ",
   "collapsed_sections": [
    "tq165YsvX5AH",
    "DoOXwxK9diJr",
    "CGAUfUL2YGVU",
    "pi3mc_9QZMci",
    "ov_V0gk8g5Zw",
    "yXvydzEYR9aZ"
   ],
   "mount_file_id": "1dN5JoJw0F6oDUB5aA-5Qw4wfmjcr5XuP",
   "provenance": []
  },
  "kernelspec": {
   "display_name": "Python [conda env:base] *",
   "language": "python",
   "name": "conda-base-py"
  },
  "language_info": {
   "codemirror_mode": {
    "name": "ipython",
    "version": 3
   },
   "file_extension": ".py",
   "mimetype": "text/x-python",
   "name": "python",
   "nbconvert_exporter": "python",
   "pygments_lexer": "ipython3",
   "version": "3.11.7"
  }
 },
 "nbformat": 4,
 "nbformat_minor": 4
}
